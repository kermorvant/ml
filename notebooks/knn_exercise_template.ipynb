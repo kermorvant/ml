{
 "cells": [
  {
   "cell_type": "markdown",
   "metadata": {
    "collapsed": true
   },
   "source": [
    "# k-Nearest Neighbors\n",
    "\n",
    "One of the most simple yet effective methods to automaticlally classify examples is the K-Nearest Neighbors\talgorithm (KNN). This algorithm is instance-based and non parametric : it does not try to model the examples to take a decision and, at test time, it only compares the new examples to the ones already seen during the training phase.\n",
    "\n",
    "\n",
    "\n",
    "## A simple example on a toy problem\n",
    "\n",
    "### Exercise\n",
    "\n",
    "You need to classify objects on which you have measured the length and width. The following objetcs have already been measured : \n",
    " \n",
    "A(1,1), B(3,1), C(2,2), D(6,2), E(2,3), F(5,3), G(7,3), H(6,4), I(3.5,3), J(5,6)\n",
    "\n",
    "The classes of the points are the following : \n",
    "\n",
    "* classe 1 : A,B,C and E\n",
    "* classe 2 : F, G, H, and J\n",
    "\n",
    "\n",
    "<img src=\"https://kermorvant.github.io/ml/images/exo_knn_points.png\">\n",
    " \n",
    "The distance between all the objects has been computed : \n",
    "\n",
    "<img src=\"https://kermorvant.github.io/ml/images/exo_knn_distances.png\" style=\"width:450px;\">\n",
    "\n",
    "**Question:**\n",
    "> What is the predicted class for the points D and I using a kNN classifier with k=1 and for k= 2 ?\n"
   ]
  },
  {
   "cell_type": "markdown",
   "metadata": {},
   "source": [
    "### Code\n",
    "\n",
    "Now, let's use scikit-learn to make the prediction. We will store the data into a pandas's dataframe : \n"
   ]
  },
  {
   "cell_type": "code",
   "execution_count": 3,
   "metadata": {},
   "outputs": [
    {
     "data": {
      "text/html": [
       "<div>\n",
       "<style>\n",
       "    .dataframe thead tr:only-child th {\n",
       "        text-align: right;\n",
       "    }\n",
       "\n",
       "    .dataframe thead th {\n",
       "        text-align: left;\n",
       "    }\n",
       "\n",
       "    .dataframe tbody tr th {\n",
       "        vertical-align: top;\n",
       "    }\n",
       "</style>\n",
       "<table border=\"1\" class=\"dataframe\">\n",
       "  <thead>\n",
       "    <tr style=\"text-align: right;\">\n",
       "      <th></th>\n",
       "      <th>length</th>\n",
       "      <th>width</th>\n",
       "      <th>class</th>\n",
       "    </tr>\n",
       "  </thead>\n",
       "  <tbody>\n",
       "    <tr>\n",
       "      <th>F</th>\n",
       "      <td>5.0</td>\n",
       "      <td>3.0</td>\n",
       "      <td>2</td>\n",
       "    </tr>\n",
       "    <tr>\n",
       "      <th>G</th>\n",
       "      <td>7.0</td>\n",
       "      <td>3.0</td>\n",
       "      <td>2</td>\n",
       "    </tr>\n",
       "    <tr>\n",
       "      <th>H</th>\n",
       "      <td>6.0</td>\n",
       "      <td>4.0</td>\n",
       "      <td>2</td>\n",
       "    </tr>\n",
       "    <tr>\n",
       "      <th>J</th>\n",
       "      <td>5.0</td>\n",
       "      <td>6.0</td>\n",
       "      <td>2</td>\n",
       "    </tr>\n",
       "    <tr>\n",
       "      <th>A</th>\n",
       "      <td>1.0</td>\n",
       "      <td>1.0</td>\n",
       "      <td>1</td>\n",
       "    </tr>\n",
       "    <tr>\n",
       "      <th>B</th>\n",
       "      <td>3.0</td>\n",
       "      <td>1.0</td>\n",
       "      <td>1</td>\n",
       "    </tr>\n",
       "    <tr>\n",
       "      <th>C</th>\n",
       "      <td>2.0</td>\n",
       "      <td>2.0</td>\n",
       "      <td>1</td>\n",
       "    </tr>\n",
       "    <tr>\n",
       "      <th>E</th>\n",
       "      <td>2.0</td>\n",
       "      <td>3.0</td>\n",
       "      <td>1</td>\n",
       "    </tr>\n",
       "    <tr>\n",
       "      <th>D</th>\n",
       "      <td>6.0</td>\n",
       "      <td>2.0</td>\n",
       "      <td>?</td>\n",
       "    </tr>\n",
       "    <tr>\n",
       "      <th>I</th>\n",
       "      <td>3.5</td>\n",
       "      <td>3.0</td>\n",
       "      <td>?</td>\n",
       "    </tr>\n",
       "  </tbody>\n",
       "</table>\n",
       "</div>"
      ],
      "text/plain": [
       "   length  width class\n",
       "F     5.0    3.0     2\n",
       "G     7.0    3.0     2\n",
       "H     6.0    4.0     2\n",
       "J     5.0    6.0     2\n",
       "A     1.0    1.0     1\n",
       "B     3.0    1.0     1\n",
       "C     2.0    2.0     1\n",
       "E     2.0    3.0     1\n",
       "D     6.0    2.0     ?\n",
       "I     3.5    3.0     ?"
      ]
     },
     "execution_count": 3,
     "metadata": {},
     "output_type": "execute_result"
    }
   ],
   "source": [
    "import pandas as pd\n",
    "df = pd.DataFrame([[5,3,'2'],[7,3,'2'],[6,4,'2'],[5,6,'2'],\n",
    "                    [1,1.0,'1'],[3,1,'1'],[2,2,'1'],[2,3,'1'],\n",
    "                   [6,2,'?'],[3.5,3,'?']],\n",
    "                  columns=['length','width','class'],\n",
    "                  index=['F','G','H','J','A','B','C','E','D','I']\n",
    "                 )\n",
    "df"
   ]
  },
  {
   "cell_type": "markdown",
   "metadata": {},
   "source": [
    "Let's plot the data with the following code : "
   ]
  },
  {
   "cell_type": "code",
   "execution_count": 4,
   "metadata": {},
   "outputs": [
    {
     "data": {
      "image/png": "[encoded data removed]",
      "text/plain": [
       "<matplotlib.figure.Figure at 0x113df69b0>"
      ]
     },
     "metadata": {},
     "output_type": "display_data"
    }
   ],
   "source": [
    "import seaborn as sns\n",
    "import matplotlib.pyplot as plt\n",
    "# Display graphics in notebook\n",
    "%matplotlib inline \n",
    "sns.lmplot(x=\"length\", y=\"width\",hue='class', data=df,fit_reg=False);\n",
    "# Add the point's names\n",
    "for i, point in df.iterrows():\n",
    "        plt.gca().text(point['length']+.15, point['width'], str(i))\n"
   ]
  },
  {
   "cell_type": "markdown",
   "metadata": {},
   "source": [
    "Now, we need to define the training and test sets : points A to J are in training set and points D and I are in test set. The features (X) are the length and the width of the object and the class is the target (y). Use the slicing notation to define the train and test set :\n",
    "\n",
    "* `data[0:5]` : select the lines form 0 (the first index in python) to 5 excluded;\n",
    "* `data[0:5][['length','class']]` : select the columns length and class\n",
    "* `data['class']` : select the column class\n"
   ]
  },
  {
   "cell_type": "code",
   "execution_count": null,
   "metadata": {
    "collapsed": true
   },
   "outputs": [],
   "source": [
    "# YOUR CODE HERE, replace None with the correct values\n",
    "X_train = df[None][[None]]\n",
    "y_train = df[None][[None]]\n",
    "X_test = df[None][[None]]\n",
    "y_test = df[None][[None]]\n"
   ]
  },
  {
   "cell_type": "code",
   "execution_count": null,
   "metadata": {
    "collapsed": true
   },
   "outputs": [],
   "source": [
    "# Check that this your code is correct\n",
    "assert(len(X_train)==8)\n",
    "assert(len(y_train)==len(X_train))\n",
    "assert(len(X_test)==2)\n",
    "assert(len(y_test)==len(X_test))\n",
    "print ('All is correct')"
   ]
  },
  {
   "cell_type": "markdown",
   "metadata": {},
   "source": [
    "We make the prediction with the [NearestNeighbor classifier from scikit-learn] (http://scikit-learn.org/stable/modules/generated/sklearn.neighbors.KNeighborsClassifier.html).\n",
    "\n",
    "First the classifier is trained with the function `.fit(features_train,target_train)` using the training set features and target. \n"
   ]
  },
  {
   "cell_type": "code",
   "execution_count": null,
   "metadata": {
    "collapsed": true
   },
   "outputs": [],
   "source": [
    "from sklearn.neighbors import KNeighborsClassifier\n",
    "\n",
    "clf = KNeighborsClassifier(n_neighbors=1)\n",
    "clf.fit(None,None)# YOUR CODE HERE\n"
   ]
  },
  {
   "cell_type": "markdown",
   "metadata": {},
   "source": [
    "Then the classifier is tested  on the test set with  `.predict(features_test)`. "
   ]
  },
  {
   "cell_type": "code",
   "execution_count": null,
   "metadata": {
    "collapsed": true
   },
   "outputs": [],
   "source": [
    "predictions = clf.predict(None)# YOUR CODE HERE\n",
    "print (X_test.index[0], 'is of class',predictions[0])\n",
    "print (X_test.index[1], 'is of class',predictions[1])\n"
   ]
  },
  {
   "cell_type": "markdown",
   "metadata": {},
   "source": [
    "**Question:**\n",
    "> * Explain why both D and I examples are predicted to belong to the class 2. \n",
    "> * Change the number of nearest neighbors in the classifier and study the impact on the classification of D and I"
   ]
  },
  {
   "cell_type": "code",
   "execution_count": null,
   "metadata": {
    "collapsed": true
   },
   "outputs": [],
   "source": []
  }
 ],
 "metadata": {
  "kernelspec": {
   "display_name": "Python 3",
   "language": "python",
   "name": "python3"
  },
  "language_info": {
   "codemirror_mode": {
    "name": "ipython",
    "version": 3
   },
   "file_extension": ".py",
   "mimetype": "text/x-python",
   "name": "python",
   "nbconvert_exporter": "python",
   "pygments_lexer": "ipython3",
   "version": "3.8.5"
  }
 },
 "nbformat": 4,
 "nbformat_minor": 2
}
