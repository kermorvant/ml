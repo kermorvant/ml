{
 "cells": [
  {
   "cell_type": "code",
   "execution_count": 1,
   "metadata": {
    "collapsed": true
   },
   "outputs": [],
   "source": [
    "import pandas as pd\n",
    "import numpy as np\n",
    "from sklearn import metrics, neighbors, linear_model\n",
    "from sklearn.model_selection import train_test_split \n",
    "%matplotlib inline\n",
    "from IPython.display import clear_output"
   ]
  },
  {
   "cell_type": "code",
   "execution_count": null,
   "metadata": {
    "collapsed": true
   },
   "outputs": [],
   "source": [
    "from tqdm import tqdm\n",
    "from PIL import Image, ImageFilter\n",
    "import os\n",
    "DATA_PATH = 'Data/'\n",
    "DEFAULT_SUBRESOLUTION = (8,8)\n",
    "def extract_features_subresolution(img,img_feature_size = DEFAULT_SUBRESOLUTION):\n",
    "    # reduce the image to a given size\n",
    "    reduced_img = img.resize(\n",
    "        img_feature_size, Image.BOX).filter(ImageFilter.SHARPEN)\n",
    "    # return the values of the reduced image as features\n",
    "    return [i for i in reduced_img.getdata()]\n",
    "\n",
    "all_df = pd.read_csv(\"Data/MNIST_all.csv\",header=None,names=['filename','class'])\n",
    "all_df = all_df.sample(frac=1).reset_index(drop=True)\n",
    "\n",
    "SAMPLE = 2000\n",
    "file_list = all_df['filename']\n",
    "y = all_df['class']\n",
    "data = []\n",
    "for i_path in tqdm(file_list):\n",
    "    page_image = Image.open(os.path.join(DATA_PATH,i_path))\n",
    "    data.append(extract_features_subresolution(page_image,DEFAULT_SUBRESOLUTION))\n",
    "\n",
    "\n",
    "X = np.array(data)\n",
    "\n",
    "# Feature size should be DEFAULT_SUBRESOLUTION\n",
    "print (\"feature size\",X.shape[1])\n",
    "print (\"number of samples\",X.shape[0])"
   ]
  },
  {
   "cell_type": "code",
   "execution_count": null,
   "metadata": {
    "collapsed": true
   },
   "outputs": [],
   "source": [
    "## Train a logistic regression classifier here"
   ]
  },
  {
   "cell_type": "code",
   "execution_count": null,
   "metadata": {
    "collapsed": true
   },
   "outputs": [],
   "source": [
    "# Increasing Training set\n",
    "SIZES = [## PUT THE SIZES HERE]\n",
    "\n",
    "# store the scores in a dataframe\n",
    "df_scores = pd.DataFrame(columns=['LogRegTrain','LogRegTest','1NNTrain','1NNTest','6NNTrain','6NNTest'],index=SIZES)\n",
    "X_train, X_test, y_train, y_test = train_test_split(X, y, test_size=0.2)\n",
    "\n",
    "for sub_size in SIZES:\n",
    "    ## DEFINE THE CLASSIFIERS HERE\n",
    "    \n",
    "    # Subsample with the current size\n",
    "    X_sub = X_train[:][:sub_size]  \n",
    "    y_sub = y_train[:][:sub_size]\n",
    "    \n",
    "    \n",
    "    ## TRAIN THE CLASSIFIER HERE\n",
    "\n",
    "    ## COMPUTE THE ACCURACY ON THE TRAINING AND TEST SET HERE\n",
    "    ## Store in df_scores : df_scores.at[sub_size,'LogRegTrain'] = \n",
    "    \n",
    "    clear_output(wait=True)\n",
    "    print(df_scores)\n",
    "styles1 = ['bs--','bs-','r^--','r^-','go--','go-']\n",
    "df_scores.plot(style=styles1)"
   ]
  }
 ],
 "metadata": {
  "kernelspec": {
   "display_name": "Python 3",
   "language": "python",
   "name": "python3"
  },
  "language_info": {
   "codemirror_mode": {
    "name": "ipython",
    "version": 3
   },
   "file_extension": ".py",
   "mimetype": "text/x-python",
   "name": "python",
   "nbconvert_exporter": "python",
   "pygments_lexer": "ipython3",
   "version": "3.6.2"
  }
 },
 "nbformat": 4,
 "nbformat_minor": 2
}
