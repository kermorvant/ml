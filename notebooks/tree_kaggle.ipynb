{
 "cells": [
  {
   "cell_type": "markdown",
   "metadata": {},
   "source": [
    "## Salary prediction for Kaggle Data Scientists\n",
    "\n",
    "In this exercise, we will explore the data from the 2017 Kaggle survey. The goal is to find what is the most important criterion for the salary of a data scientist. The data is available [here](https://kermorvant.github.io/csexed-ml/data/multipleChoiceResponses.csv)\n",
    "\n",
    "**Questions:**\n",
    "> * Load the Kaggle dataset with `pd.read_csv('multipleChoiceResponses.csv')` \n",
    "> * print a few lines of the dataset (`df.head()`) and compute basic statistics (`df.describe()`)\n"
   ]
  },
  {
   "cell_type": "code",
   "execution_count": 28,
   "metadata": {},
   "outputs": [
    {
     "data": {
      "text/html": [
       "<div>\n",
       "<style>\n",
       "    .dataframe thead tr:only-child th {\n",
       "        text-align: right;\n",
       "    }\n",
       "\n",
       "    .dataframe thead th {\n",
       "        text-align: left;\n",
       "    }\n",
       "\n",
       "    .dataframe tbody tr th {\n",
       "        vertical-align: top;\n",
       "    }\n",
       "</style>\n",
       "<table border=\"1\" class=\"dataframe\">\n",
       "  <thead>\n",
       "    <tr style=\"text-align: right;\">\n",
       "      <th></th>\n",
       "      <th>GenderSelect</th>\n",
       "      <th>Country</th>\n",
       "      <th>Age</th>\n",
       "      <th>EmploymentStatus</th>\n",
       "      <th>StudentStatus</th>\n",
       "      <th>LearningDataScience</th>\n",
       "      <th>CodeWriter</th>\n",
       "      <th>CareerSwitcher</th>\n",
       "      <th>CurrentJobTitleSelect</th>\n",
       "      <th>TitleFit</th>\n",
       "      <th>...</th>\n",
       "      <th>JobFactorExperienceLevel</th>\n",
       "      <th>JobFactorDepartment</th>\n",
       "      <th>JobFactorTitle</th>\n",
       "      <th>JobFactorCompanyFunding</th>\n",
       "      <th>JobFactorImpact</th>\n",
       "      <th>JobFactorRemote</th>\n",
       "      <th>JobFactorIndustry</th>\n",
       "      <th>JobFactorLeaderReputation</th>\n",
       "      <th>JobFactorDiversity</th>\n",
       "      <th>JobFactorPublishingOpportunity</th>\n",
       "    </tr>\n",
       "  </thead>\n",
       "  <tbody>\n",
       "    <tr>\n",
       "      <th>0</th>\n",
       "      <td>Non-binary, genderqueer, or gender non-conforming</td>\n",
       "      <td>NaN</td>\n",
       "      <td>NaN</td>\n",
       "      <td>Employed full-time</td>\n",
       "      <td>NaN</td>\n",
       "      <td>NaN</td>\n",
       "      <td>Yes</td>\n",
       "      <td>NaN</td>\n",
       "      <td>DBA/Database Engineer</td>\n",
       "      <td>Fine</td>\n",
       "      <td>...</td>\n",
       "      <td>NaN</td>\n",
       "      <td>NaN</td>\n",
       "      <td>NaN</td>\n",
       "      <td>NaN</td>\n",
       "      <td>NaN</td>\n",
       "      <td>NaN</td>\n",
       "      <td>NaN</td>\n",
       "      <td>NaN</td>\n",
       "      <td>NaN</td>\n",
       "      <td>NaN</td>\n",
       "    </tr>\n",
       "    <tr>\n",
       "      <th>1</th>\n",
       "      <td>Female</td>\n",
       "      <td>United States</td>\n",
       "      <td>30.0</td>\n",
       "      <td>Not employed, but looking for work</td>\n",
       "      <td>NaN</td>\n",
       "      <td>NaN</td>\n",
       "      <td>NaN</td>\n",
       "      <td>NaN</td>\n",
       "      <td>NaN</td>\n",
       "      <td>NaN</td>\n",
       "      <td>...</td>\n",
       "      <td>NaN</td>\n",
       "      <td>NaN</td>\n",
       "      <td>NaN</td>\n",
       "      <td>NaN</td>\n",
       "      <td>NaN</td>\n",
       "      <td>NaN</td>\n",
       "      <td>NaN</td>\n",
       "      <td>Somewhat important</td>\n",
       "      <td>NaN</td>\n",
       "      <td>NaN</td>\n",
       "    </tr>\n",
       "    <tr>\n",
       "      <th>2</th>\n",
       "      <td>Male</td>\n",
       "      <td>Canada</td>\n",
       "      <td>28.0</td>\n",
       "      <td>Not employed, but looking for work</td>\n",
       "      <td>NaN</td>\n",
       "      <td>NaN</td>\n",
       "      <td>NaN</td>\n",
       "      <td>NaN</td>\n",
       "      <td>NaN</td>\n",
       "      <td>NaN</td>\n",
       "      <td>...</td>\n",
       "      <td>Very Important</td>\n",
       "      <td>Very Important</td>\n",
       "      <td>Very Important</td>\n",
       "      <td>Very Important</td>\n",
       "      <td>Very Important</td>\n",
       "      <td>Very Important</td>\n",
       "      <td>Very Important</td>\n",
       "      <td>Very Important</td>\n",
       "      <td>Very Important</td>\n",
       "      <td>Very Important</td>\n",
       "    </tr>\n",
       "    <tr>\n",
       "      <th>3</th>\n",
       "      <td>Male</td>\n",
       "      <td>United States</td>\n",
       "      <td>56.0</td>\n",
       "      <td>Independent contractor, freelancer, or self-em...</td>\n",
       "      <td>NaN</td>\n",
       "      <td>NaN</td>\n",
       "      <td>Yes</td>\n",
       "      <td>NaN</td>\n",
       "      <td>Operations Research Practitioner</td>\n",
       "      <td>Poorly</td>\n",
       "      <td>...</td>\n",
       "      <td>NaN</td>\n",
       "      <td>NaN</td>\n",
       "      <td>NaN</td>\n",
       "      <td>NaN</td>\n",
       "      <td>NaN</td>\n",
       "      <td>NaN</td>\n",
       "      <td>NaN</td>\n",
       "      <td>NaN</td>\n",
       "      <td>NaN</td>\n",
       "      <td>NaN</td>\n",
       "    </tr>\n",
       "    <tr>\n",
       "      <th>4</th>\n",
       "      <td>Male</td>\n",
       "      <td>Taiwan</td>\n",
       "      <td>38.0</td>\n",
       "      <td>Employed full-time</td>\n",
       "      <td>NaN</td>\n",
       "      <td>NaN</td>\n",
       "      <td>Yes</td>\n",
       "      <td>NaN</td>\n",
       "      <td>Computer Scientist</td>\n",
       "      <td>Fine</td>\n",
       "      <td>...</td>\n",
       "      <td>NaN</td>\n",
       "      <td>NaN</td>\n",
       "      <td>NaN</td>\n",
       "      <td>NaN</td>\n",
       "      <td>NaN</td>\n",
       "      <td>NaN</td>\n",
       "      <td>NaN</td>\n",
       "      <td>NaN</td>\n",
       "      <td>NaN</td>\n",
       "      <td>NaN</td>\n",
       "    </tr>\n",
       "  </tbody>\n",
       "</table>\n",
       "<p>5 rows × 228 columns</p>\n",
       "</div>"
      ],
      "text/plain": [
       "                                        GenderSelect        Country   Age  \\\n",
       "0  Non-binary, genderqueer, or gender non-conforming            NaN   NaN   \n",
       "1                                             Female  United States  30.0   \n",
       "2                                               Male         Canada  28.0   \n",
       "3                                               Male  United States  56.0   \n",
       "4                                               Male         Taiwan  38.0   \n",
       "\n",
       "                                    EmploymentStatus StudentStatus  \\\n",
       "0                                 Employed full-time           NaN   \n",
       "1                 Not employed, but looking for work           NaN   \n",
       "2                 Not employed, but looking for work           NaN   \n",
       "3  Independent contractor, freelancer, or self-em...           NaN   \n",
       "4                                 Employed full-time           NaN   \n",
       "\n",
       "  LearningDataScience CodeWriter CareerSwitcher  \\\n",
       "0                 NaN        Yes            NaN   \n",
       "1                 NaN        NaN            NaN   \n",
       "2                 NaN        NaN            NaN   \n",
       "3                 NaN        Yes            NaN   \n",
       "4                 NaN        Yes            NaN   \n",
       "\n",
       "              CurrentJobTitleSelect TitleFit              ...                \\\n",
       "0             DBA/Database Engineer     Fine              ...                 \n",
       "1                               NaN      NaN              ...                 \n",
       "2                               NaN      NaN              ...                 \n",
       "3  Operations Research Practitioner   Poorly              ...                 \n",
       "4                Computer Scientist     Fine              ...                 \n",
       "\n",
       "  JobFactorExperienceLevel JobFactorDepartment  JobFactorTitle  \\\n",
       "0                      NaN                 NaN             NaN   \n",
       "1                      NaN                 NaN             NaN   \n",
       "2           Very Important      Very Important  Very Important   \n",
       "3                      NaN                 NaN             NaN   \n",
       "4                      NaN                 NaN             NaN   \n",
       "\n",
       "  JobFactorCompanyFunding JobFactorImpact JobFactorRemote JobFactorIndustry  \\\n",
       "0                     NaN             NaN             NaN               NaN   \n",
       "1                     NaN             NaN             NaN               NaN   \n",
       "2          Very Important  Very Important  Very Important    Very Important   \n",
       "3                     NaN             NaN             NaN               NaN   \n",
       "4                     NaN             NaN             NaN               NaN   \n",
       "\n",
       "  JobFactorLeaderReputation JobFactorDiversity JobFactorPublishingOpportunity  \n",
       "0                       NaN                NaN                            NaN  \n",
       "1        Somewhat important                NaN                            NaN  \n",
       "2            Very Important     Very Important                 Very Important  \n",
       "3                       NaN                NaN                            NaN  \n",
       "4                       NaN                NaN                            NaN  \n",
       "\n",
       "[5 rows x 228 columns]"
      ]
     },
     "execution_count": 28,
     "metadata": {},
     "output_type": "execute_result"
    }
   ],
   "source": [
    "import pandas as pd\n",
    "import seaborn as sns\n",
    "import numpy as np\n",
    "import matplotlib.pyplot as plt\n",
    "%matplotlib inline\n",
    "df = pd.read_csv('../data/multipleChoiceResponses.csv',encoding=\"ISO-8859-1\",low_memory=False) # low_memory=False to remove warning\n",
    "df.head()"
   ]
  },
  {
   "cell_type": "code",
   "execution_count": 29,
   "metadata": {},
   "outputs": [
    {
     "data": {
      "text/html": [
       "<div>\n",
       "<style>\n",
       "    .dataframe thead tr:only-child th {\n",
       "        text-align: right;\n",
       "    }\n",
       "\n",
       "    .dataframe thead th {\n",
       "        text-align: left;\n",
       "    }\n",
       "\n",
       "    .dataframe tbody tr th {\n",
       "        vertical-align: top;\n",
       "    }\n",
       "</style>\n",
       "<table border=\"1\" class=\"dataframe\">\n",
       "  <thead>\n",
       "    <tr style=\"text-align: right;\">\n",
       "      <th></th>\n",
       "      <th>Age</th>\n",
       "      <th>LearningCategorySelftTaught</th>\n",
       "      <th>LearningCategoryOnlineCourses</th>\n",
       "      <th>LearningCategoryWork</th>\n",
       "      <th>LearningCategoryUniversity</th>\n",
       "      <th>LearningCategoryKaggle</th>\n",
       "      <th>LearningCategoryOther</th>\n",
       "      <th>TimeGatheringData</th>\n",
       "      <th>TimeModelBuilding</th>\n",
       "      <th>TimeProduction</th>\n",
       "      <th>TimeVisualizing</th>\n",
       "      <th>TimeFindingInsights</th>\n",
       "      <th>TimeOtherSelect</th>\n",
       "    </tr>\n",
       "  </thead>\n",
       "  <tbody>\n",
       "    <tr>\n",
       "      <th>count</th>\n",
       "      <td>16385.000000</td>\n",
       "      <td>13109.000000</td>\n",
       "      <td>13126.000000</td>\n",
       "      <td>13111.000000</td>\n",
       "      <td>13122.000000</td>\n",
       "      <td>13126.000000</td>\n",
       "      <td>13094.000000</td>\n",
       "      <td>7530.000000</td>\n",
       "      <td>7528.000000</td>\n",
       "      <td>7517.000000</td>\n",
       "      <td>7529.000000</td>\n",
       "      <td>7523.000000</td>\n",
       "      <td>7513.000000</td>\n",
       "    </tr>\n",
       "    <tr>\n",
       "      <th>mean</th>\n",
       "      <td>32.372841</td>\n",
       "      <td>33.366771</td>\n",
       "      <td>27.375514</td>\n",
       "      <td>15.217593</td>\n",
       "      <td>16.988607</td>\n",
       "      <td>5.531434</td>\n",
       "      <td>1.795940</td>\n",
       "      <td>36.144754</td>\n",
       "      <td>21.268066</td>\n",
       "      <td>10.806372</td>\n",
       "      <td>13.869372</td>\n",
       "      <td>13.094776</td>\n",
       "      <td>2.396247</td>\n",
       "    </tr>\n",
       "    <tr>\n",
       "      <th>std</th>\n",
       "      <td>10.473487</td>\n",
       "      <td>25.787181</td>\n",
       "      <td>26.860840</td>\n",
       "      <td>18.996778</td>\n",
       "      <td>23.676917</td>\n",
       "      <td>11.072680</td>\n",
       "      <td>9.357886</td>\n",
       "      <td>21.649591</td>\n",
       "      <td>16.165958</td>\n",
       "      <td>12.257932</td>\n",
       "      <td>11.722945</td>\n",
       "      <td>12.974846</td>\n",
       "      <td>12.157137</td>\n",
       "    </tr>\n",
       "    <tr>\n",
       "      <th>min</th>\n",
       "      <td>0.000000</td>\n",
       "      <td>0.000000</td>\n",
       "      <td>0.000000</td>\n",
       "      <td>0.000000</td>\n",
       "      <td>0.000000</td>\n",
       "      <td>0.000000</td>\n",
       "      <td>0.000000</td>\n",
       "      <td>0.000000</td>\n",
       "      <td>0.000000</td>\n",
       "      <td>0.000000</td>\n",
       "      <td>0.000000</td>\n",
       "      <td>0.000000</td>\n",
       "      <td>0.000000</td>\n",
       "    </tr>\n",
       "    <tr>\n",
       "      <th>25%</th>\n",
       "      <td>25.000000</td>\n",
       "      <td>15.000000</td>\n",
       "      <td>5.000000</td>\n",
       "      <td>0.000000</td>\n",
       "      <td>0.000000</td>\n",
       "      <td>0.000000</td>\n",
       "      <td>0.000000</td>\n",
       "      <td>20.000000</td>\n",
       "      <td>10.000000</td>\n",
       "      <td>0.000000</td>\n",
       "      <td>5.000000</td>\n",
       "      <td>5.000000</td>\n",
       "      <td>0.000000</td>\n",
       "    </tr>\n",
       "    <tr>\n",
       "      <th>50%</th>\n",
       "      <td>30.000000</td>\n",
       "      <td>30.000000</td>\n",
       "      <td>20.000000</td>\n",
       "      <td>10.000000</td>\n",
       "      <td>5.000000</td>\n",
       "      <td>0.000000</td>\n",
       "      <td>0.000000</td>\n",
       "      <td>35.000000</td>\n",
       "      <td>20.000000</td>\n",
       "      <td>10.000000</td>\n",
       "      <td>10.000000</td>\n",
       "      <td>10.000000</td>\n",
       "      <td>0.000000</td>\n",
       "    </tr>\n",
       "    <tr>\n",
       "      <th>75%</th>\n",
       "      <td>37.000000</td>\n",
       "      <td>50.000000</td>\n",
       "      <td>40.000000</td>\n",
       "      <td>25.000000</td>\n",
       "      <td>30.000000</td>\n",
       "      <td>10.000000</td>\n",
       "      <td>0.000000</td>\n",
       "      <td>50.000000</td>\n",
       "      <td>30.000000</td>\n",
       "      <td>15.000000</td>\n",
       "      <td>20.000000</td>\n",
       "      <td>20.000000</td>\n",
       "      <td>0.000000</td>\n",
       "    </tr>\n",
       "    <tr>\n",
       "      <th>max</th>\n",
       "      <td>100.000000</td>\n",
       "      <td>100.000000</td>\n",
       "      <td>100.000000</td>\n",
       "      <td>100.000000</td>\n",
       "      <td>100.000000</td>\n",
       "      <td>100.000000</td>\n",
       "      <td>100.000000</td>\n",
       "      <td>100.000000</td>\n",
       "      <td>100.000000</td>\n",
       "      <td>100.000000</td>\n",
       "      <td>100.000000</td>\n",
       "      <td>303.000000</td>\n",
       "      <td>100.000000</td>\n",
       "    </tr>\n",
       "  </tbody>\n",
       "</table>\n",
       "</div>"
      ],
      "text/plain": [
       "                Age  LearningCategorySelftTaught  \\\n",
       "count  16385.000000                 13109.000000   \n",
       "mean      32.372841                    33.366771   \n",
       "std       10.473487                    25.787181   \n",
       "min        0.000000                     0.000000   \n",
       "25%       25.000000                    15.000000   \n",
       "50%       30.000000                    30.000000   \n",
       "75%       37.000000                    50.000000   \n",
       "max      100.000000                   100.000000   \n",
       "\n",
       "       LearningCategoryOnlineCourses  LearningCategoryWork  \\\n",
       "count                   13126.000000          13111.000000   \n",
       "mean                       27.375514             15.217593   \n",
       "std                        26.860840             18.996778   \n",
       "min                         0.000000              0.000000   \n",
       "25%                         5.000000              0.000000   \n",
       "50%                        20.000000             10.000000   \n",
       "75%                        40.000000             25.000000   \n",
       "max                       100.000000            100.000000   \n",
       "\n",
       "       LearningCategoryUniversity  LearningCategoryKaggle  \\\n",
       "count                13122.000000            13126.000000   \n",
       "mean                    16.988607                5.531434   \n",
       "std                     23.676917               11.072680   \n",
       "min                      0.000000                0.000000   \n",
       "25%                      0.000000                0.000000   \n",
       "50%                      5.000000                0.000000   \n",
       "75%                     30.000000               10.000000   \n",
       "max                    100.000000              100.000000   \n",
       "\n",
       "       LearningCategoryOther  TimeGatheringData  TimeModelBuilding  \\\n",
       "count           13094.000000        7530.000000        7528.000000   \n",
       "mean                1.795940          36.144754          21.268066   \n",
       "std                 9.357886          21.649591          16.165958   \n",
       "min                 0.000000           0.000000           0.000000   \n",
       "25%                 0.000000          20.000000          10.000000   \n",
       "50%                 0.000000          35.000000          20.000000   \n",
       "75%                 0.000000          50.000000          30.000000   \n",
       "max               100.000000         100.000000         100.000000   \n",
       "\n",
       "       TimeProduction  TimeVisualizing  TimeFindingInsights  TimeOtherSelect  \n",
       "count     7517.000000      7529.000000          7523.000000      7513.000000  \n",
       "mean        10.806372        13.869372            13.094776         2.396247  \n",
       "std         12.257932        11.722945            12.974846        12.157137  \n",
       "min          0.000000         0.000000             0.000000         0.000000  \n",
       "25%          0.000000         5.000000             5.000000         0.000000  \n",
       "50%         10.000000        10.000000            10.000000         0.000000  \n",
       "75%         15.000000        20.000000            20.000000         0.000000  \n",
       "max        100.000000       100.000000           303.000000       100.000000  "
      ]
     },
     "execution_count": 29,
     "metadata": {},
     "output_type": "execute_result"
    }
   ],
   "source": [
    "df.describe()"
   ]
  },
  {
   "cell_type": "markdown",
   "metadata": {},
   "source": [
    "Since we want to predict the salary (CompensationAmount), we keep only the responses which include a value for the salary and also the currency (CompensationCurrency) used for the salary. \n",
    "\n",
    "**Questions:**\n",
    "> * use the function `df.dropna()` to only keep the examples in the dataframe for which CompensationAmount and CompensationCurrency are not null.\n"
   ]
  },
  {
   "cell_type": "code",
   "execution_count": 30,
   "metadata": {},
   "outputs": [
    {
     "name": "stdout",
     "output_type": "stream",
     "text": [
      "(4377, 228)\n",
      "   CompensationAmount CompensationCurrency\n",
      "3             250,000                  USD\n",
      "8               80000                  AUD\n",
      "9             1200000                  RUB\n",
      "11             95,000                  INR\n",
      "14            1100000                  TWD\n",
      "21              20000                  USD\n",
      "22             100000                  USD\n",
      "23              20000                  CZK\n",
      "25             624000                  RUB\n",
      "27          156000000                  COP\n"
     ]
    }
   ],
   "source": [
    "# We need salary and currency\n",
    "df.dropna(subset=['CompensationAmount','CompensationCurrency'],inplace=True) # Your code here\n",
    "print (df.shape)\n",
    "print (df[['CompensationAmount','CompensationCurrency']][:10])"
   ]
  },
  {
   "cell_type": "markdown",
   "metadata": {},
   "source": [
    "The salary values are not normalized : some include the thousand separator ',' and some include a space. We need to normalize the values : \n",
    "* remove the ,\n",
    "* convert to numeric with `pd.to_numeric``\n"
   ]
  },
  {
   "cell_type": "code",
   "execution_count": 31,
   "metadata": {},
   "outputs": [
    {
     "name": "stdout",
     "output_type": "stream",
     "text": [
      "Could not convert  3 values\n"
     ]
    }
   ],
   "source": [
    "df['Salary']=pd.to_numeric(df['CompensationAmount'].str.replace(',',''),errors='coerce') # coerce error to Not a number (Nan)\n",
    "df['Salary'].isnull().sum()\n",
    "print (\"Could not convert \",df['Salary'].isnull().sum(),\"values\")"
   ]
  },
  {
   "cell_type": "markdown",
   "metadata": {},
   "source": [
    "### Currency conversion\n",
    "\n",
    "The salary is not always given in USD, so we need to convert all the amount in USD. A conversion table is given [here](https://kermorvant.github.io/csexed-ml/data/conversionRates.csv). We will \n",
    "* load this file and create a function to convert a tuple (amout,currency) in USD\n",
    "* apply this function to the dataframe with the function `apply(func,axis=1)`\n"
   ]
  },
  {
   "cell_type": "code",
   "execution_count": 32,
   "metadata": {},
   "outputs": [
    {
     "data": {
      "text/html": [
       "<div>\n",
       "<style>\n",
       "    .dataframe thead tr:only-child th {\n",
       "        text-align: right;\n",
       "    }\n",
       "\n",
       "    .dataframe thead th {\n",
       "        text-align: left;\n",
       "    }\n",
       "\n",
       "    .dataframe tbody tr th {\n",
       "        vertical-align: top;\n",
       "    }\n",
       "</style>\n",
       "<table border=\"1\" class=\"dataframe\">\n",
       "  <thead>\n",
       "    <tr style=\"text-align: right;\">\n",
       "      <th></th>\n",
       "      <th>exchangeRate</th>\n",
       "    </tr>\n",
       "    <tr>\n",
       "      <th>originCountry</th>\n",
       "      <th></th>\n",
       "    </tr>\n",
       "  </thead>\n",
       "  <tbody>\n",
       "    <tr>\n",
       "      <th>USD</th>\n",
       "      <td>1.000000</td>\n",
       "    </tr>\n",
       "    <tr>\n",
       "      <th>EUR</th>\n",
       "      <td>1.195826</td>\n",
       "    </tr>\n",
       "    <tr>\n",
       "      <th>INR</th>\n",
       "      <td>0.015620</td>\n",
       "    </tr>\n",
       "    <tr>\n",
       "      <th>GBP</th>\n",
       "      <td>1.324188</td>\n",
       "    </tr>\n",
       "    <tr>\n",
       "      <th>BRL</th>\n",
       "      <td>0.321350</td>\n",
       "    </tr>\n",
       "  </tbody>\n",
       "</table>\n",
       "</div>"
      ],
      "text/plain": [
       "               exchangeRate\n",
       "originCountry              \n",
       "USD                1.000000\n",
       "EUR                1.195826\n",
       "INR                0.015620\n",
       "GBP                1.324188\n",
       "BRL                0.321350"
      ]
     },
     "execution_count": 32,
     "metadata": {},
     "output_type": "execute_result"
    }
   ],
   "source": [
    "# load the conversion values\n",
    "df_converter = pd.read_csv('../data/conversionRates.csv',index_col=0)\n",
    "df_converter.head()"
   ]
  },
  {
   "cell_type": "code",
   "execution_count": 33,
   "metadata": {},
   "outputs": [
    {
     "name": "stdout",
     "output_type": "stream",
     "text": [
      "1 USD = 1.0 USD\n",
      "1 euro= 1.195826 USD\n"
     ]
    }
   ],
   "source": [
    "# define currency conversion function\n",
    "def convert(x):\n",
    "    \"\"\"\n",
    "    x[0] is the amount\n",
    "    x[1] is the currency\n",
    "    \"\"\"\n",
    "    return x[0]*df_converter.loc[x[1]]['exchangeRate']\n",
    "print (\"1 USD =\",convert ([1,'USD']),'USD')\n",
    "print (\"1 euro=\",convert ([1,'EUR']),'USD')"
   ]
  },
  {
   "cell_type": "code",
   "execution_count": 34,
   "metadata": {},
   "outputs": [
    {
     "data": {
      "text/plain": [
       "count    4.374000e+03\n",
       "mean     6.589698e+06\n",
       "std      4.278753e+08\n",
       "min     -7.351631e+01\n",
       "25%      2.052000e+04\n",
       "50%      5.381217e+04\n",
       "75%      9.566608e+04\n",
       "max      2.829740e+10\n",
       "Name: SalaryUSD, dtype: float64"
      ]
     },
     "execution_count": 34,
     "metadata": {},
     "output_type": "execute_result"
    }
   ],
   "source": [
    "# Then we apply the conversion function to the dataframe to create a new column with the salary in USD\n",
    "df['SalaryUSD'] = df[['Salary','CompensationCurrency']].apply(convert,axis=1)\n",
    "df['SalaryUSD'].describe()"
   ]
  },
  {
   "cell_type": "markdown",
   "metadata": {},
   "source": [
    "### Outlier removal\n",
    "\n",
    "The salary data is not ready yet ! We see that we have negative salaries and salaries greater than 1M USD. These values are outliers, they must be removed. We will use the percentile to remove the outliers."
   ]
  },
  {
   "cell_type": "code",
   "execution_count": 35,
   "metadata": {},
   "outputs": [
    {
     "name": "stdout",
     "output_type": "stream",
     "text": [
      "Salary will be between  4685 USD and  143499 USD\n",
      "Dataframe size after outlier removal: (3494, 230)\n"
     ]
    },
    {
     "data": {
      "image/png": "[encoded data removed]",
      "text/plain": [
       "<matplotlib.figure.Figure at 0x11a065940>"
      ]
     },
     "metadata": {},
     "output_type": "display_data"
    }
   ],
   "source": [
    "maxval = df['SalaryUSD'].quantile(0.9)\n",
    "minval = df['SalaryUSD'].quantile(0.1)\n",
    "print (\"Salary will be between \",int(minval),'USD and ',int(maxval),'USD')\n",
    "\n",
    "df = df[(df['SalaryUSD'] < maxval) &(df['SalaryUSD'] > minval)]\n",
    "print ('Dataframe size after outlier removal:',df.shape)\n",
    "df.SalaryUSD.describe()\n",
    "# plot the historgram of frequences\n",
    "_ = df.SalaryUSD.plot.hist()\n"
   ]
  },
  {
   "cell_type": "markdown",
   "metadata": {},
   "source": [
    "### Variables exploration\n",
    "\n",
    "The dataframe has a lot of variables : 230. We will focus on a subset of these variables : ['Age','GenderSelect','Country','EmploymentStatus','CurrentJobTitleSelect','MajorSelect']\n",
    "\n",
    "Since the categorical data are not described with the function `df.describe()`, we will plot the data distribution for each of these variable.\n",
    "\n",
    "\n",
    "\n",
    "* Plot the distribution of each categorical values with `sns.countplot(data=df3,y='GenderSelect')`\n"
   ]
  },
  {
   "cell_type": "code",
   "execution_count": 36,
   "metadata": {},
   "outputs": [
    {
     "data": {
      "image/png": "[encoded data removed]",
      "text/plain": [
       "<matplotlib.figure.Figure at 0x11a050d30>"
      ]
     },
     "metadata": {},
     "output_type": "display_data"
    }
   ],
   "source": [
    "_ = sns.countplot(data=df,y='GenderSelect')\n"
   ]
  },
  {
   "cell_type": "code",
   "execution_count": 37,
   "metadata": {},
   "outputs": [
    {
     "data": {
      "image/png": "[encoded data removed]",
      "text/plain": [
       "<matplotlib.figure.Figure at 0x115913978>"
      ]
     },
     "metadata": {},
     "output_type": "display_data"
    }
   ],
   "source": [
    "plt.figure(figsize=(15,10))\n",
    "_ = sns.countplot(data=df,y='Country',order = df['Country'].value_counts().index)"
   ]
  },
  {
   "cell_type": "code",
   "execution_count": 38,
   "metadata": {},
   "outputs": [
    {
     "data": {
      "image/png": "[encoded data removed]",
      "text/plain": [
       "<matplotlib.figure.Figure at 0x1159139b0>"
      ]
     },
     "metadata": {},
     "output_type": "display_data"
    }
   ],
   "source": [
    "_ = df.EmploymentStatus.value_counts().plot.pie(figsize=(8, 8))"
   ]
  },
  {
   "cell_type": "code",
   "execution_count": 39,
   "metadata": {},
   "outputs": [
    {
     "data": {
      "image/png": "[encoded data removed]",
      "text/plain": [
       "<matplotlib.figure.Figure at 0x11618a588>"
      ]
     },
     "metadata": {},
     "output_type": "display_data"
    }
   ],
   "source": [
    "_ = sns.countplot(data=df,y='CurrentJobTitleSelect',order = df['CurrentJobTitleSelect'].value_counts().index)"
   ]
  },
  {
   "cell_type": "code",
   "execution_count": 40,
   "metadata": {},
   "outputs": [
    {
     "data": {
      "image/png": "[encoded data removed]",
      "text/plain": [
       "<matplotlib.figure.Figure at 0x1166d29e8>"
      ]
     },
     "metadata": {},
     "output_type": "display_data"
    }
   ],
   "source": [
    "_  = sns.countplot(data=df,y='MajorSelect',order = df['MajorSelect'].value_counts().index)"
   ]
  },
  {
   "cell_type": "markdown",
   "metadata": {},
   "source": [
    "### Missing data imputation\n",
    "\n",
    "Some of the values for the selected variables may be missing. We could ignore all the example with missing variable but it would reduce the size of the dataset. The best way to keep the sample with missing values is to fill the missing values. Many technics are possible, but in our case, we wil simply fill the missing values of the age with the mean age."
   ]
  },
  {
   "cell_type": "code",
   "execution_count": 41,
   "metadata": {},
   "outputs": [
    {
     "name": "stdout",
     "output_type": "stream",
     "text": [
      "before filling, number of missing values is 22\n",
      "after filling, number of missing values is 0\n"
     ]
    },
    {
     "data": {
      "text/plain": [
       "count    3494.000000\n",
       "mean       33.612039\n",
       "std         9.029081\n",
       "min         0.000000\n",
       "25%        27.000000\n",
       "50%        32.000000\n",
       "75%        38.000000\n",
       "max        99.000000\n",
       "Name: Age, dtype: float64"
      ]
     },
     "execution_count": 41,
     "metadata": {},
     "output_type": "execute_result"
    }
   ],
   "source": [
    "print (\"before filling, number of missing values is\",df['Age'].isnull().sum())\n",
    "df['Age'].fillna(df['Age'].mean(),inplace=True)\n",
    "print (\"after filling, number of missing values is\",df['Age'].isnull().sum())\n",
    "df['Age'].describe()"
   ]
  },
  {
   "cell_type": "code",
   "execution_count": 42,
   "metadata": {},
   "outputs": [
    {
     "name": "stdout",
     "output_type": "stream",
     "text": [
      "Age will be between  21  and  62\n"
     ]
    },
    {
     "data": {
      "image/png": "[encoded data removed]",
      "text/plain": [
       "<matplotlib.figure.Figure at 0x11626fbe0>"
      ]
     },
     "metadata": {},
     "output_type": "display_data"
    }
   ],
   "source": [
    "maxval = df['Age'].quantile(0.99)\n",
    "minval = df['Age'].quantile(0.01)\n",
    "print (\"Age will be between \",int(minval),' and ',int(maxval))\n",
    "\n",
    "df = df[(df['Age'] < maxval) &(df['Age'] > minval)]\n",
    "df.shape\n",
    "_ = df.Age.plot.hist()"
   ]
  },
  {
   "cell_type": "markdown",
   "metadata": {},
   "source": [
    "The categorical data can not be directly used in most classifiers, their values must be encoded for example with an integer associated to each different category. \n",
    "> * Encode the categorical data with a [LabelEncoder](http://scikit-learn.org/stable/modules/generated/sklearn.preprocessing.LabelEncoder.html). Missing values must be filled before fitting the encoder (use `fillna('UNK')` on each column).\n",
    "> * print a few lines of the dataset to see the effect of the encoder.\n"
   ]
  },
  {
   "cell_type": "code",
   "execution_count": 43,
   "metadata": {},
   "outputs": [
    {
     "name": "stdout",
     "output_type": "stream",
     "text": [
      "GenderSelect\n",
      "[(0, 'A different identity'), (1, 'Female'), (2, 'Male'), (3, 'Non-binary, genderqueer, or gender non-conforming'), (4, 'UNK')]\n",
      "\n",
      "Country\n",
      "[(0, 'Argentina'), (1, 'Australia'), (2, 'Belarus'), (3, 'Belgium'), (4, 'Brazil'), (5, 'Canada'), (6, 'Chile'), (7, 'Colombia'), (8, 'Czech Republic'), (9, 'Denmark'), (10, 'Egypt'), (11, 'Finland'), (12, 'France'), (13, 'Germany'), (14, 'Greece'), (15, 'Hong Kong'), (16, 'Hungary'), (17, 'India'), (18, 'Indonesia'), (19, 'Iran'), (20, 'Ireland'), (21, 'Israel'), (22, 'Italy'), (23, 'Japan'), (24, 'Kenya'), (25, 'Malaysia'), (26, 'Mexico'), (27, 'Netherlands'), (28, 'New Zealand'), (29, 'Nigeria'), (30, 'Norway'), (31, 'Other'), (32, 'Pakistan'), (33, \"People 's Republic of China\"), (34, 'Philippines'), (35, 'Poland'), (36, 'Portugal'), (37, 'Republic of China'), (38, 'Romania'), (39, 'Russia'), (40, 'Singapore'), (41, 'South Africa'), (42, 'South Korea'), (43, 'Spain'), (44, 'Sweden'), (45, 'Switzerland'), (46, 'Taiwan'), (47, 'Turkey'), (48, 'UNK'), (49, 'Ukraine'), (50, 'United Kingdom'), (51, 'United States'), (52, 'Vietnam')]\n",
      "\n",
      "EmploymentStatus\n",
      "[(0, 'Employed full-time'), (1, 'Employed part-time'), (2, 'Independent contractor, freelancer, or self-employed')]\n",
      "\n",
      "CurrentJobTitleSelect\n",
      "[(0, 'Business Analyst'), (1, 'Computer Scientist'), (2, 'DBA/Database Engineer'), (3, 'Data Analyst'), (4, 'Data Miner'), (5, 'Data Scientist'), (6, 'Engineer'), (7, 'Machine Learning Engineer'), (8, 'Operations Research Practitioner'), (9, 'Other'), (10, 'Predictive Modeler'), (11, 'Programmer'), (12, 'Researcher'), (13, 'Scientist/Researcher'), (14, 'Software Developer/Software Engineer'), (15, 'Statistician'), (16, 'UNK')]\n",
      "\n",
      "MajorSelect\n",
      "[(0, 'A health science'), (1, 'A humanities discipline'), (2, 'A social science'), (3, 'Biology'), (4, 'Computer Science'), (5, 'Electrical Engineering'), (6, 'Engineering (non-computer focused)'), (7, 'Fine arts or performing arts'), (8, 'I never declared a major'), (9, 'Information technology, networking, or system administration'), (10, 'Management information systems'), (11, 'Mathematics or statistics'), (12, 'Other'), (13, 'Physics'), (14, 'Psychology'), (15, 'UNK')]\n",
      "\n"
     ]
    },
    {
     "data": {
      "text/html": [
       "<div>\n",
       "<style>\n",
       "    .dataframe thead tr:only-child th {\n",
       "        text-align: right;\n",
       "    }\n",
       "\n",
       "    .dataframe thead th {\n",
       "        text-align: left;\n",
       "    }\n",
       "\n",
       "    .dataframe tbody tr th {\n",
       "        vertical-align: top;\n",
       "    }\n",
       "</style>\n",
       "<table border=\"1\" class=\"dataframe\">\n",
       "  <thead>\n",
       "    <tr style=\"text-align: right;\">\n",
       "      <th></th>\n",
       "      <th>GenderSelect</th>\n",
       "      <th>Country</th>\n",
       "      <th>Age</th>\n",
       "      <th>EmploymentStatus</th>\n",
       "      <th>StudentStatus</th>\n",
       "      <th>LearningDataScience</th>\n",
       "      <th>CodeWriter</th>\n",
       "      <th>CareerSwitcher</th>\n",
       "      <th>CurrentJobTitleSelect</th>\n",
       "      <th>TitleFit</th>\n",
       "      <th>...</th>\n",
       "      <th>JobFactorLeaderReputation</th>\n",
       "      <th>JobFactorDiversity</th>\n",
       "      <th>JobFactorPublishingOpportunity</th>\n",
       "      <th>Salary</th>\n",
       "      <th>SalaryUSD</th>\n",
       "      <th>GenderSelect_label</th>\n",
       "      <th>Country_label</th>\n",
       "      <th>EmploymentStatus_label</th>\n",
       "      <th>CurrentJobTitleSelect_label</th>\n",
       "      <th>MajorSelect_label</th>\n",
       "    </tr>\n",
       "  </thead>\n",
       "  <tbody>\n",
       "    <tr>\n",
       "      <th>8</th>\n",
       "      <td>Female</td>\n",
       "      <td>Australia</td>\n",
       "      <td>43.0</td>\n",
       "      <td>Employed full-time</td>\n",
       "      <td>NaN</td>\n",
       "      <td>NaN</td>\n",
       "      <td>Yes</td>\n",
       "      <td>NaN</td>\n",
       "      <td>Business Analyst</td>\n",
       "      <td>Fine</td>\n",
       "      <td>...</td>\n",
       "      <td>NaN</td>\n",
       "      <td>NaN</td>\n",
       "      <td>NaN</td>\n",
       "      <td>80000.0</td>\n",
       "      <td>64184.8</td>\n",
       "      <td>1</td>\n",
       "      <td>1</td>\n",
       "      <td>0</td>\n",
       "      <td>0</td>\n",
       "      <td>15</td>\n",
       "    </tr>\n",
       "    <tr>\n",
       "      <th>9</th>\n",
       "      <td>Male</td>\n",
       "      <td>Russia</td>\n",
       "      <td>33.0</td>\n",
       "      <td>Employed full-time</td>\n",
       "      <td>NaN</td>\n",
       "      <td>NaN</td>\n",
       "      <td>Yes</td>\n",
       "      <td>NaN</td>\n",
       "      <td>Software Developer/Software Engineer</td>\n",
       "      <td>Fine</td>\n",
       "      <td>...</td>\n",
       "      <td>NaN</td>\n",
       "      <td>NaN</td>\n",
       "      <td>NaN</td>\n",
       "      <td>1200000.0</td>\n",
       "      <td>20882.4</td>\n",
       "      <td>2</td>\n",
       "      <td>39</td>\n",
       "      <td>0</td>\n",
       "      <td>14</td>\n",
       "      <td>12</td>\n",
       "    </tr>\n",
       "    <tr>\n",
       "      <th>14</th>\n",
       "      <td>Male</td>\n",
       "      <td>Taiwan</td>\n",
       "      <td>26.0</td>\n",
       "      <td>Employed full-time</td>\n",
       "      <td>NaN</td>\n",
       "      <td>NaN</td>\n",
       "      <td>Yes</td>\n",
       "      <td>NaN</td>\n",
       "      <td>Software Developer/Software Engineer</td>\n",
       "      <td>Fine</td>\n",
       "      <td>...</td>\n",
       "      <td>NaN</td>\n",
       "      <td>NaN</td>\n",
       "      <td>NaN</td>\n",
       "      <td>1100000.0</td>\n",
       "      <td>36634.4</td>\n",
       "      <td>2</td>\n",
       "      <td>46</td>\n",
       "      <td>0</td>\n",
       "      <td>14</td>\n",
       "      <td>4</td>\n",
       "    </tr>\n",
       "    <tr>\n",
       "      <th>21</th>\n",
       "      <td>Male</td>\n",
       "      <td>United States</td>\n",
       "      <td>25.0</td>\n",
       "      <td>Employed part-time</td>\n",
       "      <td>NaN</td>\n",
       "      <td>NaN</td>\n",
       "      <td>Yes</td>\n",
       "      <td>NaN</td>\n",
       "      <td>Researcher</td>\n",
       "      <td>Fine</td>\n",
       "      <td>...</td>\n",
       "      <td>NaN</td>\n",
       "      <td>NaN</td>\n",
       "      <td>NaN</td>\n",
       "      <td>20000.0</td>\n",
       "      <td>20000.0</td>\n",
       "      <td>2</td>\n",
       "      <td>51</td>\n",
       "      <td>1</td>\n",
       "      <td>12</td>\n",
       "      <td>13</td>\n",
       "    </tr>\n",
       "    <tr>\n",
       "      <th>22</th>\n",
       "      <td>Male</td>\n",
       "      <td>United States</td>\n",
       "      <td>33.0</td>\n",
       "      <td>Employed full-time</td>\n",
       "      <td>NaN</td>\n",
       "      <td>NaN</td>\n",
       "      <td>Yes</td>\n",
       "      <td>NaN</td>\n",
       "      <td>Scientist/Researcher</td>\n",
       "      <td>Perfectly</td>\n",
       "      <td>...</td>\n",
       "      <td>NaN</td>\n",
       "      <td>NaN</td>\n",
       "      <td>NaN</td>\n",
       "      <td>100000.0</td>\n",
       "      <td>100000.0</td>\n",
       "      <td>2</td>\n",
       "      <td>51</td>\n",
       "      <td>0</td>\n",
       "      <td>13</td>\n",
       "      <td>5</td>\n",
       "    </tr>\n",
       "  </tbody>\n",
       "</table>\n",
       "<p>5 rows × 235 columns</p>\n",
       "</div>"
      ],
      "text/plain": [
       "   GenderSelect        Country   Age    EmploymentStatus StudentStatus  \\\n",
       "8        Female      Australia  43.0  Employed full-time           NaN   \n",
       "9          Male         Russia  33.0  Employed full-time           NaN   \n",
       "14         Male         Taiwan  26.0  Employed full-time           NaN   \n",
       "21         Male  United States  25.0  Employed part-time           NaN   \n",
       "22         Male  United States  33.0  Employed full-time           NaN   \n",
       "\n",
       "   LearningDataScience CodeWriter CareerSwitcher  \\\n",
       "8                  NaN        Yes            NaN   \n",
       "9                  NaN        Yes            NaN   \n",
       "14                 NaN        Yes            NaN   \n",
       "21                 NaN        Yes            NaN   \n",
       "22                 NaN        Yes            NaN   \n",
       "\n",
       "                   CurrentJobTitleSelect   TitleFit        ...         \\\n",
       "8                       Business Analyst       Fine        ...          \n",
       "9   Software Developer/Software Engineer       Fine        ...          \n",
       "14  Software Developer/Software Engineer       Fine        ...          \n",
       "21                            Researcher       Fine        ...          \n",
       "22                  Scientist/Researcher  Perfectly        ...          \n",
       "\n",
       "   JobFactorLeaderReputation JobFactorDiversity  \\\n",
       "8                        NaN                NaN   \n",
       "9                        NaN                NaN   \n",
       "14                       NaN                NaN   \n",
       "21                       NaN                NaN   \n",
       "22                       NaN                NaN   \n",
       "\n",
       "   JobFactorPublishingOpportunity     Salary SalaryUSD GenderSelect_label  \\\n",
       "8                             NaN    80000.0   64184.8                  1   \n",
       "9                             NaN  1200000.0   20882.4                  2   \n",
       "14                            NaN  1100000.0   36634.4                  2   \n",
       "21                            NaN    20000.0   20000.0                  2   \n",
       "22                            NaN   100000.0  100000.0                  2   \n",
       "\n",
       "   Country_label EmploymentStatus_label CurrentJobTitleSelect_label  \\\n",
       "8              1                      0                           0   \n",
       "9             39                      0                          14   \n",
       "14            46                      0                          14   \n",
       "21            51                      1                          12   \n",
       "22            51                      0                          13   \n",
       "\n",
       "   MajorSelect_label  \n",
       "8                 15  \n",
       "9                 12  \n",
       "14                 4  \n",
       "21                13  \n",
       "22                 5  \n",
       "\n",
       "[5 rows x 235 columns]"
      ]
     },
     "execution_count": 43,
     "metadata": {},
     "output_type": "execute_result"
    }
   ],
   "source": [
    "from sklearn import preprocessing\n",
    "le = preprocessing.LabelEncoder()\n",
    "for c in ['GenderSelect','Country','EmploymentStatus','CurrentJobTitleSelect','MajorSelect']:\n",
    "    df[c+'_label'] = le.fit_transform(df[c].fillna('UNK'))\n",
    "    # print the encoded values\n",
    "    print (c)\n",
    "    print ([(idx,val) for idx,val in  enumerate(le.classes_)])\n",
    "    print()\n",
    "df.head()"
   ]
  },
  {
   "cell_type": "markdown",
   "metadata": {},
   "source": [
    "A decision tree can be used both for classification of for regression. In our case, since we want to predict the salary of a data scientist, we will use decision trees for regression.\n",
    "> * Define the features X and the target y (= Salary)\n",
    "> * Fit a decision [DecisionTreeRegressor](http://scikit-learn.org/stable/auto_examples/tree/plot_tree_regression.html) to predict the Salary\n"
   ]
  },
  {
   "cell_type": "code",
   "execution_count": 44,
   "metadata": {},
   "outputs": [],
   "source": [
    "X = df[['Age','GenderSelect_label','Country_label','EmploymentStatus_label','CurrentJobTitleSelect_label','MajorSelect_label']]\n",
    "#X = df[['Age']]\n",
    "\n",
    "y = df['SalaryUSD']"
   ]
  },
  {
   "cell_type": "code",
   "execution_count": 45,
   "metadata": {},
   "outputs": [
    {
     "data": {
      "text/plain": [
       "DecisionTreeRegressor(criterion='mse', max_depth=3, max_features=None,\n",
       "           max_leaf_nodes=None, min_impurity_split=1e-07,\n",
       "           min_samples_leaf=1, min_samples_split=2,\n",
       "           min_weight_fraction_leaf=0.0, presort=False, random_state=None,\n",
       "           splitter='best')"
      ]
     },
     "execution_count": 45,
     "metadata": {},
     "output_type": "execute_result"
    }
   ],
   "source": [
    "from sklearn.tree import DecisionTreeRegressor\n",
    "regr = DecisionTreeRegressor(max_depth=3)\n",
    "regr.fit(X, y)\n"
   ]
  },
  {
   "cell_type": "markdown",
   "metadata": {},
   "source": [
    "The tree can be display to see which rules have been used. The follwing functions plot the decision tree previously trained. \n",
    "\n",
    "**Question**:\n",
    ">  what is the first splitting node ?"
   ]
  },
  {
   "cell_type": "code",
   "execution_count": 46,
   "metadata": {},
   "outputs": [
    {
     "data": {
      "image/svg+xml": [
       "<?xml version=\"1.0\" encoding=\"UTF-8\" standalone=\"no\"?>\n",
       "<!DOCTYPE svg PUBLIC \"-//W3C//DTD SVG 1.1//EN\"\n",
       " \"http://www.w3.org/Graphics/SVG/1.1/DTD/svg11.dtd\">\n",
       "<!-- Generated by graphviz version 2.36.0 (20140111.2315)\n",
       " -->\n",
       "<!-- Title: Tree Pages: 1 -->\n",
       "<svg width=\"1335pt\" height=\"374pt\"\n",
       " viewBox=\"0.00 0.00 1335.00 374.00\" xmlns=\"http://www.w3.org/2000/svg\" xmlns:xlink=\"http://www.w3.org/1999/xlink\">\n",
       "<g id=\"graph0\" class=\"graph\" transform=\"scale(1 1) rotate(0) translate(4 370)\">\n",
       "<title>Tree</title>\n",
       "<polygon fill=\"white\" stroke=\"none\" points=\"-4,4 -4,-370 1331,-370 1331,4 -4,4\"/>\n",
       "<!-- 0 -->\n",
       "<g id=\"node1\" class=\"node\"><title>0</title>\n",
       "<polygon fill=\"none\" stroke=\"black\" points=\"731.25,-366 576.75,-366 576.75,-298 731.25,-298 731.25,-366\"/>\n",
       "<text text-anchor=\"middle\" x=\"654\" y=\"-350.8\" font-family=\"Times,serif\" font-size=\"14.00\">Country_label &lt;= 50.5</text>\n",
       "<text text-anchor=\"middle\" x=\"654\" y=\"-335.8\" font-family=\"Times,serif\" font-size=\"14.00\">mse = 1349294471.0035</text>\n",
       "<text text-anchor=\"middle\" x=\"654\" y=\"-320.8\" font-family=\"Times,serif\" font-size=\"14.00\">samples = 3417</text>\n",
       "<text text-anchor=\"middle\" x=\"654\" y=\"-305.8\" font-family=\"Times,serif\" font-size=\"14.00\">value = 58626.8179</text>\n",
       "</g>\n",
       "<!-- 1 -->\n",
       "<g id=\"node2\" class=\"node\"><title>1</title>\n",
       "<polygon fill=\"none\" stroke=\"black\" points=\"594,-262 446,-262 446,-194 594,-194 594,-262\"/>\n",
       "<text text-anchor=\"middle\" x=\"520\" y=\"-246.8\" font-family=\"Times,serif\" font-size=\"14.00\">Age &lt;= 29.5</text>\n",
       "<text text-anchor=\"middle\" x=\"520\" y=\"-231.8\" font-family=\"Times,serif\" font-size=\"14.00\">mse = 1034146924.321</text>\n",
       "<text text-anchor=\"middle\" x=\"520\" y=\"-216.8\" font-family=\"Times,serif\" font-size=\"14.00\">samples = 2554</text>\n",
       "<text text-anchor=\"middle\" x=\"520\" y=\"-201.8\" font-family=\"Times,serif\" font-size=\"14.00\">value = 48310.0689</text>\n",
       "</g>\n",
       "<!-- 0&#45;&gt;1 -->\n",
       "<g id=\"edge1\" class=\"edge\"><title>0&#45;&gt;1</title>\n",
       "<path fill=\"none\" stroke=\"black\" d=\"M610.494,-297.884C598.207,-288.531 584.713,-278.259 571.982,-268.568\"/>\n",
       "<polygon fill=\"black\" stroke=\"black\" points=\"573.823,-265.571 563.746,-262.299 569.583,-271.141 573.823,-265.571\"/>\n",
       "<text text-anchor=\"middle\" x=\"567.105\" y=\"-283.373\" font-family=\"Times,serif\" font-size=\"14.00\">True</text>\n",
       "</g>\n",
       "<!-- 8 -->\n",
       "<g id=\"node9\" class=\"node\"><title>8</title>\n",
       "<polygon fill=\"none\" stroke=\"black\" points=\"866.25,-262 711.75,-262 711.75,-194 866.25,-194 866.25,-262\"/>\n",
       "<text text-anchor=\"middle\" x=\"789\" y=\"-246.8\" font-family=\"Times,serif\" font-size=\"14.00\">Age &lt;= 30.5</text>\n",
       "<text text-anchor=\"middle\" x=\"789\" y=\"-231.8\" font-family=\"Times,serif\" font-size=\"14.00\">mse = 1034773441.6948</text>\n",
       "<text text-anchor=\"middle\" x=\"789\" y=\"-216.8\" font-family=\"Times,serif\" font-size=\"14.00\">samples = 863</text>\n",
       "<text text-anchor=\"middle\" x=\"789\" y=\"-201.8\" font-family=\"Times,serif\" font-size=\"14.00\">value = 89158.6565</text>\n",
       "</g>\n",
       "<!-- 0&#45;&gt;8 -->\n",
       "<g id=\"edge8\" class=\"edge\"><title>0&#45;&gt;8</title>\n",
       "<path fill=\"none\" stroke=\"black\" d=\"M697.831,-297.884C710.209,-288.531 723.804,-278.259 736.63,-268.568\"/>\n",
       "<polygon fill=\"black\" stroke=\"black\" points=\"739.059,-271.12 744.927,-262.299 734.839,-265.535 739.059,-271.12\"/>\n",
       "<text text-anchor=\"middle\" x=\"741.48\" y=\"-283.36\" font-family=\"Times,serif\" font-size=\"14.00\">False</text>\n",
       "</g>\n",
       "<!-- 2 -->\n",
       "<g id=\"node3\" class=\"node\"><title>2</title>\n",
       "<polygon fill=\"none\" stroke=\"black\" points=\"311,-158 163,-158 163,-90 311,-90 311,-158\"/>\n",
       "<text text-anchor=\"middle\" x=\"237\" y=\"-142.8\" font-family=\"Times,serif\" font-size=\"14.00\">Country_label &lt;= 13.5</text>\n",
       "<text text-anchor=\"middle\" x=\"237\" y=\"-127.8\" font-family=\"Times,serif\" font-size=\"14.00\">mse = 611903626.0297</text>\n",
       "<text text-anchor=\"middle\" x=\"237\" y=\"-112.8\" font-family=\"Times,serif\" font-size=\"14.00\">samples = 1004</text>\n",
       "<text text-anchor=\"middle\" x=\"237\" y=\"-97.8\" font-family=\"Times,serif\" font-size=\"14.00\">value = 33116.3915</text>\n",
       "</g>\n",
       "<!-- 1&#45;&gt;2 -->\n",
       "<g id=\"edge2\" class=\"edge\"><title>1&#45;&gt;2</title>\n",
       "<path fill=\"none\" stroke=\"black\" d=\"M445.645,-200.201C407.368,-186.405 360.558,-169.533 320.982,-155.269\"/>\n",
       "<polygon fill=\"black\" stroke=\"black\" points=\"321.944,-151.895 311.349,-151.797 319.57,-158.481 321.944,-151.895\"/>\n",
       "</g>\n",
       "<!-- 5 -->\n",
       "<g id=\"node6\" class=\"node\"><title>5</title>\n",
       "<polygon fill=\"none\" stroke=\"black\" points=\"597.25,-158 442.75,-158 442.75,-90 597.25,-90 597.25,-158\"/>\n",
       "<text text-anchor=\"middle\" x=\"520\" y=\"-142.8\" font-family=\"Times,serif\" font-size=\"14.00\">Age &lt;= 39.5</text>\n",
       "<text text-anchor=\"middle\" x=\"520\" y=\"-127.8\" font-family=\"Times,serif\" font-size=\"14.00\">mse = 1061265055.3005</text>\n",
       "<text text-anchor=\"middle\" x=\"520\" y=\"-112.8\" font-family=\"Times,serif\" font-size=\"14.00\">samples = 1550</text>\n",
       "<text text-anchor=\"middle\" x=\"520\" y=\"-97.8\" font-family=\"Times,serif\" font-size=\"14.00\">value = 58151.651</text>\n",
       "</g>\n",
       "<!-- 1&#45;&gt;5 -->\n",
       "<g id=\"edge5\" class=\"edge\"><title>1&#45;&gt;5</title>\n",
       "<path fill=\"none\" stroke=\"black\" d=\"M520,-193.884C520,-185.778 520,-176.982 520,-168.472\"/>\n",
       "<polygon fill=\"black\" stroke=\"black\" points=\"523.5,-168.299 520,-158.299 516.5,-168.299 523.5,-168.299\"/>\n",
       "</g>\n",
       "<!-- 3 -->\n",
       "<g id=\"node4\" class=\"node\"><title>3</title>\n",
       "<polygon fill=\"none\" stroke=\"black\" points=\"148,-53.5 0,-53.5 0,-0.5 148,-0.5 148,-53.5\"/>\n",
       "<text text-anchor=\"middle\" x=\"74\" y=\"-38.3\" font-family=\"Times,serif\" font-size=\"14.00\">mse = 617484601.4345</text>\n",
       "<text text-anchor=\"middle\" x=\"74\" y=\"-23.3\" font-family=\"Times,serif\" font-size=\"14.00\">samples = 292</text>\n",
       "<text text-anchor=\"middle\" x=\"74\" y=\"-8.3\" font-family=\"Times,serif\" font-size=\"14.00\">value = 43957.5223</text>\n",
       "</g>\n",
       "<!-- 2&#45;&gt;3 -->\n",
       "<g id=\"edge3\" class=\"edge\"><title>2&#45;&gt;3</title>\n",
       "<path fill=\"none\" stroke=\"black\" d=\"M179.991,-89.7736C162.635,-79.6584 143.646,-68.5912 126.596,-58.654\"/>\n",
       "<polygon fill=\"black\" stroke=\"black\" points=\"128.277,-55.5831 117.875,-53.5715 124.753,-61.6309 128.277,-55.5831\"/>\n",
       "</g>\n",
       "<!-- 4 -->\n",
       "<g id=\"node5\" class=\"node\"><title>4</title>\n",
       "<polygon fill=\"none\" stroke=\"black\" points=\"307.25,-53.5 166.75,-53.5 166.75,-0.5 307.25,-0.5 307.25,-53.5\"/>\n",
       "<text text-anchor=\"middle\" x=\"237\" y=\"-38.3\" font-family=\"Times,serif\" font-size=\"14.00\">mse = 541646602.128</text>\n",
       "<text text-anchor=\"middle\" x=\"237\" y=\"-23.3\" font-family=\"Times,serif\" font-size=\"14.00\">samples = 712</text>\n",
       "<text text-anchor=\"middle\" x=\"237\" y=\"-8.3\" font-family=\"Times,serif\" font-size=\"14.00\">value = 28670.3097</text>\n",
       "</g>\n",
       "<!-- 2&#45;&gt;4 -->\n",
       "<g id=\"edge4\" class=\"edge\"><title>2&#45;&gt;4</title>\n",
       "<path fill=\"none\" stroke=\"black\" d=\"M237,-89.7736C237,-81.3288 237,-72.2204 237,-63.6601\"/>\n",
       "<polygon fill=\"black\" stroke=\"black\" points=\"240.5,-63.5715 237,-53.5715 233.5,-63.5715 240.5,-63.5715\"/>\n",
       "</g>\n",
       "<!-- 6 -->\n",
       "<g id=\"node7\" class=\"node\"><title>6</title>\n",
       "<polygon fill=\"none\" stroke=\"black\" points=\"474,-53.5 326,-53.5 326,-0.5 474,-0.5 474,-53.5\"/>\n",
       "<text text-anchor=\"middle\" x=\"400\" y=\"-38.3\" font-family=\"Times,serif\" font-size=\"14.00\">mse = 972607274.2316</text>\n",
       "<text text-anchor=\"middle\" x=\"400\" y=\"-23.3\" font-family=\"Times,serif\" font-size=\"14.00\">samples = 1039</text>\n",
       "<text text-anchor=\"middle\" x=\"400\" y=\"-8.3\" font-family=\"Times,serif\" font-size=\"14.00\">value = 53860.7337</text>\n",
       "</g>\n",
       "<!-- 5&#45;&gt;6 -->\n",
       "<g id=\"edge6\" class=\"edge\"><title>5&#45;&gt;6</title>\n",
       "<path fill=\"none\" stroke=\"black\" d=\"M478.03,-89.7736C465.839,-80.1224 452.553,-69.6045 440.457,-60.0284\"/>\n",
       "<polygon fill=\"black\" stroke=\"black\" points=\"442.314,-57.0344 432.301,-53.5715 437.969,-62.5227 442.314,-57.0344\"/>\n",
       "</g>\n",
       "<!-- 7 -->\n",
       "<g id=\"node8\" class=\"node\"><title>7</title>\n",
       "<polygon fill=\"none\" stroke=\"black\" points=\"647.25,-53.5 492.75,-53.5 492.75,-0.5 647.25,-0.5 647.25,-53.5\"/>\n",
       "<text text-anchor=\"middle\" x=\"570\" y=\"-38.3\" font-family=\"Times,serif\" font-size=\"14.00\">mse = 1127975234.9829</text>\n",
       "<text text-anchor=\"middle\" x=\"570\" y=\"-23.3\" font-family=\"Times,serif\" font-size=\"14.00\">samples = 511</text>\n",
       "<text text-anchor=\"middle\" x=\"570\" y=\"-8.3\" font-family=\"Times,serif\" font-size=\"14.00\">value = 66876.2361</text>\n",
       "</g>\n",
       "<!-- 5&#45;&gt;7 -->\n",
       "<g id=\"edge7\" class=\"edge\"><title>5&#45;&gt;7</title>\n",
       "<path fill=\"none\" stroke=\"black\" d=\"M537.488,-89.7736C542.128,-80.9576 547.148,-71.4184 551.824,-62.5345\"/>\n",
       "<polygon fill=\"black\" stroke=\"black\" points=\"554.981,-64.0508 556.541,-53.5715 548.787,-60.7906 554.981,-64.0508\"/>\n",
       "</g>\n",
       "<!-- 9 -->\n",
       "<g id=\"node10\" class=\"node\"><title>9</title>\n",
       "<polygon fill=\"none\" stroke=\"black\" points=\"899.25,-158 678.75,-158 678.75,-90 899.25,-90 899.25,-158\"/>\n",
       "<text text-anchor=\"middle\" x=\"789\" y=\"-142.8\" font-family=\"Times,serif\" font-size=\"14.00\">CurrentJobTitleSelect_label &lt;= 10.5</text>\n",
       "<text text-anchor=\"middle\" x=\"789\" y=\"-127.8\" font-family=\"Times,serif\" font-size=\"14.00\">mse = 1030307031.493</text>\n",
       "<text text-anchor=\"middle\" x=\"789\" y=\"-112.8\" font-family=\"Times,serif\" font-size=\"14.00\">samples = 368</text>\n",
       "<text text-anchor=\"middle\" x=\"789\" y=\"-97.8\" font-family=\"Times,serif\" font-size=\"14.00\">value = 78476.6433</text>\n",
       "</g>\n",
       "<!-- 8&#45;&gt;9 -->\n",
       "<g id=\"edge9\" class=\"edge\"><title>8&#45;&gt;9</title>\n",
       "<path fill=\"none\" stroke=\"black\" d=\"M789,-193.884C789,-185.778 789,-176.982 789,-168.472\"/>\n",
       "<polygon fill=\"black\" stroke=\"black\" points=\"792.5,-168.299 789,-158.299 785.5,-168.299 792.5,-168.299\"/>\n",
       "</g>\n",
       "<!-- 12 -->\n",
       "<g id=\"node13\" class=\"node\"><title>12</title>\n",
       "<polygon fill=\"none\" stroke=\"black\" points=\"1179,-158 981,-158 981,-90 1179,-90 1179,-158\"/>\n",
       "<text text-anchor=\"middle\" x=\"1080\" y=\"-142.8\" font-family=\"Times,serif\" font-size=\"14.00\">EmploymentStatus_label &lt;= 0.5</text>\n",
       "<text text-anchor=\"middle\" x=\"1080\" y=\"-127.8\" font-family=\"Times,serif\" font-size=\"14.00\">mse = 890198603.3558</text>\n",
       "<text text-anchor=\"middle\" x=\"1080\" y=\"-112.8\" font-family=\"Times,serif\" font-size=\"14.00\">samples = 495</text>\n",
       "<text text-anchor=\"middle\" x=\"1080\" y=\"-97.8\" font-family=\"Times,serif\" font-size=\"14.00\">value = 97100.0319</text>\n",
       "</g>\n",
       "<!-- 8&#45;&gt;12 -->\n",
       "<g id=\"edge12\" class=\"edge\"><title>8&#45;&gt;12</title>\n",
       "<path fill=\"none\" stroke=\"black\" d=\"M866.6,-199.8C900.216,-188.017 940.066,-174.049 976.175,-161.392\"/>\n",
       "<polygon fill=\"black\" stroke=\"black\" points=\"977.48,-164.644 985.759,-158.033 975.164,-158.038 977.48,-164.644\"/>\n",
       "</g>\n",
       "<!-- 10 -->\n",
       "<g id=\"node11\" class=\"node\"><title>10</title>\n",
       "<polygon fill=\"none\" stroke=\"black\" points=\"814,-53.5 666,-53.5 666,-0.5 814,-0.5 814,-53.5\"/>\n",
       "<text text-anchor=\"middle\" x=\"740\" y=\"-38.3\" font-family=\"Times,serif\" font-size=\"14.00\">mse = 796632554.4415</text>\n",
       "<text text-anchor=\"middle\" x=\"740\" y=\"-23.3\" font-family=\"Times,serif\" font-size=\"14.00\">samples = 279</text>\n",
       "<text text-anchor=\"middle\" x=\"740\" y=\"-8.3\" font-family=\"Times,serif\" font-size=\"14.00\">value = 84177.6657</text>\n",
       "</g>\n",
       "<!-- 9&#45;&gt;10 -->\n",
       "<g id=\"edge10\" class=\"edge\"><title>9&#45;&gt;10</title>\n",
       "<path fill=\"none\" stroke=\"black\" d=\"M771.862,-89.7736C767.315,-80.9576 762.395,-71.4184 757.813,-62.5345\"/>\n",
       "<polygon fill=\"black\" stroke=\"black\" points=\"760.884,-60.8545 753.19,-53.5715 754.663,-64.0634 760.884,-60.8545\"/>\n",
       "</g>\n",
       "<!-- 11 -->\n",
       "<g id=\"node12\" class=\"node\"><title>11</title>\n",
       "<polygon fill=\"none\" stroke=\"black\" points=\"987.25,-53.5 832.75,-53.5 832.75,-0.5 987.25,-0.5 987.25,-53.5\"/>\n",
       "<text text-anchor=\"middle\" x=\"910\" y=\"-38.3\" font-family=\"Times,serif\" font-size=\"14.00\">mse = 1341550669.2145</text>\n",
       "<text text-anchor=\"middle\" x=\"910\" y=\"-23.3\" font-family=\"Times,serif\" font-size=\"14.00\">samples = 89</text>\n",
       "<text text-anchor=\"middle\" x=\"910\" y=\"-8.3\" font-family=\"Times,serif\" font-size=\"14.00\">value = 60604.8989</text>\n",
       "</g>\n",
       "<!-- 9&#45;&gt;11 -->\n",
       "<g id=\"edge11\" class=\"edge\"><title>9&#45;&gt;11</title>\n",
       "<path fill=\"none\" stroke=\"black\" d=\"M831.32,-89.7736C843.731,-80.0296 857.267,-69.4022 869.557,-59.7524\"/>\n",
       "<polygon fill=\"black\" stroke=\"black\" points=\"871.726,-62.4998 877.43,-53.5715 867.403,-56.994 871.726,-62.4998\"/>\n",
       "</g>\n",
       "<!-- 13 -->\n",
       "<g id=\"node14\" class=\"node\"><title>13</title>\n",
       "<polygon fill=\"none\" stroke=\"black\" points=\"1154,-53.5 1006,-53.5 1006,-0.5 1154,-0.5 1154,-53.5\"/>\n",
       "<text text-anchor=\"middle\" x=\"1080\" y=\"-38.3\" font-family=\"Times,serif\" font-size=\"14.00\">mse = 754798885.6576</text>\n",
       "<text text-anchor=\"middle\" x=\"1080\" y=\"-23.3\" font-family=\"Times,serif\" font-size=\"14.00\">samples = 448</text>\n",
       "<text text-anchor=\"middle\" x=\"1080\" y=\"-8.3\" font-family=\"Times,serif\" font-size=\"14.00\">value = 99383.9638</text>\n",
       "</g>\n",
       "<!-- 12&#45;&gt;13 -->\n",
       "<g id=\"edge13\" class=\"edge\"><title>12&#45;&gt;13</title>\n",
       "<path fill=\"none\" stroke=\"black\" d=\"M1080,-89.7736C1080,-81.3288 1080,-72.2204 1080,-63.6601\"/>\n",
       "<polygon fill=\"black\" stroke=\"black\" points=\"1083.5,-63.5715 1080,-53.5715 1076.5,-63.5715 1083.5,-63.5715\"/>\n",
       "</g>\n",
       "<!-- 14 -->\n",
       "<g id=\"node15\" class=\"node\"><title>14</title>\n",
       "<polygon fill=\"none\" stroke=\"black\" points=\"1327.25,-53.5 1172.75,-53.5 1172.75,-0.5 1327.25,-0.5 1327.25,-53.5\"/>\n",
       "<text text-anchor=\"middle\" x=\"1250\" y=\"-38.3\" font-family=\"Times,serif\" font-size=\"14.00\">mse = 1657151878.6781</text>\n",
       "<text text-anchor=\"middle\" x=\"1250\" y=\"-23.3\" font-family=\"Times,serif\" font-size=\"14.00\">samples = 47</text>\n",
       "<text text-anchor=\"middle\" x=\"1250\" y=\"-8.3\" font-family=\"Times,serif\" font-size=\"14.00\">value = 75329.7872</text>\n",
       "</g>\n",
       "<!-- 12&#45;&gt;14 -->\n",
       "<g id=\"edge14\" class=\"edge\"><title>12&#45;&gt;14</title>\n",
       "<path fill=\"none\" stroke=\"black\" d=\"M1139.46,-89.7736C1157.56,-79.6584 1177.36,-68.5912 1195.15,-58.654\"/>\n",
       "<polygon fill=\"black\" stroke=\"black\" points=\"1197.22,-61.5051 1204.24,-53.5715 1193.8,-55.3945 1197.22,-61.5051\"/>\n",
       "</g>\n",
       "</g>\n",
       "</svg>\n"
      ],
      "text/plain": [
       "<graphviz.files.Source at 0x1161f1ef0>"
      ]
     },
     "execution_count": 46,
     "metadata": {},
     "output_type": "execute_result"
    }
   ],
   "source": [
    "import graphviz\n",
    "from sklearn import tree\n",
    "dot_data = tree.export_graphviz(regr, out_file=None,feature_names=['Age','GenderSelect_label','Country_label','EmploymentStatus_label','CurrentJobTitleSelect_label','MajorSelect_label'])\n",
    "graph = graphviz.Source(dot_data)  \n",
    "graph "
   ]
  },
  {
   "cell_type": "markdown",
   "metadata": {},
   "source": [
    "### Salary prediction\n",
    "\n",
    "We will now build a model to predict the salary form the selected features. \n",
    "\n",
    "**Questions:**\n",
    "> * split the dataframe in train and test set\n",
    "> * train a RandomForestRegressor and a ExtraTreesRegressor\n",
    "> * compare the 2 models with a metric adapted to regression : mean_absolute_error and explained_variance_score"
   ]
  },
  {
   "cell_type": "code",
   "execution_count": 50,
   "metadata": {},
   "outputs": [
    {
     "name": "stdout",
     "output_type": "stream",
     "text": [
      "Mean absolute error: 20541.61544564146\n",
      "Explained variance score: 0.44882825762221856\n",
      "Mean absolute error: 21221.920009123187\n",
      "Explained variance score: 0.4130132204304986\n"
     ]
    }
   ],
   "source": [
    "from sklearn.ensemble import RandomForestRegressor\n",
    "from sklearn.ensemble import ExtraTreesRegressor\n",
    "from sklearn.model_selection import train_test_split\n",
    "from sklearn.metrics import mean_absolute_error\n",
    "from sklearn.metrics import explained_variance_score\n",
    "\n",
    "\n",
    "# split the dataframe in train and test\n",
    "X_train, X_test, y_train, y_test = train_test_split(X, y, test_size=0.2, random_state=32)# YOUR CODE HERE\n",
    "\n",
    "# train a random forest regressor\n",
    "forest = RandomForestRegressor(n_estimators=1000)\n",
    "forest.fit(X_train, y_train)\n",
    "\n",
    "# evaluate the random forest with regression metrics\n",
    "y_pred = forest.predict(X_test)\n",
    "print ('Mean absolute error:',mean_absolute_error(y_test, y_pred))\n",
    "from sklearn.metrics import explained_variance_score\n",
    "print ('Explained variance score:',explained_variance_score(y_test, y_pred))\n",
    "\n",
    "\n",
    "etree = ExtraTreesRegressor(n_estimators=1000)\n",
    "etree.fit(X_train, y_train)\n",
    "ey_pred = etree.predict(X_test)\n",
    "print ('Mean absolute error:',mean_absolute_error(y_test, ey_pred))\n",
    "print ('Explained variance score:',explained_variance_score(y_test, ey_pred))"
   ]
  },
  {
   "cell_type": "code",
   "execution_count": 58,
   "metadata": {},
   "outputs": [
    {
     "data": {
      "text/html": [
       "<div>\n",
       "<style>\n",
       "    .dataframe thead tr:only-child th {\n",
       "        text-align: right;\n",
       "    }\n",
       "\n",
       "    .dataframe thead th {\n",
       "        text-align: left;\n",
       "    }\n",
       "\n",
       "    .dataframe tbody tr th {\n",
       "        vertical-align: top;\n",
       "    }\n",
       "</style>\n",
       "<table border=\"1\" class=\"dataframe\">\n",
       "  <thead>\n",
       "    <tr style=\"text-align: right;\">\n",
       "      <th></th>\n",
       "      <th>pred</th>\n",
       "      <th>truth</th>\n",
       "    </tr>\n",
       "  </thead>\n",
       "  <tbody>\n",
       "    <tr>\n",
       "      <th>4196</th>\n",
       "      <td>83000.000000</td>\n",
       "      <td>95000.000</td>\n",
       "    </tr>\n",
       "    <tr>\n",
       "      <th>4919</th>\n",
       "      <td>111610.500000</td>\n",
       "      <td>125000.000</td>\n",
       "    </tr>\n",
       "    <tr>\n",
       "      <th>3103</th>\n",
       "      <td>42688.932437</td>\n",
       "      <td>65606.896</td>\n",
       "    </tr>\n",
       "    <tr>\n",
       "      <th>9570</th>\n",
       "      <td>36073.120242</td>\n",
       "      <td>29895.650</td>\n",
       "    </tr>\n",
       "    <tr>\n",
       "      <th>10522</th>\n",
       "      <td>36484.269754</td>\n",
       "      <td>35874.780</td>\n",
       "    </tr>\n",
       "  </tbody>\n",
       "</table>\n",
       "</div>"
      ],
      "text/plain": [
       "                pred       truth\n",
       "4196    83000.000000   95000.000\n",
       "4919   111610.500000  125000.000\n",
       "3103    42688.932437   65606.896\n",
       "9570    36073.120242   29895.650\n",
       "10522   36484.269754   35874.780"
      ]
     },
     "execution_count": 58,
     "metadata": {},
     "output_type": "execute_result"
    }
   ],
   "source": [
    "ts = pd.DataFrame({'pred':ey_pred,'truth':y_test})\n",
    "ts.head()"
   ]
  },
  {
   "cell_type": "code",
   "execution_count": 62,
   "metadata": {},
   "outputs": [],
   "source": [
    "ts.sort_values(by=['truth'], axis=0,inplace=True)"
   ]
  },
  {
   "cell_type": "code",
   "execution_count": 63,
   "metadata": {},
   "outputs": [
    {
     "data": {
      "image/png": "[encoded data removed]",
      "text/plain": [
       "<matplotlib.figure.Figure at 0x116222278>"
      ]
     },
     "metadata": {},
     "output_type": "display_data"
    }
   ],
   "source": [
    "sns.jointplot(data=ts,x='pred',y='truth');"
   ]
  },
  {
   "cell_type": "markdown",
   "metadata": {},
   "source": [
    "A RandomForest model can also be used to find the most important features in classification or regression problems. The importance of a feature is related to the number of times it is used in the different trees of the random forest.\n",
    "\n",
    "The following code (adapted form [this code](http://scikit-learn.org/stable/auto_examples/ensemble/plot_forest_importances.html)) plot the feature importance on the Kaggle problem. \n",
    "\n",
    "**Question**\n",
    "> * What is the most important feature to predict the salary ?\n",
    "> "
   ]
  },
  {
   "cell_type": "code",
   "execution_count": null,
   "metadata": {},
   "outputs": [],
   "source": [
    "\n",
    "feature_names=['Age','GenderSelect_label','Country_label','EmploymentStatus_label','CurrentJobTitleSelect_label','MajorSelect_label']\n",
    "importances = forest.feature_importances_\n",
    "std = np.std([tree.feature_importances_ for tree in forest.estimators_],\n",
    "             axis=0)\n",
    "indices = np.argsort(importances)[::-1]\n",
    "\n",
    "# Print the feature ranking\n",
    "print(\"Feature ranking:\")\n",
    "\n",
    "for f in range(X.shape[1]):\n",
    "    print(\"%d. feature %d %s(%f)\" % (f + 1, indices[f],feature_names[indices[f]], importances[indices[f]]))\n",
    "\n",
    "# Plot the feature importances of the forest\n",
    "plt.figure()\n",
    "plt.title(\"Feature importances\")\n",
    "plt.bar(range(X.shape[1]), importances[indices],\n",
    "       color=\"r\", yerr=std[indices], align=\"center\")\n",
    "plt.xticks(range(X.shape[1]), indices)\n",
    "plt.xlim([-1, X.shape[1]])\n",
    "plt.show()"
   ]
  },
  {
   "cell_type": "markdown",
   "metadata": {},
   "source": [
    "### Predict you salary\n",
    "\n",
    "You can use the forest to predict you salary (according to Kaggle standards): \n",
    "\n",
    "**Question**    \n",
    "> * create a list with your parameters `['Age','GenderSelect_label','Country_label','EmploymentStatus_label','CurrentJobTitleSelect_label','MajorSelect_label']` encoded with the values previously defined with the LabelEncoder()\n",
    "> * predict with the forest "
   ]
  },
  {
   "cell_type": "code",
   "execution_count": null,
   "metadata": {},
   "outputs": [],
   "source": [
    "#['Age','GenderSelect_label','Country_label','EmploymentStatus_label','CurrentJobTitleSelect_label','MajorSelect_label']]\n",
    "x = np.array([40,0,12,0,12,4]).reshape(1,-1) # reshape to avoid warning\n",
    "forest.predict(x)"
   ]
  },
  {
   "cell_type": "code",
   "execution_count": null,
   "metadata": {
    "collapsed": true
   },
   "outputs": [],
   "source": []
  },
  {
   "cell_type": "code",
   "execution_count": null,
   "metadata": {
    "collapsed": true
   },
   "outputs": [],
   "source": []
  }
 ],
 "metadata": {
  "kernelspec": {
   "display_name": "Python 3",
   "language": "python",
   "name": "python3"
  },
  "language_info": {
   "codemirror_mode": {
    "name": "ipython",
    "version": 3
   },
   "file_extension": ".py",
   "mimetype": "text/x-python",
   "name": "python",
   "nbconvert_exporter": "python",
   "pygments_lexer": "ipython3",
   "version": "3.8.5"
  }
 },
 "nbformat": 4,
 "nbformat_minor": 2
}
