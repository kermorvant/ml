{
 "cells": [
  {
   "cell_type": "markdown",
   "metadata": {},
   "source": [
    "# Convolutional neural network\n",
    "In this notebook, you will program the forward step of  convolution and max pooling layers. These layers are one of the basic elements needed to build a complete deep convolutional network.\n",
    "\n",
    "## Padding\n",
    "\n",
    "The padding is needed to keep the same image size through convolutions. It simply consist in adding zero values at the beggining and at the end of each lines and columns of the image. To implement the image padding, the numpy function [np.pad](https://docs.scipy.org/doc/numpy/reference/generated/numpy.pad.html) can be used."
   ]
  },
  {
   "cell_type": "code",
   "execution_count": 3,
   "metadata": {
    "collapsed": true
   },
   "outputs": [],
   "source": [
    "import numpy as np\n",
    "from numpy.testing import *\n",
    "import matplotlib.pyplot as plt\n",
    "%matplotlib inline\n",
    "np.random.seed(1)"
   ]
  },
  {
   "cell_type": "code",
   "execution_count": 4,
   "metadata": {
    "collapsed": true
   },
   "outputs": [],
   "source": [
    "def zero_pad(X, pad):\n",
    "    \"\"\"\n",
    "    Pad with zeros all images of the dataset X. \n",
    "    The padding is applied to the height and width of an image \n",
    "    \n",
    "     X: numpy array of shape (m, n_H, n_W, n_C) representing a batch of m images\n",
    "    params: pad: integer, amount of padding around each image on vertical and horizontal dimensions\n",
    "    \n",
    "    returns: padded image of shape (m, n_H + 2*pad, n_W + 2*pad, n_C)\n",
    "    \"\"\"\n",
    "    \n",
    "    X_pad = np.pad(X,((0,0),(pad,pad),(pad,pad),(0,0)),'constant') # YOUR CODE HERE\n",
    "    \n",
    "    return X_pad"
   ]
  },
  {
   "cell_type": "code",
   "execution_count": 5,
   "metadata": {},
   "outputs": [
    {
     "name": "stdout",
     "output_type": "stream",
     "text": [
      "all is correct !\n"
     ]
    },
    {
     "data": {
      "image/png": "[encoded data removed]",
      "text/plain": [
       "<matplotlib.figure.Figure at 0x10651f780>"
      ]
     },
     "metadata": {},
     "output_type": "display_data"
    }
   ],
   "source": [
    "np.random.seed(1)\n",
    "x = np.random.randn(4, 3, 3, 2)\n",
    "x_pad = zero_pad(x, 2)\n",
    "assert_equal(x.shape,(4, 3, 3, 2))\n",
    "assert_equal(x_pad.shape,(4, 7, 7, 2))\n",
    "assert_allclose(x_pad[1,1],[[0., 0.],[0., 0.], [0., 0.],[0. ,0.], [0. ,0.],[0., 0.], [0., 0.]])\n",
    "fig, axarr = plt.subplots(1, 2)\n",
    "axarr[0].set_title('x')\n",
    "axarr[0].imshow(x[0,:,:,0])\n",
    "axarr[1].set_title('x_pad')\n",
    "axarr[1].imshow(x_pad[0,:,:,0])\n",
    "print (\"all is correct !\")"
   ]
  },
  {
   "cell_type": "markdown",
   "metadata": {},
   "source": [
    "## Convolution layer\n",
    "\n",
    "The principle of the convolution layer is illustrated on the following animation\n",
    "\n",
    "<img src=\"https://kermorvant.github.io/ml/images/conv_NN.gif\" style=\"width:600px;\">\n",
    "\n",
    "We will decompose the task in the following steps : \n",
    "1. `conv_single_step`: compute a single convolution step : this correspond to the computation of 1 value in one dimension in the output volume. It consider all the dimension of the previous layer and compute the convolution with the kernel. Note that the kernel has the same \"depth\" as the previous layer but all the values are summed.\n",
    "2. `conv_forward`: apply the single convolution step at each position and as many times as the depth of the output layer. \n",
    "\n",
    "### Single convolution step\n",
    "\n",
    "First, we implement a single convolution step : "
   ]
  },
  {
   "cell_type": "code",
   "execution_count": 10,
   "metadata": {
    "collapsed": true
   },
   "outputs": [],
   "source": [
    "def conv_single_step(a_slice_prev, W, b):\n",
    "    \"\"\"\n",
    "    Apply one filter defined by parameters W on a single slice (a_slice_prev) of the output activation \n",
    "    of the previous layer.\n",
    "    \n",
    "    params: a_slice_prev: slice of input data of shape (f, f, n_C_prev)\n",
    "    params: W: convolution weights  of shape (f, f, n_C_prev)\n",
    "    params: b: bias weights of shape (1, 1, 1)\n",
    "    \n",
    "    returns: Z:  a scalar value, result of convolving the sliding window (W, b) on a slice x of the input data\n",
    "    \"\"\"\n",
    "\n",
    "    # Element-wise product between a_slice and W\n",
    "    s = np.multiply(a_slice_prev,W)\n",
    "    print (s)\n",
    "    # Sum over all entries of the volume s.\n",
    "    Z = np.sum(s)\n",
    "    print (Z)\n",
    "    print (b)\n",
    "    # Add bias b to Z. Cast b to a float() so that Z results in a scalar value.\n",
    "    Z = np.add (Z,float(b))\n",
    "\n",
    "    return Z"
   ]
  },
  {
   "cell_type": "code",
   "execution_count": 11,
   "metadata": {},
   "outputs": [
    {
     "name": "stdout",
     "output_type": "stream",
     "text": [
      "[[[ 0.19517964 -0.37757796 -0.15854148]\n",
      "  [ 0.37795303 -0.98874397  0.80402579]\n",
      "  [-0.36448112 -0.44654162  0.26766851]\n",
      "  [-0.23218928  0.41755949 -1.82351535]]\n",
      "\n",
      " [[ 0.24323087 -0.48116947  0.58154416]\n",
      "  [ 0.32786971 -0.08423431  0.06634126]\n",
      "  [ 0.04777032  0.88577236 -2.40548621]\n",
      "  [-1.59860247 -1.30199961 -0.25349124]]\n",
      "\n",
      " [[ 0.14417035 -0.5990611  -0.03878845]\n",
      "  [ 1.89231409  0.0820284   0.43912088]\n",
      "  [-0.1591475  -0.30233062  0.15277783]\n",
      "  [ 0.16968185 -0.12522861 -0.00519314]]\n",
      "\n",
      " [[-0.22156233  0.02789749 -1.11316672]\n",
      "  [ 0.280169   -0.02336965 -1.00256263]\n",
      "  [-0.89578144  0.31336883 -0.01906739]\n",
      "  [ 0.40686849  0.08085163  0.16243388]]]\n",
      "-6.655235775109145\n",
      "[[[-0.34385368]]]\n",
      "all is correct !\n"
     ]
    }
   ],
   "source": [
    "np.random.seed(1)\n",
    "a_slice_prev = np.random.randn(4, 4, 3)\n",
    "W = np.random.randn(4, 4, 3)\n",
    "b = np.random.randn(1, 1, 1)\n",
    "Z = conv_single_step(a_slice_prev, W, b)\n",
    "assert_almost_equal (Z,-6.99908945068)\n",
    "print (\"all is correct !\")"
   ]
  },
  {
   "cell_type": "markdown",
   "metadata": {},
   "source": [
    "### Apply convolution at multiple positions\n",
    "\n",
    "To apply the convolution at each position, you need to compute the dimensions of the output  layer. The dimensions are given by the following formula : \n",
    "\n",
    "The formulas relating the output shape of the convolution to the input shape is:\n",
    "$$ n_H = \\lfloor \\frac{n_{H_{prev}} - f + 2 \\times pad}{stride} \\rfloor +1 $$\n",
    "$$ n_W = \\lfloor \\frac{n_{W_{prev}} - f + 2 \\times pad}{stride} \\rfloor +1 $$\n",
    "$$ n_C = \\text{number of filters used in the convolution}$$\n",
    "\n",
    "Then you will need to locate the region of the image on which the convolution kernel is applied : \n",
    "\n",
    "<img src=\"https://kermorvant.github.io/ml/images/cnn_vert_horiz_boundaries.png\" style=\"width:350px;\">"
   ]
  },
  {
   "cell_type": "code",
   "execution_count": null,
   "metadata": {
    "collapsed": true
   },
   "outputs": [],
   "source": [
    "def conv_forward(A_prev, W, b, hparameters):\n",
    "    \"\"\"\n",
    "    Implements the forward propagation for a convolution function\n",
    "    \n",
    "    params: A_prev:  output activations of the previous layer of shape (m, n_H_prev, n_W_prev, n_C_prev)\n",
    "    params: W: convolution weights  of shape (f, f, n_C_prev, n_C)\n",
    "    params: bias: weights of shape  (1, 1, 1, n_C)\n",
    "    params: hparameters: python dictionary containing \"stride\" and \"pad\"\n",
    "        \n",
    "    returns: Z:  conv output of shape (m, n_H, n_W, n_C)\n",
    "    cache:  cache of values needed for the conv_backward() function\n",
    "    \"\"\"\n",
    "    \n",
    "\n",
    "    # Retrieve dimensions from A_prev's shape \n",
    "    (m, n_H_prev, n_W_prev, n_C_prev) = A_prev.shape\n",
    "    \n",
    "    # Retrieve dimensions from W's shape \n",
    "    (f, f, n_C_prev, n_C) = W.shape\n",
    "    \n",
    "    # Retrieve information from \"hparameters\" \n",
    "    stride = hparameters['stride']\n",
    "    pad = hparameters['pad']\n",
    "    \n",
    "    # Compute the dimensions of the CONV output volume using the formula given above. \n",
    "    n_H = int((n_H_prev+2*pad-f)/2.0+1)\n",
    "    n_W = int((n_W_prev+2*pad-f)/2.0+1)\n",
    "\n",
    "    # Initialize the output volume Z with zeros. \n",
    "    Z = np.zeros((m,n_H,n_W,n_C))\n",
    "    \n",
    "    # Create A_prev_pad by padding A_prev\n",
    "    A_prev_pad = zero_pad(A_prev,pad)\n",
    "    \n",
    "    # loop over the batch of training examples\n",
    "    for i in range(m):                \n",
    "        # Select ith training example's padded activation\n",
    "        a_prev_pad = A_prev_pad[i,:,:,:]             \n",
    "        # loop over vertical axis of the output volume\n",
    "        for h in range(n_H): \n",
    "            # loop over horizontal axis of the output volume\n",
    "            for w in range(n_W):                     \n",
    "                # Find the corners of the current \"slice\"             \n",
    "                vert_start = h*stride\n",
    "                vert_end = vert_start+f\n",
    "                horiz_start = w*stride\n",
    "                horiz_end = horiz_start+f\n",
    "                for c in range(n_C):   \n",
    "                    # loop over channels (= #filters) of the output volume\n",
    "                    # Use the corners to define the (3D) slice of a_prev_pad \n",
    "                    a_slice_prev = a_prev_pad[vert_start:vert_end,horiz_start:horiz_end,:]\n",
    "                    # Convolve the (3D) slice with the correct filter W and bias b, to get back one output neuron.\n",
    "                    Z[i, h, w, c] = conv_single_step(a_slice_prev,W[:,:,:,c],b[:,:,:,c])\n",
    "                                        \n",
    "    # dimension check\n",
    "    assert(Z.shape == (m, n_H, n_W, n_C))\n",
    "    # Save information in \"cache\" for the backprop\n",
    "    cache = (A_prev, W, b, hparameters)\n",
    "    \n",
    "    return Z, cache"
   ]
  },
  {
   "cell_type": "code",
   "execution_count": 36,
   "metadata": {},
   "outputs": [
    {
     "name": "stdout",
     "output_type": "stream",
     "text": [
      "all is correct !\n"
     ]
    }
   ],
   "source": [
    "\n",
    "np.random.seed(1)\n",
    "A_prev = np.random.randn(10,4,4,3)\n",
    "W = np.random.randn(2,2,3,8)\n",
    "b = np.random.randn(1,1,1,8)\n",
    "hparameters = {\"pad\" : 2,\"stride\": 2}\n",
    "Z, cache_conv = conv_forward(A_prev, W, b, hparameters)\n",
    "assert_almost_equal(np.mean(Z),0.0489952035289)\n",
    "assert_allclose(Z[3,2,1],[-0.61490741 ,-6.7439236 ,-2.55153897 ,1.75698377, 3.56208902, 0.53036437, 5.18531798 ,8.75898442])\n",
    "assert_allclose(cache_conv[0][1][2][3],[-0.20075807, 0.18656139, 0.41005165])\n",
    "print (\"all is correct !\")"
   ]
  },
  {
   "cell_type": "markdown",
   "metadata": {},
   "source": [
    "## Pooling layer\n",
    "\n",
    "The second kind of layer often used in deep convolution neural networks is the max pooling layer. Other kind of pooling exists (max, average, L2), but we will focus on max pooling.\n",
    "\n",
    "The compution of a ma pooling layer with size f=2 and stride=2 is given below : \n",
    "\n",
    "<img src=\"https://kermorvant.github.io/ml/images/cnn_max_pooling.png\" style=\"width:350px;\">\n",
    "\n",
    "\n",
    "Since the single operation is a simple max over values and that the skeleton is similar to that of the convolution, we will directly implement the application of max pooling at mutliple position.\n"
   ]
  },
  {
   "cell_type": "code",
   "execution_count": 37,
   "metadata": {
    "collapsed": true
   },
   "outputs": [],
   "source": [
    "def pool_forward(A_prev, hparameters, mode = \"max\"):\n",
    "    \"\"\"\n",
    "    Implements the forward pass of the pooling layer\n",
    "    \n",
    "    Arguments:\n",
    "    params: A_prev: input data, numpy array of shape (m, n_H_prev, n_W_prev, n_C_prev)\n",
    "    params: hparameters:  dictionary containing \"f\" and \"stride\"\n",
    "    \n",
    "    \n",
    "    returns: A:  output of the pool layer  of shape (m, n_H, n_W, n_C)\n",
    "    cache: cache used in the backward pass of the pooling layer, contains the input and hparameters \n",
    "    \"\"\"\n",
    "    \n",
    "    # Retrieve dimensions from the input shape\n",
    "    (m, n_H_prev, n_W_prev, n_C_prev) = A_prev.shape\n",
    "    \n",
    "    # Retrieve hyperparameters from \"hparameters\"\n",
    "    f = hparameters[\"f\"]\n",
    "    stride = hparameters[\"stride\"]\n",
    "    \n",
    "    # Define the dimensions of the output\n",
    "    n_H = int(1 + (n_H_prev - f) / stride)\n",
    "    n_W = int(1 + (n_W_prev - f) / stride)\n",
    "    n_C = n_C_prev\n",
    "    \n",
    "    # Initialize output matrix A\n",
    "    A = np.zeros((m, n_H, n_W, n_C))              \n",
    "    \n",
    "    # loop over the training examples\n",
    "    for i in range(m):         \n",
    "        # loop on the vertical axis of the output volume\n",
    "        for h in range(n_H):      \n",
    "            # loop on the horizontal axis of the output volume\n",
    "            for w in range(n_W):   \n",
    "                # loop over the channels of the output volume\n",
    "                for c in range (n_C):            \n",
    "                    \n",
    "                    # Find the boundaries of the current \"slice\" \n",
    "                    vert_start = h*stride\n",
    "                    vert_end = vert_start+f\n",
    "                    horiz_start = w*stride\n",
    "                    horiz_end = horiz_start+f\n",
    "                    \n",
    "                    # Use the boundaries to define the current slice on the ith training example of A_prev, channel c. \n",
    "                    a_prev_slice = A_prev[i,vert_start:vert_end,horiz_start:horiz_end,c]\n",
    "                    \n",
    "                    # Compute the max pooling operation on the slice. \n",
    "                    A[i, h, w, c] = np.max(a_prev_slice)\n",
    "                    \n",
    "    # Store the input and hparameters in \"cache\" for pool_backward()\n",
    "    cache = (A_prev, hparameters)\n",
    "    \n",
    "    # Making sure your output shape is correct\n",
    "    assert(A.shape == (m, n_H, n_W, n_C))\n",
    "    \n",
    "    return A, cache"
   ]
  },
  {
   "cell_type": "code",
   "execution_count": 38,
   "metadata": {},
   "outputs": [
    {
     "name": "stdout",
     "output_type": "stream",
     "text": [
      "all is correct !\n"
     ]
    }
   ],
   "source": [
    "np.random.seed(1)\n",
    "A_prev = np.random.randn(2, 4, 4, 3)\n",
    "hparameters = {\"stride\" : 2, \"f\": 3}\n",
    "A, cache = pool_forward(A_prev, hparameters)\n",
    "assert_allclose(A,[[[[ 1.74481176, 0.86540763 ,1.13376944]]] ,[[[ 1.13162939, 1.51981682, 2.18557541]]]])\n",
    "print (\"all is correct !\")"
   ]
  },
  {
   "cell_type": "markdown",
   "metadata": {},
   "source": [
    "You now know precisely the details of the convolution and max pooling layers."
   ]
  },
  {
   "cell_type": "code",
   "execution_count": null,
   "metadata": {
    "collapsed": true
   },
   "outputs": [],
   "source": []
  }
 ],
 "metadata": {
  "kernelspec": {
   "display_name": "Python 3",
   "language": "python",
   "name": "python3"
  },
  "language_info": {
   "codemirror_mode": {
    "name": "ipython",
    "version": 3
   },
   "file_extension": ".py",
   "mimetype": "text/x-python",
   "name": "python",
   "nbconvert_exporter": "python",
   "pygments_lexer": "ipython3",
   "version": "3.8.5"
  }
 },
 "nbformat": 4,
 "nbformat_minor": 2
}
