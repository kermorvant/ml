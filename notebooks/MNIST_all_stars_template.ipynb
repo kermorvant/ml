{
 "cells": [
  {
   "cell_type": "markdown",
   "metadata": {},
   "source": [
    "## Experiments on the MNIST dataset\n",
    "\n",
    "The goal of this notebook is to train  several classifiers on the classical MNIST database. This database is very popular in the machine learning community as a first test for new algorithms. This dataset is quite simple and artificial : having good results on MNIST does not mean that your algorithm is good, but having bad results surely means that you have to improve your algorithm. \n",
    "\n",
    "\n",
    "<img src=\"https://kermorvant.github.io/csexed-ml/dataiku/images/MnistExamples.png\">\n",
    "\n",
    "\n",
    "\n",
    "You can find reference results on the MNIST dataset [here](http://yann.lecun.com/exdb/mnist/).\n",
    "\n",
    "### Libraries \n",
    "\n",
    "We will use the following libraries : \n",
    "* sklearn (scikit-learn) for machine learning algorithms\n",
    "* pandas for manipulating data\n",
    "* PIL for image processing\n",
    "* seaborn for graphs\n"
   ]
  },
  {
   "cell_type": "code",
   "execution_count": null,
   "metadata": {
    "collapsed": true
   },
   "outputs": [],
   "source": [
    "import pandas as pd\n",
    "import seaborn as sns\n",
    "# Display the graphs in the notebook\n",
    "%matplotlib inline"
   ]
  },
  {
   "cell_type": "markdown",
   "metadata": {},
   "source": [
    "### Feature extraction\n",
    "\n",
    "The first step is to extract features from the images to convert the image into a feature vectors. All the images  have the same size, 32x32 pixels. We have reduced them to 8x8 pixels and use the 64 pixels values vector as the features. This data is available here : https://kermorvant.github.io/csexed-ml/data/\n",
    "\n",
    "\n",
    "The features for all the images is read from the file `MNIST_all_features.csv`. The features are stored in a matrix `X` and the target class in a vector `y`.\n"
   ]
  },
  {
   "cell_type": "code",
   "execution_count": null,
   "metadata": {},
   "outputs": [],
   "source": [
    "READ_N_SAMPLES = 10000\n",
    "IMG_SIZE = 16\n",
    "all_df = pd.read_csv(\"MNIST_all_features16.csv.gz\" ,nrows=READ_N_SAMPLES)\n",
    "\n",
    "# define the features and the targets\n",
    "X = all_df.iloc[:,:IMG_SIZE*IMG_SIZE]\n",
    "y = all_df['class']\n",
    "all_df.head()\n"
   ]
  },
  {
   "cell_type": "markdown",
   "metadata": {},
   "source": [
    "It seems that all the features are equal to 0 but it is not the case: since the digits are centered, the first and last rows of pixels are white (=0). The `describe` allows to check the distribution of the features values : "
   ]
  },
  {
   "cell_type": "code",
   "execution_count": null,
   "metadata": {},
   "outputs": [],
   "source": [
    "pd.set_option('display.max_columns', 70)\n",
    "all_df.describe()"
   ]
  },
  {
   "cell_type": "markdown",
   "metadata": {},
   "source": [
    "After loading the data, we plot the class distribution."
   ]
  },
  {
   "cell_type": "code",
   "execution_count": null,
   "metadata": {},
   "outputs": [],
   "source": [
    "# plot class distriubtion\n",
    "sns.countplot(data=all_df,y='class')"
   ]
  },
  {
   "cell_type": "markdown",
   "metadata": {},
   "source": [
    "Let's have a look to the images after feature sub-resolution and check that our dataset is correct, i.e that the labels correspond to the image : \n"
   ]
  },
  {
   "cell_type": "code",
   "execution_count": null,
   "metadata": {},
   "outputs": [],
   "source": [
    "import random\n",
    "import matplotlib.pyplot as plt\n",
    "import numpy as np\n",
    "\n",
    "number_plot_images = 18\n",
    "random_indices = random.sample(range(READ_N_SAMPLES), number_plot_images)\n",
    "\n",
    "fig, axes = plt.subplots(3,6, \n",
    "                        figsize=(10,5),\n",
    "                        sharex=True, sharey=True,\n",
    "                        subplot_kw=dict( aspect='equal')) \n",
    "\n",
    "for i in range(number_plot_images):\n",
    "    \n",
    "    subplot_row = i//6 \n",
    "    subplot_col = i%6  \n",
    "    ax = axes[subplot_row, subplot_col]\n",
    "    # plot image on subplot\n",
    "    plottable_image = all_df.iloc[random_indices[i],:IMG_SIZE*IMG_SIZE].values.reshape((IMG_SIZE,IMG_SIZE))\n",
    "    ax.imshow(plottable_image, cmap='gray_r')\n",
    "    \n",
    "    ax.set_title('Digit Label: {}'.format(all_df['class'][random_indices[i]]))\n",
    "    ax.set_xbound([0,IMG_SIZE])\n",
    "\n",
    "plt.tight_layout()\n",
    "plt.show()"
   ]
  },
  {
   "cell_type": "markdown",
   "metadata": {},
   "source": [
    "### Train/dev/test split\n",
    "\n",
    "When training a classifier, the data **must** be separated into different sets : at least one training set and one test set. The split must be random and uniform, which means that the class distribution must be identical in the training and test sets.\n",
    "\n",
    "**Question:**\n",
    "> * Use [`train_test_split`](http://scikit-learn.org/stable/modules/generated/sklearn.model_selection.train_test_split.html) to create `X_train/y_train` and `X_test/y_test`. Use 80% of the data for training and 20% for testing.\n",
    "> * Train a [k-nearest neighbors](http://scikit-learn.org/stable/modules/generated/sklearn.neighbors.KNeighborsClassifier.html) classififier with k=1\n",
    "> * Test the k-NN with k= 1 on both the training and the test set. Print the score produced by [`clf.score()`](http://scikit-learn.org/stable/modules/generated/sklearn.neighbors.KNeighborsClassifier.html#sklearn.neighbors.KNeighborsClassifier.score)\n",
    "\n",
    "When evaluating a classifier, it is important to report the error rate both on the training and the classification set. These values are needed to understand what is wrong with the classifier and how to improve it.\n"
   ]
  },
  {
   "cell_type": "code",
   "execution_count": null,
   "metadata": {},
   "outputs": [],
   "source": [
    "from sklearn.model_selection import train_test_split\n",
    "from sklearn import neighbors\n",
    "\n",
    "test_percent = None # YOUR CODE HERE\n",
    "X_train, X_test, y_train, y_test = train_test_split(None, None, test_size=None, random_state=32)# YOUR CODE HERE\n",
    "\n",
    "# create a kNN classifier with a given k\n",
    "k = None # YOUR CODE HERE\n",
    "clf = neighbors.KNeighborsClassifier(None,n_jobs=-1)# YOUR CODE HERE\n",
    "\n",
    "# Train the classifier on training set\n",
    "clf.fit(None,None)# YOUR CODE HERE\n",
    "\n",
    "# Predict and evaluate on train set\n",
    "print ('Train accuracy:',clf.score(None, None))# YOUR CODE HERE\n",
    "# Predict and evaluate on test set\n",
    "print ('Test accuracy:',clf.score(None,None))# YOUR CODE HERE"
   ]
  },
  {
   "cell_type": "markdown",
   "metadata": {},
   "source": [
    "### Hyperparameter optimization\n",
    "\n",
    "\n",
    "The main parameter of the kNN algorithm is the number of neighbors (k). The best value for this parameter depends on the classification task and has to be found by trying different values and selecting the one with the best accuracy. However, this search for the best value **must not** be done on the set used to evaluate the classifier (the test set) but on a validation set. \n",
    "\n",
    "**Question** : \n",
    "\n",
    "\n",
    ">  * Create three sets : train set (60%), validation set (20%) and test set (20%), using twice `train_test_split`\n",
    ">  * Train a kNN classifier with different values of k in [1,3,5,7 9] and report the train/valid/test accuracy. \n",
    ">  * Select the is best value for k according to the accuracy on the dev set. Report the performance performance of the classifier on the test set for this value of k. "
   ]
  },
  {
   "cell_type": "code",
   "execution_count": null,
   "metadata": {},
   "outputs": [],
   "source": [
    "from IPython.display import clear_output\n",
    "\n",
    "# Create Train/dev/test sets\n",
    "# YOUR CODE HERE\n",
    "# Create validation set so that train = 60% , validation = 20% and test =  20%\n",
    "# Create X_train, X_dev, y_train, y_dev, X_test, y_test\n",
    "\n",
    "\n",
    "#  list of k values to test\n",
    "k_values = [None] # YOUR CODE HERE\n",
    "\n",
    "# store the score in a dataframe\n",
    "df_scores = pd.DataFrame(columns=['train','dev','test'],index=k_values)\n",
    "\n",
    "# iterate on différent values of k\n",
    "for k in None:# YOUR CODE HERE\n",
    "    print(\"k={}\".format(k))\n",
    "    \n",
    "    # create a kNN classifier with a given k\n",
    "    clf = neighbors.KNeighborsClassifier(None,n_jobs=-1) # YOUR CODE HERE\n",
    "    \n",
    "    # Train the classifier on training set\n",
    "    clf.fit(None,None) # YOUR CODE HERE\n",
    "    \n",
    "    # Compute the classification score on the different sets\n",
    "    for _name,_X,_y in [('train',X_train,y_train),('dev',X_dev,y_dev),('test',X_test,y_test)]:\n",
    "        df_scores.at[k,_name] = float(\"{:.3f}\".format(clf.score(None,None))) # YOUR CODE HERE\n",
    "        clear_output(wait=True)\n",
    "        print(df_scores)\n",
    "_g = df_scores.plot()\n"
   ]
  },
  {
   "cell_type": "markdown",
   "metadata": {},
   "source": [
    "## Logistic regression\n",
    "\n",
    "Another simple yet very effective classifier is the logisitic regression. This classifier is a version of the linear regression model adapted to classification. \n",
    "\n",
    "**Question** : \n",
    "\n",
    "> Using the MNIST Data, train a [Logistic Regression](http://scikit-learn.org/stable/modules/generated/sklearn.linear_model.LogisticRegression.html) classifier (`clf = linear_model.LogisticRegression()`) train set and  report the accuracy on dev and test sets. Compare to the best result of the kNN classifier.\n",
    "\n"
   ]
  },
  {
   "cell_type": "code",
   "execution_count": null,
   "metadata": {},
   "outputs": [],
   "source": [
    "from sklearn import linear_model\n",
    "# Train a logisitic regression model \n",
    "clf = linear_model.LogisticRegression()\n",
    "clf.fit(None,None) # YOUR CODE HERE\n",
    "\n",
    "print (\"logistic regression accuracy on dev set:\",clf.score(None,None)) # YOUR CODE HERE\n",
    "print (\"logistic regression accuracy on test set:\",clf.score(None,None)) # YOUR CODE HERE"
   ]
  },
  {
   "cell_type": "markdown",
   "metadata": {},
   "source": [
    "The accuracy of the classifiers depends on the size of the training set : the more data, the better accuracy. Will study the impact of the size of the training set on kNN and Logisitic Regression.\n",
    "\n",
    "For this study, we first load 2000 training samples and we separate the data in train/test set with 80%/20% ratio. Then we train the classifier on an increasing training set corresponding to  `[1%,10%,30%,50%,70%,100%]` percents of the training set. We will always be tested on the same test set (the original one). The following Figure explains the different splits : \n",
    "\n",
    "<p align=\"center\">\n",
    "  <img src=\"https://kermorvant.github.io/csexed-ml/images/learning_curve_sets.png\" width=\"300\" >\n",
    "</p>\n",
    "\n",
    "\n",
    "**Question** : \n",
    "\n",
    "\n",
    "> * Report the training and test set accuracies for the Logisitic Regresstion, 1NN and kNN (k being the best value for `k` you previously found) on an increasing training set of [1,10,30,50,70,100] percent of the initial training set.\n",
    "> * Plot the training curves on a plot similar to : \n",
    "\n",
    "<p align=\"center\">\n",
    "  <img src=\"https://kermorvant.github.io/csexed-ml/images/training_curves.png\" width=\"300\" align=\"center\">\n",
    "</p>\n",
    "\n",
    "You can use [pandas plot function](https://pandas.pydata.org/pandas-docs/stable/visualization.html#basic-plotting-plot).\n",
    "\n"
   ]
  },
  {
   "cell_type": "code",
   "execution_count": null,
   "metadata": {},
   "outputs": [],
   "source": [
    "X_train, X_test, y_train, y_test = train_test_split(X, y, test_size=0.2)\n",
    "nb_train = X_train.shape[0]\n",
    "print (nb_train)\n",
    "SIZES = [int(nb_train*x/100.) for x in [None]] # YOUR CODE HERE\n",
    "df_scores = pd.DataFrame(columns=['LogRegTrain','LogRegTest','1NNTrain','1NNTest','2NNTrain','2NNTest'],index=SIZES)\n",
    "\n",
    "# define the 3 classifiers\n",
    "clf1 = None # YOUR CODE HERE\n",
    "clf2 = None # YOUR CODE HERE\n",
    "clf3 = None # YOUR CODE HERE\n",
    "\n",
    "# loop on the training set size\n",
    "for sub_size in SIZES:\n",
    "    # get the index of the selected samples and extract the corresponding targets\n",
    "    X_sub = X_train.iloc[:sub_size]  \n",
    "    y_sub = y_train.iloc[:sub_size]\n",
    "    \n",
    "    # train the models\n",
    "    # YOUR CODE HERE\n",
    "\n",
    "    # compute accuracy on train set\n",
    "    df_scores.at[sub_size,'LogRegTrain'] =  None # YOUR CODE HERE\n",
    "    # compute accuracy on test set\n",
    "    df_scores.at[sub_size,'LogRegTest'] =  None # YOUR CODE HERE\n",
    "    \n",
    "    # compute accuracy on train set\n",
    "    df_scores.at[sub_size,'1NNTrain'] =  None # YOUR CODE HERE\n",
    "    # compute accuracy on test set\n",
    "    df_scores.at[sub_size,'1NNTest'] =  None # YOUR CODE HERE\n",
    "    \n",
    "    # compute accuracy on train set\n",
    "    df_scores.at[sub_size,'2NNTrain'] =  None # YOUR CODE HERE\n",
    "    # compute accuracy on test set\n",
    "    df_scores.at[sub_size,'2NNTest'] =  None # YOUR CODE HERE\n",
    "    clear_output(wait=True)\n",
    "    print(df_scores)\n",
    "styles1 = ['bs--','bs-','r^--','r^-','go--','go-']\n",
    "df_scores.plot(style=styles1)"
   ]
  },
  {
   "cell_type": "markdown",
   "metadata": {},
   "source": [
    "#### Pipelines\n",
    "\n",
    "Scikit-learn has a special class for dealing with hyperparamter optimization :  [GridSearchCV](http://scikit-learn.org/stable/modules/generated/sklearn.model_selection.GridSearchCV.html).\n",
    "\n",
    "We can search for the best values of the hyperparameters  by defining a pipeline. \n",
    "\n"
   ]
  },
  {
   "cell_type": "code",
   "execution_count": null,
   "metadata": {
    "collapsed": true
   },
   "outputs": [],
   "source": [
    "from sklearn.pipeline import Pipeline\n",
    "\n",
    "pipeline = Pipeline([\n",
    "    ('clf', neighbors.KNeighborsClassifier())\n",
    "    \n",
    "])\n",
    "\n",
    "parameters = {\n",
    "    'clf__n_neighbors':(1,3)\n",
    "}\n"
   ]
  },
  {
   "cell_type": "markdown",
   "metadata": {},
   "source": [
    "Then, the GridSearchCV object will be fitted on the train set with all the possible combinaison of parameter values and evaluated on a validation set with cross validation. The train/dev spit and the cross-validation is done automatically. Progress can be monitored with greater values of the parameter verbose.\n",
    "\n",
    "**Question** : \n",
    "\n",
    "\n",
    ">  *  reproduce the experiments on the parameter k in [1,3,5,7,9] from the previous question using GridSearchCV\n",
    ">  * add the exploration of different values of the feature dimension. "
   ]
  },
  {
   "cell_type": "code",
   "execution_count": null,
   "metadata": {},
   "outputs": [],
   "source": [
    "from sklearn.model_selection import  GridSearchCV\n",
    "from sklearn.metrics import classification_report\n",
    "from pprint import pprint\n",
    "if __name__ == \"__main__\":\n",
    "    # multiprocessing requires the fork to happen in a __main__ protected block\n",
    "\n",
    "    # Define the grid search to find the best parameters for both the feature extraction and the classifier\n",
    "    grid_search = GridSearchCV(pipeline, parameters, n_jobs=-1, verbose=2)\n",
    "\n",
    "    # Split the dataframe with the file names in train/test\n",
    "    df_train_dev, df_test, y_train_dev, y_test = train_test_split(all_df, all_df['class'], test_size=0.2)\n",
    "    \n",
    "    print(\"Performing grid search\")\n",
    "    print(\"pipeline:\", [name for name, _ in pipeline.steps])\n",
    "    print(\"parameters:\")\n",
    "    pprint(parameters)\n",
    "    \n",
    "    # Run the grid search\n",
    "    grid_search.fit( None,None) # YOUR CODE HERE\n",
    "    all_score = pd.DataFrame(grid_search.cv_results_)\n",
    "    print (all_score[['params','mean_train_score','mean_test_score']])\n",
    "    \n",
    "    # Print all experiments results\n",
    "    print(\"Grid scores on development set:\")\n",
    "    print()\n",
    "    means = grid_search.cv_results_['mean_test_score']\n",
    "    stds = grid_search.cv_results_['std_test_score']\n",
    "    for mean, std, params in zip(means, stds, grid_search.cv_results_['params']):\n",
    "        print(\"%0.3f (+/-%0.03f) for %r\"\n",
    "              % (mean, std * 2, params))\n",
    "    print()\n",
    "    \n",
    "    # Print best experiment results\n",
    "    print(\"Best score: %0.3f\" % grid_search.best_score_)\n",
    "    print(\"Best parameters set:\")\n",
    "    best_parameters = grid_search.best_estimator_.get_params()\n",
    "    for param_name in sorted(parameters.keys()):\n",
    "        print(\"\\t%s: %r\" % (param_name, best_parameters[param_name]))\n",
    "        \n",
    "    # predict on test with best parameters\n",
    "    y_pred = grid_search.predict(None) # YOUR CODE HERE\n",
    "    print(classification_report(None,None)) # YOUR CODE HERE\n",
    "    print()\n"
   ]
  },
  {
   "cell_type": "markdown",
   "metadata": {},
   "source": [
    "## Support Vector Machines\n",
    "\n",
    "\n",
    "We will now optimize a Support Vector Machine, SVM (Séparateurs à Vaste Marge in French) classifier on the MNIST database. These classifiers usually give very good results if they are well tuned.\n",
    "\n",
    "All the SVM classifier share a common parameter `C`: it controls how many examples are allowed to be badly classified during the optimization. For small values of C, some training example are allowed to be misclassified if the margin  (the distance between the separating line and the support vector) is large. For large values of C, the algorithm tries to minimize the number of misclassified training example, even if it lead to a small margin. The impact of the value for C is shown on the following figure : \n",
    "\n",
    "<p align=\"center\">\n",
    "  <img src=\"https://kermorvant.github.io/csexed-ml/images/svm_values_for_C.png\" width=\"400\" >\n",
    "</p>\n",
    " \n",
    "\n",
    "\n",
    "The RBF kernel (see the [scikit-learn kernels documentation](http://scikit-learn.org/stable/modules/svm.html#svm-kernels) has one more main parameter that must be optimized on the data :  `gamma`.\n",
    "\n",
    "`gamma` is a parameter controlling the *spread* of the RBF kernel : if `gamma` is small, the kernel takes into account many training samples and the decision boundary is smooth. When `gamma` is large, the kernel is focused on few training examples and the decision boundary is complex. The impact of `gamma` is illustrated on the following Figures : \n",
    "\n",
    "- `gamma` = 1\n",
    "<p align=\"center\">\n",
    "  <img src=\"https://kermorvant.github.io/csexed-ml/images/svc_parameters_using_rbf_kernel_17_0.png\" width=\"300\" >\n",
    "</p>\n",
    "\n",
    "- `gamma` = 100\n",
    "<p align=\"center\">\n",
    "  <img src=\"https://kermorvant.github.io/csexed-ml/images/svc_parameters_using_rbf_kernel_21_0.png\" width=\"300\" >\n",
    "</p>\n",
    "\n",
    "Moreover, for the RBF kernel, the data must be normalizedn you can use the [StandardScaler](http://scikit-learn.org/stable/modules/generated/sklearn.preprocessing.StandardScaler.html) to scale to [zero mean and unit variance](https://en.wikipedia.org/wiki/Feature_scaling#Standardization).  \n",
    "\n",
    "**Question** : \n",
    "> * add the StandardScaler as a pipeline step\n",
    "> * add the RBF kernel to the GridSearch [svm.SVC](http://scikit-learn.org/stable/modules/generated/sklearn.svm.SVC.html#sklearn.svm.SVC) \n",
    "> * add the optimization of  `gamma` and `C` with values :  `C in [0.1,1,5,10,50]` and `gamma in [0.0005,0.001,0.005,0.01,0.05]`. \n",
    "\n",
    "You can add a different kernel with its specific parameters this way : \n",
    "<pre>\n",
    "        {\n",
    "         'features__dim': (8,),\n",
    "         'clf__kernel': ['rbf'],\n",
    "         'clf__gamma': [1e-3, ],\n",
    "         'clf__C': [1,]\n",
    "        },\n",
    "</pre>\n",
    "\n"
   ]
  },
  {
   "cell_type": "code",
   "execution_count": null,
   "metadata": {},
   "outputs": [],
   "source": [
    "READ_N_SAMPLES = 10000\n",
    "IMG_SIZE = 16\n",
    "all_df = pd.read_csv(\"MNIST_all_features16.csv.gz\" ,nrows=READ_N_SAMPLES)\n",
    "all_df.head()\n",
    "# define the features and the targets\n",
    "X = all_df.iloc[:,:IMG_SIZE*IMG_SIZE]\n",
    "\n",
    "y = all_df['class']\n",
    "\n",
    "sns.countplot(data=all_df,y='class')"
   ]
  },
  {
   "cell_type": "code",
   "execution_count": null,
   "metadata": {},
   "outputs": [],
   "source": [
    "from sklearn.preprocessing import StandardScaler\n",
    "from sklearn import svm\n",
    "from sklearn.pipeline import Pipeline\n",
    "from sklearn.model_selection import GridSearchCV\n",
    "\n",
    "\n",
    "pipeline = Pipeline([\n",
    "    # YOUR CODE HERE\n",
    "    ('clf', svm.SVC())    \n",
    "])\n",
    "\n",
    "gamma_range = None # YOUR CODE HERE\n",
    "C_range = None # YOUR CODE HERE\n",
    "parameters = [\n",
    "        {\n",
    "        'clf__kernel': ['linear'],\n",
    "        'clf__C': C_range\n",
    "        }\n",
    "        # YOUR CODE HERE\n",
    "    \n",
    "]\n",
    "\n",
    "if __name__ == \"__main__\":\n",
    "    # multiprocessing requires the fork to happen in a __main__ protected\n",
    "    # block\n",
    "\n",
    "    # find the best parameters for both the feature extraction and the\n",
    "    # classifier\n",
    "    grid_search = GridSearchCV(pipeline, parameters, n_jobs=-1, verbose=2, cv=2)\n",
    "\n",
    "    X_train_dev, X_test, y_train_dev, y_test = train_test_split(X, y, test_size=0.2)\n",
    "    \n",
    "    print (X_train_dev.shape,X_test.shape,y_train_dev.shape,y_test.shape)\n",
    "    print(\"Performing grid search\")\n",
    "\n",
    "    grid_search.fit( None,  None) # YOUR CODE HERE\n",
    "    \n",
    "    # Print all experiments results\n",
    "    print(\"Grid scores on development set:\")\n",
    "    print()\n",
    "    means = grid_search.cv_results_['mean_test_score']\n",
    "    stds = grid_search.cv_results_['std_test_score']\n",
    "    for mean, std, params in zip(means, stds, grid_search.cv_results_['params']):\n",
    "        print(\"%0.3f (+/-%0.03f) for %r\"\n",
    "              % (mean, std * 2, params))\n",
    "    print()\n",
    "    \n",
    "    # Print best experiment results\n",
    "    print(\"Best score: %0.3f\" % grid_search.best_score_)\n",
    "\n",
    "    # predict on test with best parameters\n",
    "    y_pred = grid_search.predict(None)# YOUR CODE HERE\n",
    "    print(classification_report(None, None))# YOUR CODE HERE\n",
    "    print()\n"
   ]
  },
  {
   "cell_type": "code",
   "execution_count": null,
   "metadata": {},
   "outputs": [],
   "source": [
    "# Plots are from https://github.com/ksopyla/svm_mnist_digit_classification \n",
    "from matplotlib.colors import Normalize\n",
    "class MidpointNormalize(Normalize):\n",
    "\n",
    "    def __init__(self, vmin=None, vmax=None, midpoint=None, clip=False):\n",
    "        self.midpoint = midpoint\n",
    "        Normalize.__init__(self, vmin, vmax, clip)\n",
    "\n",
    "    def __call__(self, value, clip=None):\n",
    "        x, y = [self.vmin, self.midpoint, self.vmax], [0, 0.5, 1]\n",
    "        return np.ma.masked_array(np.interp(value, x, y))\n",
    "def plot_param_space_scores(scores, C_range, gamma_range):\n",
    "    \n",
    "    plt.figure(figsize=(8, 6))\n",
    "    plt.subplots_adjust(left=.2, right=0.95, bottom=0.15, top=0.95)\n",
    "    plt.imshow(scores, interpolation='nearest', cmap=plt.cm.jet,\n",
    "               norm=MidpointNormalize(vmin=0.5, midpoint=0.9))\n",
    "    plt.xlabel('gamma')\n",
    "    plt.ylabel('C')\n",
    "    plt.colorbar()\n",
    "    plt.xticks(np.arange(len(gamma_range)), gamma_range, rotation=45)\n",
    "    plt.yticks(np.arange(len(C_range)), C_range)\n",
    "    plt.title('Validation accuracy')\n",
    "    plt.show()\n",
    "    \n",
    "\n",
    "\n",
    "scores = grid_search.cv_results_['mean_test_score'].reshape(len(C_range),\n",
    "                                                     len(gamma_range))\n",
    "\n",
    "plot_param_space_scores(scores, C_range, gamma_range)"
   ]
  },
  {
   "cell_type": "markdown",
   "metadata": {},
   "source": [
    "Now that we have found the best classifier (SVM RBF) and the best hyperparameter values, we can train the final classifier on all the data and evaluate it.\n",
    "\n",
    "**Question** : \n",
    "> * train the best classifier with the best hyperparameter values on 80% of the data and evaluate on 20%\n"
   ]
  },
  {
   "cell_type": "code",
   "execution_count": null,
   "metadata": {},
   "outputs": [],
   "source": [
    "from sklearn import svm\n",
    "from sklearn.model_selection import train_test_split\n",
    "\n",
    "# train on all the data\n",
    "READ_N_SAMPLES = 20000\n",
    "IMG_SIZE = 16\n",
    "all_df = pd.read_csv(\"MNIST_all_features16.csv.gz\" ,nrows=READ_N_SAMPLES)\n",
    "all_df.head()\n",
    "# define the features and the targets\n",
    "X = all_df.iloc[:,:IMG_SIZE*IMG_SIZE]\n",
    "y = all_df['class']\n",
    "X_train, X_test, y_train, y_test = train_test_split(None, None, test_size=0.2)# YOUR CODE HERE\n",
    "classifier = svm.SVC(gamma=None,C=None,verbose=True) # YOUR CODE HERE\n",
    "classifier.fit( None,  None)# YOUR CODE HERE"
   ]
  },
  {
   "cell_type": "code",
   "execution_count": null,
   "metadata": {},
   "outputs": [],
   "source": [
    "from sklearn.metrics import confusion_matrix, classification_report\n",
    "y_pred = classifier.predict(X_test)\n",
    "classification_report(y_pred, y_test)"
   ]
  },
  {
   "cell_type": "code",
   "execution_count": null,
   "metadata": {
    "collapsed": true
   },
   "outputs": [],
   "source": []
  }
 ],
 "metadata": {
  "kernelspec": {
   "display_name": "Python 3",
   "language": "python",
   "name": "python3"
  },
  "language_info": {
   "codemirror_mode": {
    "name": "ipython",
    "version": 3
   },
   "file_extension": ".py",
   "mimetype": "text/x-python",
   "name": "python",
   "nbconvert_exporter": "python",
   "pygments_lexer": "ipython3",
   "version": "3.6.2"
  }
 },
 "nbformat": 4,
 "nbformat_minor": 2
}
