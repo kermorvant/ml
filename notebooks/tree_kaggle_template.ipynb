{
 "cells": [
  {
   "cell_type": "markdown",
   "metadata": {},
   "source": [
    "## Salary prediction for Kaggle Data Scientists\n",
    "\n",
    "In this exercise, we will explore the data from the 2017 Kaggle survey. The goal is to find what is the most important criterion for the salary of a data scientist. The data is available [here](https://kermorvant.github.io/ml/data/multipleChoiceResponses.csv)\n",
    "\n",
    "**Questions:**\n",
    "> * Load the Kaggle dataset with `pd.read_csv('multipleChoiceResponses.csv')` \n",
    "> * print a few lines of the dataset (`df.head()`) and compute basic statistics (`df.describe()`)\n"
   ]
  },
  {
   "cell_type": "code",
   "execution_count": null,
   "metadata": {
    "collapsed": true
   },
   "outputs": [],
   "source": [
    "import pandas as pd\n",
    "import seaborn as sns\n",
    "import numpy as np\n",
    "import matplotlib.pyplot as plt\n",
    "%matplotlib inline\n",
    "df = pd.read_csv('multipleChoiceResponses.csv',encoding=\"ISO-8859-1\",low_memory=False) # low_memory=False to remove warning\n",
    "# you code here to print a few lines of the dataset  and compute basic statistics (df.describe())"
   ]
  },
  {
   "cell_type": "markdown",
   "metadata": {},
   "source": [
    "Since we want to predict the salary (CompensationAmount), we keep only the responses which include a value for the salary and also the currency (CompensationCurrency) used for the salary. \n",
    "\n",
    "**Questions:**\n",
    "> * use the function `df.dropna()` to only keep the examples in the dataframe for which `CompensationAmount` and `CompensationCurrency` are not null.\n"
   ]
  },
  {
   "cell_type": "code",
   "execution_count": null,
   "metadata": {
    "collapsed": true
   },
   "outputs": [],
   "source": [
    "# We need salary and currency\n",
    "df.dropna(subset=['None','None'],inplace=True) # Your code here\n",
    "print (df.shape)\n",
    "print (df[['CompensationAmount','CompensationCurrency']][:10])"
   ]
  },
  {
   "cell_type": "markdown",
   "metadata": {},
   "source": [
    "The salary values are not normalized : some include the thousand separator ',' and some include a space. We need to normalize the values : \n",
    "* remove the \",\"\n",
    "* convert to numeric with `pd.to_numeric``\n"
   ]
  },
  {
   "cell_type": "code",
   "execution_count": null,
   "metadata": {
    "collapsed": true
   },
   "outputs": [],
   "source": [
    "# pd.to_numeric with coerce error to Not a number (Nan)\n",
    "df['Salary']=pd.to_numeric(df['None'].str.replace(',',''),errors='coerce')  # Your code here, replace None\n",
    "df['Salary'].isnull().sum()\n",
    "print (\"Could not convert \",df['Salary'].isnull().sum(),\"values\")"
   ]
  },
  {
   "cell_type": "markdown",
   "metadata": {},
   "source": [
    "### Currency conversion\n",
    "\n",
    "The salary is not always given in USD, so we need to convert all the amounts in USD. A conversion table is given [here](https://kermorvant.github.io/ml/data/conversionRates.csv). We will \n",
    "\n",
    "**Question** \n",
    "\n",
    ">* load this file and create a function to convert a tuple (amout,currency) in USD\n",
    ">* apply this function to the dataframe with the function `apply(func,axis=1)`\n"
   ]
  },
  {
   "cell_type": "code",
   "execution_count": null,
   "metadata": {
    "collapsed": true
   },
   "outputs": [],
   "source": [
    "# load the conversion values\n",
    "df_converter = pd.read_csv('conversionRates.csv',index_col=0)\n",
    "df_converter.head()"
   ]
  },
  {
   "cell_type": "code",
   "execution_count": null,
   "metadata": {
    "collapsed": true
   },
   "outputs": [],
   "source": [
    "# define currency conversion function\n",
    "def convert(x):\n",
    "    \"\"\"\n",
    "    x[0] is the amount\n",
    "    x[1] is the currency\n",
    "    \"\"\"\n",
    "    return x[0]*df_converter.loc[x[1]]['exchangeRate']\n",
    "print (\"1 USD =\",convert ([1,'USD']),'USD')\n",
    "print (\"1 euro=\",convert ([1,'EUR']),'USD')"
   ]
  },
  {
   "cell_type": "code",
   "execution_count": null,
   "metadata": {
    "collapsed": true
   },
   "outputs": [],
   "source": [
    "# Then we apply the conversion function to the dataframe to create a new column with the salary in USD\n",
    "df['SalaryUSD'] = df[['None','None']].apply(convert,axis=1)# Your code here, replace None\n",
    "df['SalaryUSD'].describe()"
   ]
  },
  {
   "cell_type": "markdown",
   "metadata": {},
   "source": [
    "### Outlier removal\n",
    "\n",
    "The salary data is not ready yet ! We see that we have negative salaries and salaries greater than 1M USD. These values are outliers, they must be removed. We will use the percentile to remove the outliers.\n",
    "\n",
    "**Question** \n",
    "\n",
    ">* compute the minial and maximal values to remove outliers using quantile at 10% and 90% (0.1 and 0.9)\n",
    ">* filter the dataframe to keep only the salarie between these values"
   ]
  },
  {
   "cell_type": "code",
   "execution_count": null,
   "metadata": {
    "collapsed": true
   },
   "outputs": [],
   "source": [
    "maxval = df['None'].quantile(None)# Your code here, replace None\n",
    "minval = df['None'].quantile(None)# Your code here, replace None\n",
    "print (\"Salary will be between \",int(minval),'USD and ',int(maxval),'USD')\n",
    "\n",
    "df = df[(df['None'] < maxval) &(df['None'] > minval)]# Your code here, replace None\n",
    "print ('Dataframe size after outlier removal:',df.shape)\n",
    "df.SalaryUSD.describe()\n",
    "# plot the historgram of frequences\n",
    "_ = df.SalaryUSD.plot.hist()\n"
   ]
  },
  {
   "cell_type": "markdown",
   "metadata": {},
   "source": [
    "### Variables exploration\n",
    "\n",
    "The dataframe has a lot of variables : 230. We will focus on a subset of these variables : ['Age','GenderSelect','Country','EmploymentStatus','CurrentJobTitleSelect','MajorSelect']\n",
    "\n",
    "Since the categorical data are not described with the function `df.describe()`, we will plot the data distribution for each of these variable.\n",
    "\n",
    "\n",
    "**Question**\n",
    "\n",
    ">* Plot the distribution for `GenderSelect`, `CurrentJobTitleSelect` and `MajorSelect`   values with `sns.countplot(data=df,y='GenderSelect')`\n",
    ">* Plot the distribution for `EmploymentStatus` with `df.EmploymentStatus.value_counts().plot.pie()`\n"
   ]
  },
  {
   "cell_type": "code",
   "execution_count": null,
   "metadata": {
    "collapsed": true
   },
   "outputs": [],
   "source": [
    "_ = sns.countplot(data=df,y='GenderSelect')\n"
   ]
  },
  {
   "cell_type": "code",
   "execution_count": null,
   "metadata": {
    "collapsed": true
   },
   "outputs": [],
   "source": [
    "plt.figure(figsize=(15,10))\n",
    "_ = sns.countplot(data=df,y='Country',order = df['Country'].value_counts().index)"
   ]
  },
  {
   "cell_type": "code",
   "execution_count": null,
   "metadata": {
    "collapsed": true
   },
   "outputs": [],
   "source": [
    "_ = df.EmploymentStatus.value_counts().plot.pie(figsize=(8, 8))"
   ]
  },
  {
   "cell_type": "code",
   "execution_count": null,
   "metadata": {
    "collapsed": true
   },
   "outputs": [],
   "source": [
    "_ = sns.countplot(data=df,y='CurrentJobTitleSelect',order = df['CurrentJobTitleSelect'].value_counts().index)"
   ]
  },
  {
   "cell_type": "code",
   "execution_count": null,
   "metadata": {
    "collapsed": true
   },
   "outputs": [],
   "source": [
    "_  = sns.countplot(data=df,y='MajorSelect',order = df['MajorSelect'].value_counts().index)"
   ]
  },
  {
   "cell_type": "markdown",
   "metadata": {},
   "source": [
    "### Missing data imputation\n",
    "\n",
    "Some of the values for the selected variables may be missing. We could ignore all the example with missing variable but it would reduce the size of the dataset. The best way to keep the sample with missing values is to fill the missing values. Many technics are possible, but in our case, we wil simply fill the missing values of the age with the mean age.\n",
    "\n",
    "**Question**\n",
    "\n",
    ">* Compute the mean age with `df.Age.mean()` and fill the missing values of Age with this value using `df['Age'].fillna(value)`\n",
    ">* remove outliers using percentile (as before) at 1% and 99%"
   ]
  },
  {
   "cell_type": "code",
   "execution_count": null,
   "metadata": {},
   "outputs": [],
   "source": [
    "mean_age = None # Your code here\n",
    "print (\"before filling, number of missing values is\",df['Age'].isnull().sum())\n",
    "df['Age'].fillna(None,inplace=True)\n",
    "print (\"after filling, number of missing values is\",df['Age'].isnull().sum())\n",
    "df['Age'].describe()\n"
   ]
  },
  {
   "cell_type": "code",
   "execution_count": null,
   "metadata": {
    "collapsed": true
   },
   "outputs": [],
   "source": [
    "maxval = df['Age'].quantile(None) # Your code here\n",
    "minval = df['Age'].quantile(None) # Your code here\n",
    "print (\"Age will be between \",int(minval),' and ',int(maxval))\n",
    "\n",
    "df = df[(df['Age'] < maxval) &(df['Age'] > minval)]\n",
    "df.shape\n",
    "_ = df.Age.plot.hist()"
   ]
  },
  {
   "cell_type": "markdown",
   "metadata": {},
   "source": [
    "### Categorical data encoding\n",
    "\n",
    "The categorical data can not be directly used in most classifiers, their values must be encoded for example with an integer associated to each different category. \n",
    "> * Encode the categorical data with a [LabelEncoder](http://scikit-learn.org/stable/modules/generated/sklearn.preprocessing.LabelEncoder.html). Missing values must be filled before fitting the encoder (use `fillna('UNK')` on each column).\n",
    "> * print a few lines of the dataset to see the effect of the encoder.\n"
   ]
  },
  {
   "cell_type": "code",
   "execution_count": null,
   "metadata": {
    "collapsed": true
   },
   "outputs": [],
   "source": [
    "from sklearn import preprocessing\n",
    "le = preprocessing.LabelEncoder()\n",
    "for c in ['GenderSelect','Country','EmploymentStatus','CurrentJobTitleSelect','MajorSelect']:\n",
    "    df[c+'_label'] = le.fit_transform(df[c].fillna('UNK'))\n",
    "    # print the encoded values\n",
    "    print (c)\n",
    "    print ([(idx,val) for idx,val in  enumerate(le.classes_)])\n",
    "    print()\n",
    "df.head()"
   ]
  },
  {
   "cell_type": "markdown",
   "metadata": {},
   "source": [
    "### Regression tree training and visualisation\n",
    "\n",
    "A decision tree can be used both for classification of for regression. In our case, since we want to predict the salary of a data scientist, we will use decision trees for regression.\n",
    "> * Define the features X : 'Age', 'GenderSelect_label', 'Country_label', 'EmploymentStatus_label', 'CurrentJobTitleSelect_label', 'MajorSelect_label' and the target y 'SalaryUSD'\n",
    "> * Fit a decision [DecisionTreeRegressor](http://scikit-learn.org/stable/auto_examples/tree/plot_tree_regression.html) to predict the Salary. Set max_depth to 3 to visualize the tree. You can try other values.\n"
   ]
  },
  {
   "cell_type": "code",
   "execution_count": null,
   "metadata": {
    "collapsed": true
   },
   "outputs": [],
   "source": [
    "X = df[[None]] # Your code here\n",
    "y = df['None'] # Your code here"
   ]
  },
  {
   "cell_type": "code",
   "execution_count": null,
   "metadata": {
    "collapsed": true
   },
   "outputs": [],
   "source": [
    "from sklearn.tree import DecisionTreeRegressor\n",
    "regr = DecisionTreeRegressor(max_depth=None) #Your code here\n",
    "regr.fit(None, None) # Your code here\n"
   ]
  },
  {
   "cell_type": "markdown",
   "metadata": {},
   "source": [
    "The tree can be display to see which rules have been used. The follwing functions plot the decision tree previously trained. "
   ]
  },
  {
   "cell_type": "code",
   "execution_count": null,
   "metadata": {
    "collapsed": true
   },
   "outputs": [],
   "source": [
    "import graphviz\n",
    "from sklearn import tree\n",
    "dot_data = tree.export_graphviz(regr, out_file=None,feature_names=['Age','GenderSelect_label','Country_label','EmploymentStatus_label','CurrentJobTitleSelect_label','MajorSelect_label'])\n",
    "graph = graphviz.Source(dot_data)  \n",
    "graph "
   ]
  },
  {
   "cell_type": "markdown",
   "metadata": {},
   "source": [
    "**Question**:\n",
    ">  what is the first splitting node ?"
   ]
  },
  {
   "cell_type": "markdown",
   "metadata": {},
   "source": [
    "### Salary prediction\n",
    "\n",
    "We will now build a model to predict the salary form the selected features. \n",
    "\n",
    "**Questions:**\n",
    "> * split the dataframe in train and test set\n",
    "> * train a RandomForestRegressor and a ExtraTreesRegressor\n",
    "> * compare the 2 models with a metric adapted to regression : mean_absolute_error and explained_variance_score"
   ]
  },
  {
   "cell_type": "code",
   "execution_count": null,
   "metadata": {
    "collapsed": true
   },
   "outputs": [],
   "source": [
    "from sklearn.ensemble import RandomForestRegressor\n",
    "from sklearn.ensemble import ExtraTreesRegressor\n",
    "from sklearn.model_selection import train_test_split\n",
    "from sklearn.metrics import mean_absolute_error\n",
    "from sklearn.metrics import explained_variance_score\n",
    "\n",
    "\n",
    "# split the dataframe in train and test\n",
    "X_train, X_test, y_train, y_test = train_test_split(None, None, test_size=0.2, random_state=32)# YOUR CODE HERE\n",
    "\n",
    "# train a random forest regressor\n",
    "forest = RandomForestRegressor()\n",
    "forest.fit(None, None)# YOUR CODE HERE\n",
    "\n",
    "# evaluate the random forest with regression metrics\n",
    "y_pred = forest.predict(None)# YOUR CODE HERE\n",
    "print ('Mean absolute error:',mean_absolute_error(None, None))# YOUR CODE HERE\n",
    "print ('Explained variance score:',explained_variance_score(None, None))# YOUR CODE HERE\n",
    "\n",
    "\n",
    "etree = ExtraTreesRegressor()\n",
    "etree.fit(X_train, y_train)\n",
    "ey_pred = etree.predict(X_test)\n",
    "print ('Mean absolute error:',mean_absolute_error(None, None))# YOUR CODE HERE\n",
    "print ('Explained variance score:',explained_variance_score(None, None))# YOUR CODE HERE"
   ]
  },
  {
   "cell_type": "markdown",
   "metadata": {},
   "source": [
    "### Feature importance\n",
    "\n",
    "A RandomForest model can also be used to find the most important features in classification or regression problems. The importance of a feature is related to the number of times it is used in the different trees of the random forest.\n",
    "\n",
    "The following code (adapted form [this code](http://scikit-learn.org/stable/auto_examples/ensemble/plot_forest_importances.html)) plot the feature importance on the Kaggle problem. \n",
    "\n",
    "**Question**\n",
    "> * What is the most important feature to predict the salary ?\n",
    "> "
   ]
  },
  {
   "cell_type": "code",
   "execution_count": null,
   "metadata": {
    "collapsed": true
   },
   "outputs": [],
   "source": [
    "\n",
    "feature_names=['Age','GenderSelect_label','Country_label','EmploymentStatus_label','CurrentJobTitleSelect_label','MajorSelect_label']\n",
    "importances = forest.feature_importances_\n",
    "std = np.std([tree.feature_importances_ for tree in forest.estimators_],\n",
    "             axis=0)\n",
    "indices = np.argsort(importances)[::-1]\n",
    "\n",
    "# Print the feature ranking\n",
    "print(\"Feature ranking:\")\n",
    "\n",
    "for f in range(X.shape[1]):\n",
    "    print(\"%d. feature %d %s(%f)\" % (f + 1, indices[f],feature_names[indices[f]], importances[indices[f]]))\n",
    "\n",
    "# Plot the feature importances of the forest\n",
    "plt.figure()\n",
    "plt.title(\"Feature importances\")\n",
    "plt.bar(range(X.shape[1]), importances[indices],\n",
    "       color=\"r\", yerr=std[indices], align=\"center\")\n",
    "plt.xticks(range(X.shape[1]), indices)\n",
    "plt.xlim([-1, X.shape[1]])\n",
    "plt.show()"
   ]
  },
  {
   "cell_type": "markdown",
   "metadata": {},
   "source": [
    "### Predict you salary\n",
    "\n",
    "You can use the forest to predict you salary (according to Kaggle standards): \n",
    "\n",
    "**Question**    \n",
    "> * create a list with your parameters `['Age','GenderSelect_label','Country_label','EmploymentStatus_label','CurrentJobTitleSelect_label','MajorSelect_label']` encoded with the values previously defined with the LabelEncoder()\n",
    "> * predict with the forest "
   ]
  },
  {
   "cell_type": "code",
   "execution_count": null,
   "metadata": {
    "collapsed": true
   },
   "outputs": [],
   "source": [
    "#['Age','GenderSelect_label','Country_label','EmploymentStatus_label','CurrentJobTitleSelect_label','MajorSelect_label']]\n",
    "\n",
    "# use np.array and reshape to avoid warning \n",
    "x = np.array([None]).reshape(1,-1)  # Your code here\n",
    "forest.predict(x)"
   ]
  },
  {
   "cell_type": "code",
   "execution_count": null,
   "metadata": {
    "collapsed": true
   },
   "outputs": [],
   "source": []
  },
  {
   "cell_type": "code",
   "execution_count": null,
   "metadata": {
    "collapsed": true
   },
   "outputs": [],
   "source": []
  }
 ],
 "metadata": {
  "kernelspec": {
   "display_name": "Python 3",
   "language": "python",
   "name": "python3"
  },
  "language_info": {
   "codemirror_mode": {
    "name": "ipython",
    "version": 3
   },
   "file_extension": ".py",
   "mimetype": "text/x-python",
   "name": "python",
   "nbconvert_exporter": "python",
   "pygments_lexer": "ipython3",
   "version": "3.7.9"
  }
 },
 "nbformat": 4,
 "nbformat_minor": 2
}
