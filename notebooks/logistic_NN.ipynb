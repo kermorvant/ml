{
 "cells": [
  {
   "cell_type": "markdown",
   "metadata": {},
   "source": [
    "# Logistic regression\n",
    "\n",
    "In this notebook, you will program a complete classifier based on logistic regression seen as a neural network. The different steps are quite similar across the  all the kinds of neural networks but with different complexity. We will start with the simpliest one.\n",
    "\n",
    "## Logistic regresssion as a neural network\n",
    "\n",
    "The logistic regression classifier can be seen as a simple neural network : \n",
    "\n",
    "<img src=\"https://kermorvant.github.io/csexed-ml/images/logistic_NN.png\" style=\"width:650px\" >\n",
    "\n",
    "The weights are represented by the matrix W, the intercept by the bias b and the activation function is a sigmoid.\n",
    "\n",
    "### Basic functions\n",
    "\n",
    "First, we need to define 2 basic functions\n",
    "* the sigmoid activation functions. \n",
    "* the initialization function for the W and b parameters. \n",
    "\n",
    "In this notebook, the skeleton of the functions are given, you have to fill the spaces where there is a comment #YOUR CODE HERE. To check that your code is correct, a test is provided after each function."
   ]
  },
  {
   "cell_type": "code",
   "execution_count": 14,
   "metadata": {
    "collapsed": true
   },
   "outputs": [],
   "source": [
    "import numpy as np\n",
    "from numpy.testing import *"
   ]
  },
  {
   "cell_type": "code",
   "execution_count": 15,
   "metadata": {
    "collapsed": true
   },
   "outputs": [],
   "source": [
    "# define the sigmoid function for activation\n",
    "def sigmoid(z):\n",
    "    \"\"\"\n",
    "    Compute the sigmoid of z\n",
    "    \n",
    "    :param z: a scalar or numpy array \n",
    "    :returns: sigmoid(z)\n",
    "    \"\"\"\n",
    "\n",
    "    s = 1/(1+np.exp(-z)) #YOUR CODE HERE\n",
    "    \n",
    "    return s"
   ]
  },
  {
   "cell_type": "code",
   "execution_count": 16,
   "metadata": {},
   "outputs": [
    {
     "name": "stdout",
     "output_type": "stream",
     "text": [
      "all is correct !\n"
     ]
    }
   ],
   "source": [
    "# Check that your code is correct on one example\n",
    "test_result = sigmoid(np.array([0,2]))\n",
    "assert_allclose(test_result,[0.5,0.880797])\n",
    "print (\"all is correct !\")"
   ]
  },
  {
   "cell_type": "code",
   "execution_count": 17,
   "metadata": {
    "collapsed": true
   },
   "outputs": [],
   "source": [
    "def zero_initialize(dim):\n",
    "    \"\"\"\n",
    "    Initialize w and b to 0\n",
    "\n",
    "    :param dim: size of the vector w    \n",
    "    :returs: w vector of zeros of size (dim, 1) and b = 0\n",
    "\n",
    "    \"\"\"\n",
    "    w = np.zeros((dim,1)) #YOUR CODE HERE\n",
    "    b = 0 #YOUR CODE HERE\n",
    "    \n",
    "    return w, b"
   ]
  },
  {
   "cell_type": "code",
   "execution_count": 18,
   "metadata": {},
   "outputs": [
    {
     "name": "stdout",
     "output_type": "stream",
     "text": [
      "all is correct !\n"
     ]
    }
   ],
   "source": [
    "# Check that your code is correct on one example\n",
    "dim = 2\n",
    "w, b = zero_initialize(dim)\n",
    "assert(w.shape == (dim, 1))\n",
    "assert(isinstance(b, float) or isinstance(b, int))\n",
    "assert (b==0)\n",
    "print (\"all is correct !\")"
   ]
  },
  {
   "cell_type": "markdown",
   "metadata": {},
   "source": [
    "### Forward step\n",
    "\n",
    "The forward step consist in computing the prediction of the network. This step is used both during the training and , when the training is done, when the netwok is used to make predictions. In the next function, we will compute both the output of the network and the gradient to update the parameters.\n",
    "\n",
    "The activation is \n",
    "\\begin{equation*}\n",
    "A = \\sigma(w^T X + b) = (a^{(1)}, a^{(2)}, ..., a^{(m-1)}, a^{(m)})\n",
    "\\end{equation*}\n",
    "The loss function on a sample i is : \n",
    "\\begin{equation*}\n",
    "L(\\hat a^{(i)}, y^{(i)}) = - y^{(i)}\\log(a^{(i)})+(1-y^{(i)})\\log(1-a^{(i)})\n",
    "\\end{equation*}\n",
    "\n",
    "The cost computed on m samples is \n",
    "\\begin{equation*}\n",
    "J = -\\frac{1}{m}\\sum_{i=1}^{m}y^{(i)}\\log(a^{(i)})+(1-y^{(i)})\\log(1-a^{(i)})\n",
    "\\end{equation*}\n",
    "\n",
    "The gradient for each parameter is : \n",
    "\\begin{equation*}\n",
    "\\frac{\\partial J}{\\partial w} = \\frac{1}{m}X(A-Y)^T\\tag{7}\n",
    "\\end{equation*}\n",
    "\\begin{equation*}\n",
    "\\frac{\\partial J}{\\partial b} = \\frac{1}{m} \\sum_{i=1}^m (a^{(i)}-y^{(i)})\\tag{8}\n",
    "\\end{equation*}"
   ]
  },
  {
   "cell_type": "code",
   "execution_count": 19,
   "metadata": {
    "collapsed": true
   },
   "outputs": [],
   "source": [
    "def forward(w, b, X, Y):\n",
    "    \"\"\"\n",
    "    Compute the forward propagation and compute cost and gradient\n",
    "\n",
    "    \n",
    "    :param w: weights, a numpy array of size (num_px * num_px * 3, 1)\n",
    "    :param b: bias, a scalar\n",
    "    :param X: data of size (num_px * num_px * 3, number of examples)\n",
    "    :param Y: the target vector of size (1, number of examples)\n",
    "\n",
    "    :returns:\n",
    "    cost: negative log-likelihood cost for logistic regression\n",
    "    dw: gradient of the loss with respect to w, thus same shape as w\n",
    "    db: gradient of the loss with respect to b, thus same shape as b\n",
    " \n",
    "    \"\"\"\n",
    "\n",
    "    m = X.shape[1]\n",
    "    \n",
    "    # Compute activation\n",
    "    A = sigmoid((w.T).dot(X)+b) #YOUR CODE HERE\n",
    "    print (A)\n",
    "    # Compute the cost\n",
    "    cost = -1/m*np.sum(np.multiply(Y,np.log(A))+ np.multiply((1-Y),(np.log(1-A)))) #YOUR CODE HERE\n",
    "    print (cost)\n",
    "    # Compute derivative for gradient computation\n",
    "    dw = 1/m*X.dot((A-Y).T) #YOUR CODE HERE\n",
    "    db = 1/m*np.sum(A-Y) #YOUR CODE HERE\n",
    "\n",
    "    grads = {\"dw\": dw,\"db\": db}\n",
    "    \n",
    "    return grads, cost"
   ]
  },
  {
   "cell_type": "code",
   "execution_count": null,
   "metadata": {
    "collapsed": true
   },
   "outputs": [],
   "source": []
  },
  {
   "cell_type": "code",
   "execution_count": 20,
   "metadata": {},
   "outputs": [
    {
     "name": "stdout",
     "output_type": "stream",
     "text": [
      "[[0.99987661 0.99999386 0.00449627]]\n",
      "5.801545319394553\n",
      "all is correct !\n"
     ]
    }
   ],
   "source": [
    "# Check that your code is correct on one example\n",
    "w, b, X, Y = np.array([[1.],[2.]]), 2., np.array([[1.,2.,-1.],[3.,4.,-3.2]]), np.array([[1,0,1]])\n",
    "grads, cost = forward(w, b, X, Y)\n",
    "assert(grads[\"dw\"].shape == w.shape)\n",
    "assert(grads[\"db\"].dtype == float)\n",
    "cost = np.squeeze(cost)\n",
    "assert(cost.shape == ())\n",
    "assert_allclose(grads[\"dw\"],[[0.99845601],[2.39507239]])\n",
    "assert_equal(grads[\"db\"],0.001455578136784208)\n",
    "assert_equal(cost,5.801545319394553)\n",
    "print (\"all is correct !\")"
   ]
  },
  {
   "cell_type": "markdown",
   "metadata": {},
   "source": [
    "### Training step\n",
    "\n",
    "During the training phase, after each forward step the parameters are updated according to the gradient. For a parameter $\\theta$, the update rule is $ \\theta = \\theta - \\alpha \\text{ } d\\theta$, where $\\alpha$ is the learning rate."
   ]
  },
  {
   "cell_type": "code",
   "execution_count": 21,
   "metadata": {
    "collapsed": true
   },
   "outputs": [],
   "source": [
    "def train(w, b, X, Y, num_iterations, learning_rate):\n",
    "    \"\"\"\n",
    "    This function optimizes w and b by running a gradient descent algorithm\n",
    "    \n",
    "    Arguments:\n",
    "    :param w: weights, a numpy array of size (num_px * num_px * 3, 1)\n",
    "    :param b: bias, a scalar\n",
    "    :param X: data of shape (num_px * num_px * 3, number of examples)\n",
    "    :param Y: target vector  of shape (1, number of examples)\n",
    "    :param num_iterations:  number of iterations of the optimization loop\n",
    "    :param learning_rate:  learning rate of the gradient descent update rule\n",
    "    \n",
    "    returns:\n",
    "    params: dictionary containing the weights w and bias b\n",
    "    grads: dictionary containing the gradients of the weights and bias with respect to the cost function\n",
    "    costs: list of all the costs computed during the optimization, this will be used to plot the learning curve.\n",
    "    \n",
    "    \"\"\"\n",
    "    \n",
    "    costs = []\n",
    "\n",
    "    for i in range(num_iterations):\n",
    "        \n",
    "        # Compute gradient  and cost\n",
    "        grads, cost = forward(w, b, X, Y)\n",
    " \n",
    "        # Get derivatives for the parameters\n",
    "        dw = grads[\"dw\"]\n",
    "        db = grads[\"db\"]\n",
    "        \n",
    "        # Update the parameters\n",
    "        w = w - learning_rate*dw\n",
    "        b = b - learning_rate*db\n",
    "        \n",
    "        # Store the costs\n",
    "        if i % 100 == 0:\n",
    "            costs.append(cost)\n",
    "            print (cost)\n",
    "            print (\"Cost after iteration %i: %f\" %(i, cost))\n",
    "        \n",
    "    params = {\"w\": w,\"b\": b}\n",
    "    grads = {\"dw\": dw,\"db\": db}\n",
    "    \n",
    "    return params, grads, costs"
   ]
  },
  {
   "cell_type": "code",
   "execution_count": 22,
   "metadata": {},
   "outputs": [
    {
     "name": "stdout",
     "output_type": "stream",
     "text": [
      "[[0.99987661 0.99999386 0.00449627]]\n",
      "5.801545319394553\n",
      "5.801545319394553\n",
      "Cost after iteration 0: 5.801545\n",
      "[[0.99986717 0.99999318 0.00485901]]\n",
      "5.7409505028093335\n",
      "[[0.99985702 0.99999243 0.00525079]]\n",
      "5.680375426895575\n",
      "[[0.9998461 0.9999916 0.0056739]]\n",
      "5.619821667177627\n",
      "[[0.99983434 0.99999068 0.00613079]]\n",
      "5.559290922630777\n",
      "[[0.99982169 0.99998966 0.00662412]]\n",
      "5.4987850248644605\n",
      "[[0.99980807 0.99998852 0.00715672]]\n",
      "5.4383059480708145\n",
      "[[0.99979342 0.99998726 0.00773166]]\n",
      "5.3778558196064505\n",
      "[[0.99977765 0.99998587 0.00835222]]\n",
      "5.31743693118918\n",
      "[[0.99976068 0.99998432 0.00902193]]\n",
      "5.257051750930272\n",
      "[[0.99974243 0.9999826  0.00974457]]\n",
      "5.1967029360407295\n",
      "[[0.99972278 0.99998069 0.01052419]]\n",
      "5.136393346354229\n",
      "[[0.99970165 0.99997857 0.01136515]]\n",
      "5.0761260586313774\n",
      "[[0.99967892 0.99997623 0.01227208]]\n",
      "5.015904381700862\n",
      "[[0.99965446 0.99997362 0.01324997]]\n",
      "4.955731872427952\n",
      "[[0.99962815 0.99997074 0.01430414]]\n",
      "4.895612352538272\n",
      "[[0.99959985 0.99996754 0.01544026]]\n",
      "4.835549926277942\n",
      "[[0.99956941 0.99996399 0.0166644 ]]\n",
      "4.7755489989189925\n",
      "[[0.99953668 0.99996006 0.017983  ]]\n",
      "4.71561429608081\n",
      "[[0.99950148 0.9999557  0.01940294]]\n",
      "4.6557508838423285\n",
      "[[0.99946362 0.99995086 0.02093151]]\n",
      "4.595964189588867\n",
      "[[0.99942292 0.9999455  0.02257647]]\n",
      "4.536260023537635\n",
      "[[0.99937917 0.99993956 0.02434602]]\n",
      "4.476644600852061\n",
      "[[0.99933213 0.99993298 0.02624884]]\n",
      "4.417124564226807\n",
      "[[0.99928158 0.99992569 0.0282941 ]]\n",
      "4.357707006833278\n",
      "[[0.99922725 0.99991762 0.03049146]]\n",
      "4.298399495423375\n",
      "[[0.99916886 0.99990867 0.03285107]]\n",
      "4.239210093432046\n",
      "[[0.99910614 0.99989876 0.0353836 ]]\n",
      "4.180147383816733\n",
      "[[0.99903875 0.99988779 0.03810018]]\n",
      "4.1212204913751425\n",
      "[[0.99896638 0.99987565 0.04101244]]\n",
      "4.062439104215671\n",
      "[[0.99888865 0.99986221 0.04413247]]\n",
      "4.003813494033474\n",
      "[[0.99880521 0.99984734 0.0474728 ]]\n",
      "3.9453545347773975\n",
      "[[0.99871563 0.99983088 0.05104636]]\n",
      "3.88707371925397\n",
      "[[0.99861949 0.99981268 0.05486645]]\n",
      "3.82898317317329\n",
      "[[0.99851633 0.99979256 0.05894669]]\n",
      "3.7710956660899897\n",
      "[[0.99840567 0.99977032 0.06330092]]\n",
      "3.713424618643993\n",
      "[[0.998287   0.99974574 0.06794318]]\n",
      "3.6559841054874314\n",
      "[[0.99815976 0.99971859 0.07288757]]\n",
      "3.598788853232609\n",
      "[[0.99802339 0.9996886  0.07814817]]\n",
      "3.5418542327531086\n",
      "[[0.99787726 0.9996555  0.08373893]]\n",
      "3.485196245157411\n",
      "[[0.99772073 0.99961897 0.08967354]]\n",
      "3.4288315007655084\n",
      "[[0.99755313 0.99957868 0.09596524]]\n",
      "3.3727771904490416\n",
      "[[0.99737372 0.99953425 0.10262672]]\n",
      "3.317051048752003\n",
      "[[0.99718176 0.99948529 0.10966994]]\n",
      "3.261671308280287\n",
      "[[0.99697645 0.99943136 0.11710591]]\n",
      "3.2066566449616545\n",
      "[[0.99675695 0.99937198 0.12494455]]\n",
      "3.1520261139053503\n",
      "[[0.99652239 0.99930664 0.13319445]]\n",
      "3.0977990757617393\n",
      "[[0.99627186 0.99923479 0.14186271]]\n",
      "3.0439951136709475\n",
      "[[0.99600438 0.9991558  0.15095472]]\n",
      "2.9906339411123737\n",
      "[[0.99571896 0.99906904 0.16047398]]\n",
      "2.9377353012070078\n",
      "[[0.99541457 0.99897379 0.1704219 ]]\n",
      "2.8853188582848093\n",
      "[[0.9950901  0.99886929 0.18079766]]\n",
      "2.8334040827949956\n",
      "[[0.99474445 0.99875473 0.19159805]]\n",
      "2.782010130904063\n",
      "[[0.99437642 0.99862922 0.20281734]]\n",
      "2.7311557203791432\n",
      "[[0.99398482 0.99849182 0.21444718]]\n",
      "2.680859004584204\n",
      "[[0.99356839 0.99834151 0.22647658]]\n",
      "2.631137446610227\n",
      "[[0.99312584 0.9981772  0.23889185]]\n",
      "2.5820076957049856\n",
      "[[0.99265583 0.99799773 0.25167664]]\n",
      "2.533485468253436\n",
      "[[0.99215698 0.99780187 0.26481201]]\n",
      "2.4855854355790754\n",
      "[[0.99162789 0.99758828 0.27827651]]\n",
      "2.4383211207810884\n",
      "[[0.9910671  0.99735557 0.29204635]]\n",
      "2.391704806691144\n",
      "[[0.99047312 0.99710222 0.30609559]]\n",
      "2.3457474568306047\n",
      "[[0.98984444 0.99682666 0.32039635]]\n",
      "2.300458650974883\n",
      "[[0.98917948 0.9965272  0.33491908]]\n",
      "2.2558465366021174\n",
      "[[0.98847666 0.99620204 0.34963286]]\n",
      "2.2119177971257997\n",
      "[[0.98773435 0.9958493  0.36450568]]\n",
      "2.1686776374047385\n",
      "[[0.98695089 0.99546698 0.37950477]]\n",
      "2.1261297866046034\n",
      "[[0.9861246  0.99505296 0.39459693]]\n",
      "2.084276518069984\n",
      "[[0.98525374 0.99460503 0.40974886]]\n",
      "2.043118685473982\n",
      "[[0.98433658 0.99412085 0.42492746]]\n",
      "2.0026557741558935\n",
      "[[0.98337134 0.99359795 0.44010017]]\n",
      "1.9628859662520688\n",
      "[[0.98235623 0.99303374 0.45523519]]\n",
      "1.9238062179776763\n",
      "[[0.98128941 0.9924255  0.47030181]]\n",
      "1.8854123472355346\n",
      "[[0.98016904 0.99177041 0.48527059]]\n",
      "1.8476991296126815\n",
      "[[0.97899325 0.99106546 0.50011359]]\n",
      "1.8106604007761158\n",
      "[[0.97776017 0.99030755 0.51480449]]\n",
      "1.7742891632904003\n",
      "[[0.97646789 0.98949344 0.5293188 ]]\n",
      "1.7385776959460097\n",
      "[[0.97511451 0.98861972 0.54363388]]\n",
      "1.7035176637984835\n",
      "[[0.97369809 0.98768287 0.55772904]]\n",
      "1.6691002272662274\n",
      "[[0.97221673 0.98667923 0.5715856 ]]\n",
      "1.6353161488083263\n",
      "[[0.97066849 0.98560499 0.58518685]]\n",
      "1.6021558958939397\n",
      "[[0.96905145 0.9844562  0.59851809]]\n",
      "1.5696097391722994\n",
      "[[0.96736371 0.98322879 0.61156653]]\n",
      "1.5376678449497094\n",
      "[[0.96560337 0.98191855 0.6243213 ]]\n",
      "1.506320361270197\n",
      "[[0.96376856 0.98052117 0.63677331]]\n",
      "1.4755574970747949\n",
      "[[0.96185742 0.97903218 0.64891523]]\n",
      "1.4453695940773121\n",
      "[[0.95986817 0.97744705 0.66074135]]\n",
      "1.4157471911388244\n",
      "[[0.95779903 0.97576112 0.67224748]]\n",
      "1.386681081048879\n",
      "[[0.95564829 0.97396965 0.68343089]]\n",
      "1.3581623597272192\n",
      "[[0.95341433 0.97206783 0.69429012]]\n",
      "1.3301824679474352\n",
      "[[0.95109556 0.97005081 0.70482497]]\n",
      "1.302733225753853\n",
      "[[0.94869051 0.96791369 0.71503629]]\n",
      "1.2758068597973526\n",
      "[[0.94619779 0.96565156 0.72492596]]\n",
      "1.2493960238565769\n",
      "[[0.94361612 0.96325951 0.73449674]]\n",
      "1.2234938128402413\n",
      "[[0.94094434 0.96073268 0.74375217]]\n",
      "1.1980937705863792\n",
      "[[0.93818143 0.95806626 0.7526965 ]]\n",
      "1.1731898917872727\n",
      "[[0.9353265  0.95525555 0.76133459]]\n",
      "1.1487766183766432\n",
      "[[0.93237884 0.95229597 0.76967183]]\n",
      "1.1248488307203233\n",
      "[[0.9293379  0.9491831  0.77771405]]\n",
      "1.1014018339542855\n",
      "[[0.92620331 0.94591272 0.78546748]]\n",
      "1.0784313398164707\n",
      "all is correct !\n"
     ]
    }
   ],
   "source": [
    "params, grads, costs = train(w, b, X, Y, num_iterations= 100, learning_rate = 0.009)\n",
    "assert_almost_equal(costs[0],5.801545319394553)\n",
    "assert_allclose(params[\"w\"],[[0.19033591],[0.12259159]])\n",
    "assert_almost_equal(params[\"b\"],1.9253598300845747)\n",
    "assert_allclose(grads[\"dw\"],[[0.67752042], [1.41625495]])\n",
    "assert_almost_equal(grads[\"db\"],0.21919450454067652)\n",
    "print (\"all is correct !\")"
   ]
  },
  {
   "cell_type": "markdown",
   "metadata": {},
   "source": [
    "### Class prediction on the dataset\n",
    "\n",
    "Now that you have trained the parameters w and b, you can use them  to predict the labels for a dataset X. Implement the `predict()` function. There are two steps to computing predictions:\n",
    "\n",
    "1. Compute the activation $\\hat{Y} = A = \\sigma(w^T X + b)$\n",
    "2. Convert the activation into classes according to a threshold : class 0 if activation <= 0.5 and class 1 if activation > 0.5\n",
    "3. stores the predictions into a vector `Y_prediction`. "
   ]
  },
  {
   "cell_type": "code",
   "execution_count": 36,
   "metadata": {
    "collapsed": true
   },
   "outputs": [],
   "source": [
    "# GRADED FUNCTION: predict\n",
    "\n",
    "def decide(v):\n",
    "    #YOUR CODE HERE\n",
    "    if v> 0.5:\n",
    "        return 1\n",
    "    else:\n",
    "        return 0\n",
    "    \n",
    "vdecide = np.vectorize(decide)\n",
    "\n",
    "def predict(w, b, X):\n",
    "    '''\n",
    "    Predict whether the label is 0 or 1 using learned logistic regression parameters (w, b)\n",
    "    \n",
    "    \n",
    "    :params w: weights, a numpy array of size (num_px * num_px * 3, 1)\n",
    "    :params b: bias, a scalar\n",
    "    :params X: data of size (num_px * num_px * 3, number of examples)\n",
    "    \n",
    "    :returns: Y_prediction: a numpy array (vector) containing all predictions (0/1) for the examples in X\n",
    "    '''\n",
    "    \n",
    "    m = X.shape[1]\n",
    "    Y_prediction = np.zeros((1,m))\n",
    "    w = w.reshape(X.shape[0], 1)\n",
    "    \n",
    "    # Compute vector \"A\" predicting the probabilities of the target\n",
    "    A = sigmoid(w.T.dot(X)+b) #YOUR CODE HERE\n",
    "    \n",
    "    # Convert the probability into class using the decide function\n",
    "    print (A.shape)\n",
    "    #for i in range(A.shape[1]):\n",
    "    Y_prediction = vdecide(A) #YOUR CODE HERE\n",
    "    \n",
    "    \n",
    "    return Y_prediction"
   ]
  },
  {
   "cell_type": "code",
   "execution_count": 37,
   "metadata": {},
   "outputs": [
    {
     "name": "stdout",
     "output_type": "stream",
     "text": [
      "(1, 3)\n",
      "all is correct !\n"
     ]
    }
   ],
   "source": [
    "\n",
    "w = np.array([[0.1124579],[0.23106775]])\n",
    "b = -0.3\n",
    "X = np.array([[1.,-1.1,-3.2],[1.2,2.,0.1]])\n",
    "Y_prediction = predict(w, b, X)\n",
    "assert(Y_prediction.shape == (1, X.shape[1]))\n",
    "assert_allclose(Y_prediction,[[1,1,0]])\n",
    "print (\"all is correct !\")"
   ]
  },
  {
   "cell_type": "markdown",
   "metadata": {},
   "source": [
    "### The full story\n",
    "\n",
    "A complete experiment is composed of both the training and evaluation phases. Write the function  `train_test()` :\n",
    "* train the network\n",
    "* predict on the test set\n",
    "* predict on the train set \n",
    "* compute the accuracies"
   ]
  },
  {
   "cell_type": "code",
   "execution_count": 25,
   "metadata": {
    "collapsed": true
   },
   "outputs": [],
   "source": [
    "def train_test(X_train, Y_train, X_test, Y_test, num_iterations = 200, learning_rate = 0.5):\n",
    "    \"\"\"\n",
    "    Train and evaluate a logistic regression model\n",
    "    \n",
    "    Arguments:\n",
    "    :params X_train: training set represented by a numpy array of shape (num_px * num_px * 3, m_train)\n",
    "    :params Y_train: training set tagets represented by a numpy array (vector) of shape (1, m_train)\n",
    "    :params X_test: test set represented by a numpy array of shape (num_px * num_px * 3, m_test)\n",
    "    :params Y_test: test labels represented by a numpy array (vector) of shape (1, m_test)\n",
    "    :params num_iterations:  number of training iterations (hyperparameter)\n",
    "    :params learning_rate: learning rate (hyperparameter)\n",
    "    \n",
    "    :returns: d: dictionary containing information about the model.\n",
    "    \"\"\"\n",
    "    \n",
    "    # initialize parameters with zeros \n",
    "    dim = X_train.shape[0]\n",
    "    w, b = zero_initialize(dim)\n",
    "\n",
    "    # Train with gradient descent \n",
    "    parameters, grads, costs = train(w, b, X_train, Y_train, num_iterations, learning_rate)\n",
    "    \n",
    "    # Get trained parameters\n",
    "    w = parameters[\"w\"]\n",
    "    b = parameters[\"b\"]\n",
    "    \n",
    "    # Predict test/train set examples \n",
    "    Y_prediction_test = predict(w,b,X_test)\n",
    "    Y_prediction_train = predict(w,b,X_train)\n",
    "\n",
    "    # Print train/test Errors\n",
    "    print(\"train accuracy: {} %\".format(100 - np.mean(np.abs(Y_prediction_train - Y_train)) * 100))\n",
    "    print(\"test accuracy: {} %\".format(100 - np.mean(np.abs(Y_prediction_test - Y_test)) * 100))\n",
    "\n",
    "    \n",
    "    d = {\"costs\": costs,\n",
    "         \"Y_prediction_test\": Y_prediction_test, \n",
    "         \"Y_prediction_train\" : Y_prediction_train, \n",
    "         \"w\" : w, \n",
    "         \"b\" : b,\n",
    "         \"learning_rate\" : learning_rate,\n",
    "         \"num_iterations\": num_iterations}\n",
    "    \n",
    "    return d"
   ]
  },
  {
   "cell_type": "markdown",
   "metadata": {},
   "source": [
    "### Experiment on binary MNIST \n",
    "The MNIST dataset is a standard dataset to test classification algorithms. It is composed of isolated digits on 28x28 pixels gray scale images. \n",
    "\n",
    "<img src=\"https://kermorvant.github.io/csexed-ml/dataiku/images/MnistExamples.png\" style=\"width:650px\" >\n",
    "\n",
    "\n",
    "A version of the MNIST dataset is available here : http://data.teklia.com/csexed/MNIST_all_features.csv.gz\n",
    "In this version, the images have been reduced to 8x8 pixels.\n",
    "\n",
    "Execute the following cells to get the data and prepare the dataset"
   ]
  },
  {
   "cell_type": "code",
   "execution_count": 304,
   "metadata": {
    "collapsed": true
   },
   "outputs": [],
   "source": [
    "import pandas as pd\n",
    "# Read the dataset\n",
    "url=\"http://data.teklia.com/csexed/MNIST_all_features.csv.gz\"\n",
    "#df = pd.read_csv(\"../data/MNIST_all_features.csv\")\n",
    "df = pd.read_csv(url)\n",
    "# Select only 2 classes\n",
    "df_binary = df[(df['class']==1) | (df['class']==7)]\n",
    "# Select only a few examples\n",
    "df_train = df_binary[:800]\n",
    "df_test = df_binary[800:1000]"
   ]
  },
  {
   "cell_type": "code",
   "execution_count": 309,
   "metadata": {},
   "outputs": [
    {
     "name": "stdout",
     "output_type": "stream",
     "text": [
      "train_y: (1, 800) test_y: (1, 200) train_x: (64, 800) test_x: (64, 200)\n",
      "\n",
      "\n",
      "\n"
     ]
    }
   ],
   "source": [
    "# Convert the target to numpy and convert to 0/1\n",
    "train_set_y = np.reshape(np.array(df_train['class'].replace(7,0)),(1,-1))\n",
    "test_set_y = np.reshape(np.array(df_test['class'].replace(7,0)),(1,-1))\n",
    "# Select only features (drop the class), transpose and normalize in 0..1\n",
    "train_set_x = df_train.drop('class',axis=1).transpose().divide(255.).as_matrix()\n",
    "test_set_x = df_test.drop('class',axis=1).transpose().divide(255.).as_matrix()\n",
    "print (\"train_y:\",train_set_y.shape,\"test_y:\",test_set_y.shape,\"train_x:\",train_set_x.shape,\"test_x:\",test_set_x.shape)\n",
    "print ()\n",
    "print ()\n",
    "print ()"
   ]
  },
  {
   "cell_type": "markdown",
   "metadata": {},
   "source": [
    "Use your implementation of logistic regression to classify 2 classes of digits from MNIST. In the next cell, you can display the images and you prediction results. Change the number of iteration, of samples, the classes, etc."
   ]
  },
  {
   "cell_type": "code",
   "execution_count": 310,
   "metadata": {
    "scrolled": true
   },
   "outputs": [
    {
     "name": "stdout",
     "output_type": "stream",
     "text": [
      "0.6931471805599452\n",
      "Cost after iteration 0: 0.693147\n",
      "train accuracy: 90.25 %\n",
      "test accuracy: 92.0 %\n"
     ]
    }
   ],
   "source": [
    "d = train_test(train_set_x, train_set_y, test_set_x, test_set_y, num_iterations = 10, learning_rate = 0.001)"
   ]
  },
  {
   "cell_type": "code",
   "execution_count": 311,
   "metadata": {},
   "outputs": [
    {
     "name": "stdout",
     "output_type": "stream",
     "text": [
      "index 0 target = 1 predicted = 1.000000\n",
      "index 1 target = 0 predicted = 0.000000\n",
      "index 2 target = 1 predicted = 1.000000\n",
      "index 3 target = 1 predicted = 1.000000\n",
      "index 4 target = 0 predicted = 0.000000\n",
      "index 5 target = 1 predicted = 1.000000\n",
      "index 6 target = 0 predicted = 0.000000\n",
      "index 7 target = 0 predicted = 0.000000\n",
      "index 8 target = 1 predicted = 1.000000\n",
      "index 9 target = 1 predicted = 1.000000\n",
      "index 10 target = 0 predicted = 0.000000\n",
      "index 11 target = 0 predicted = 0.000000\n",
      "index 12 target = 0 predicted = 0.000000\n",
      "index 13 target = 0 predicted = 0.000000\n",
      "index 14 target = 1 predicted = 1.000000\n",
      "index 15 target = 1 predicted = 1.000000\n",
      "index 16 target = 0 predicted = 0.000000\n",
      "index 17 target = 1 predicted = 1.000000\n",
      "index 18 target = 1 predicted = 1.000000\n",
      "index 19 target = 0 predicted = 0.000000\n"
     ]
    },
    {
     "data": {
      "text/plain": [
       "<matplotlib.image.AxesImage at 0x11b75ea20>"
      ]
     },
     "execution_count": 311,
     "metadata": {},
     "output_type": "execute_result"
    },
    {
     "data": {
      "image/png": "[encoded data removed]",
      "text/plain": [
       "<matplotlib.figure.Figure at 0x11cc81c88>"
      ]
     },
     "metadata": {},
     "output_type": "display_data"
    }
   ],
   "source": [
    "import matplotlib.pyplot as plt\n",
    "%matplotlib inline\n",
    "\n",
    "# Example of a picture that was wrongly classified.\n",
    "for index in range (20):\n",
    "    \n",
    "    print (\"index %i target = %s predicted = %f\" %(index,str(test_set_y[0,index]),d[\"Y_prediction_test\"][0,index]))\n",
    "    \n",
    "index = 14\n",
    "plt.imshow(test_set_x[:,index].reshape((8, 8, )))"
   ]
  },
  {
   "cell_type": "code",
   "execution_count": null,
   "metadata": {
    "collapsed": true
   },
   "outputs": [],
   "source": []
  },
  {
   "cell_type": "code",
   "execution_count": null,
   "metadata": {
    "collapsed": true
   },
   "outputs": [],
   "source": []
  }
 ],
 "metadata": {
  "kernelspec": {
   "display_name": "Python 3",
   "language": "python",
   "name": "python3"
  },
  "language_info": {
   "codemirror_mode": {
    "name": "ipython",
    "version": 3
   },
   "file_extension": ".py",
   "mimetype": "text/x-python",
   "name": "python",
   "nbconvert_exporter": "python",
   "pygments_lexer": "ipython3",
   "version": "3.6.2"
  }
 },
 "nbformat": 4,
 "nbformat_minor": 2
}
