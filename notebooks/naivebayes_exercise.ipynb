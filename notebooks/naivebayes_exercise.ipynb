{
 "cells": [
  {
   "cell_type": "markdown",
   "metadata": {},
   "source": [
    "# Naive Bayes\n",
    "\n",
    "## A simple example on a toy problem\n",
    "\n",
    "### Exercise\n",
    "\n",
    "Automatic text classification is one of the standard Machine Learning applications. Spam filtering was the first service based on Machine Learing used by almost every internet users.\n",
    "\n",
    "We want to build a email classification system using a Naive Bayes classifier.\n",
    "Emails must be classified into 2 different classes : *membership* or *complaint*.\n",
    "\n",
    " The classification will be based on the presence or absence of 3 words : \n",
    " \n",
    " `join, address,  unacceptable, `\n",
    " \n",
    "The training sample is composed of following documents, presented using a bag-of-word representation : \n",
    "\n",
    "\n",
    "join |  address | unacceptable  | class \n",
    "---|--------|-------|--------\n",
    "1|1|0| membership\n",
    "0|0|0| membership\n",
    "1|1|0| membership\n",
    "1|1|0| membership\n",
    "1|1|0| membership\n",
    "0|1|1| membership\n",
    "1|1|0| membership\n",
    "0|1|1| complaint\n",
    "1|1|0| complaint\n",
    "0|0|1| complaint\n",
    "0|1|1| complaint\n",
    "0|1|1| complaint\n",
    "1|0|0| complaint\n",
    "\n",
    "\n",
    "\n",
    "\n",
    "\n",
    "We denote by  $Y$ the document class and  $X=X_1,\\cdots,X_3$ the bag of word features.\n",
    "\n",
    "**Question**:\n",
    "> * Compute the frequency tables for each event and each class\n",
    "> \n",
    "> Class |  \"join\" present | \"address\" present  | \"unacceptable\" present \n",
    "> ---|--------|-------|--------\n",
    "> membership | | |\n",
    "> complaint | | |\n",
    ">  \n",
    "> * Divide the values in the table by the frequency of each class to compute P(word i is present|Y)\n",
    "> * Compute the probability of P(word i is absent|Y) : this is 1-P(word i is present|Y)\n",
    "> * Compute the prior  probabilities P(Y=membership) and P(Y=complaint)\n",
    "\n",
    "\n",
    "We want to predict the class of the following document using a Naives Bayes classifier \n",
    "\n",
    "*Sir, I have a new problem with my account : I can not login. This is the third time this week that my account is down and I can join no one. This is unacceptable.*\n",
    "\n",
    "In this text : \"join\" is present, \"address\" is not present and \"unacceptable\" is present\n",
    "\n",
    "**Question**:\n",
    "    \n",
    ">Based on the probabilities computed before, compute the most probable class using the Bayes Formula :\n",
    ">\n",
    "> $$ P(Y | X_1,X_2,X_3) = \\frac{P(X_1 | Y)P(X_2 | Y)P(X_3 | Y)P(Y)}{P(X)}$$\n",
    "\n",
    "> To simplify the task, we have already computed  P(X) = 0.04203733\n",
    ">\n",
    "> You will have to compute  :\n",
    ">\n",
    "> * $P(Y = membership | X_1,X_2,X_3)$   = P(\"join\" is present | Y = membership) \\* P(\"address\" is absent | Y = membership ) \\* P(\"unacceptable\" is present| Y = membership) \\* P( Y = membership) / P(X)\n",
    "> * $P(Y = complaint | X_1,X_2,X_3)$   = P(\"join\" is present | Y = complaint) \\* P(\"address\" is absent | Y = complaint ) \\* P(\"unacceptable\" is present| Y = complaint) \\* P( Y = complaint) / P(X)\n",
    "> * and select the class with the maximal probability.\n",
    "> "
   ]
  },
  {
   "cell_type": "code",
   "execution_count": 31,
   "metadata": {},
   "outputs": [
    {
     "name": "stdout",
     "output_type": "stream",
     "text": [
      "            join  address  unacceptable\n",
      "class                                  \n",
      "complaint      2        4             4\n",
      "membership     5        6             1\n",
      "membership    7\n",
      "complaint     6\n",
      "Name: class, dtype: int64\n",
      "[[6 6 6]\n",
      " [7 7 7]]\n",
      "[[0.33333333 0.66666667 0.66666667]\n",
      " [0.71428571 0.85714286 0.14285714]]\n",
      "[[-1.09861229 -0.40546511 -0.40546511]\n",
      " [-0.33647224 -0.15415068 -1.94591015]]\n",
      "[[-0.40546511 -1.09861229 -1.09861229]\n",
      " [-1.25276297 -1.94591015 -0.15415068]]\n",
      "[[0.46153846]\n",
      " [0.53846154]]\n",
      "[[-0.77318989]\n",
      " [-0.61903921]]\n",
      "[0.04203733]\n",
      "[-3.1691973]\n",
      "[0.81327801]\n",
      "[0.18672199]\n"
     ]
    }
   ],
   "source": [
    "import numpy as np\n",
    "# Compute the frequence per event and per class\n",
    "print (df.groupby('class').sum())\n",
    "# Compute the frequency per class\n",
    "print (df['class'].value_counts())\n",
    "sum = np.flip(np.tile(df['class'].value_counts().values, (3,1)).transpose(),axis=0)\n",
    "print (sum)\n",
    "# Compute the probability  per event and per class\n",
    "p1 = df.groupby('class').sum().values  / sum\n",
    "print (p1)\n",
    "# Compute the probability of the complementary event\n",
    "p0 = 1 - p1\n",
    "# Compute the log proba\n",
    "lp0 = np.log(p0)\n",
    "lp1 = np.log(p1)\n",
    "# Compute the prior and log prior\n",
    "prior = np.flip(df['class'].value_counts().values.reshape((2,1)),axis=0) / 13.\n",
    "lprior = np.log(prior)\n",
    "print (lp1)\n",
    "print (lp0)\n",
    "print (prior)\n",
    "print (lprior)\n",
    "px = p1[0][0]*p0[0][1]*p1[0][2]*prior[0]+ p1[1][0]*p0[1][1]*p1[1][2]*prior[1]\n",
    "print (px)\n",
    "print (np.log(px))\n",
    "for c in [0,1]:\n",
    "    print (np.exp(lp1[c][0]+lp0[c][1]+lp1[c][2]+lprior[c]-np.log(px)))\n"
   ]
  },
  {
   "cell_type": "markdown",
   "metadata": {},
   "source": [
    "### Code\n",
    "\n",
    "The following DataFrame contains the data of the previous exercice. \n",
    "\n",
    "**Question**\n",
    "> * Train a [Bernouilli Naive Bayes](http://scikit-learn.org/stable/modules/generated/sklearn.naive_bayes.BernoulliNB.html) on all the data.\n",
    "> * Predict the class of the sample `sample = np.array([1,0,1])`, corresponding to the document of the previous excercise. \n",
    "> * Check your prediction with `clf.predict_proba([1,0,1])`\n",
    "> * Check the different probabilities computed for the previous question :\n",
    ">  * `clf.feature_count_` :  the count for each feature per class $C(X_i =1 \\| Y=c)$\n",
    ">  * `clf.feature_log_prob_` : the log probability for each feature per class $log(P(X_i =1 \\| Y=c))$\n",
    ">  * `clf.class_log_prior_` : the log prior probabilities for each class $log(P(Y=c))$\n",
    "> * Check your prediction with `clf.predict_proba([1,0,1])` \n",
    "\n"
   ]
  },
  {
   "cell_type": "code",
   "execution_count": 3,
   "metadata": {},
   "outputs": [
    {
     "data": {
      "text/html": [
       "<div>\n",
       "<style>\n",
       "    .dataframe thead tr:only-child th {\n",
       "        text-align: right;\n",
       "    }\n",
       "\n",
       "    .dataframe thead th {\n",
       "        text-align: left;\n",
       "    }\n",
       "\n",
       "    .dataframe tbody tr th {\n",
       "        vertical-align: top;\n",
       "    }\n",
       "</style>\n",
       "<table border=\"1\" class=\"dataframe\">\n",
       "  <thead>\n",
       "    <tr style=\"text-align: right;\">\n",
       "      <th></th>\n",
       "      <th>join</th>\n",
       "      <th>address</th>\n",
       "      <th>unacceptable</th>\n",
       "      <th>class</th>\n",
       "    </tr>\n",
       "  </thead>\n",
       "  <tbody>\n",
       "    <tr>\n",
       "      <th>0</th>\n",
       "      <td>1</td>\n",
       "      <td>1</td>\n",
       "      <td>0</td>\n",
       "      <td>membership</td>\n",
       "    </tr>\n",
       "    <tr>\n",
       "      <th>1</th>\n",
       "      <td>0</td>\n",
       "      <td>0</td>\n",
       "      <td>0</td>\n",
       "      <td>membership</td>\n",
       "    </tr>\n",
       "    <tr>\n",
       "      <th>2</th>\n",
       "      <td>1</td>\n",
       "      <td>1</td>\n",
       "      <td>0</td>\n",
       "      <td>membership</td>\n",
       "    </tr>\n",
       "    <tr>\n",
       "      <th>3</th>\n",
       "      <td>1</td>\n",
       "      <td>1</td>\n",
       "      <td>0</td>\n",
       "      <td>membership</td>\n",
       "    </tr>\n",
       "    <tr>\n",
       "      <th>4</th>\n",
       "      <td>1</td>\n",
       "      <td>1</td>\n",
       "      <td>0</td>\n",
       "      <td>membership</td>\n",
       "    </tr>\n",
       "    <tr>\n",
       "      <th>5</th>\n",
       "      <td>0</td>\n",
       "      <td>1</td>\n",
       "      <td>1</td>\n",
       "      <td>membership</td>\n",
       "    </tr>\n",
       "    <tr>\n",
       "      <th>6</th>\n",
       "      <td>1</td>\n",
       "      <td>1</td>\n",
       "      <td>0</td>\n",
       "      <td>membership</td>\n",
       "    </tr>\n",
       "    <tr>\n",
       "      <th>7</th>\n",
       "      <td>0</td>\n",
       "      <td>1</td>\n",
       "      <td>1</td>\n",
       "      <td>complaint</td>\n",
       "    </tr>\n",
       "    <tr>\n",
       "      <th>8</th>\n",
       "      <td>1</td>\n",
       "      <td>1</td>\n",
       "      <td>0</td>\n",
       "      <td>complaint</td>\n",
       "    </tr>\n",
       "    <tr>\n",
       "      <th>9</th>\n",
       "      <td>0</td>\n",
       "      <td>0</td>\n",
       "      <td>1</td>\n",
       "      <td>complaint</td>\n",
       "    </tr>\n",
       "    <tr>\n",
       "      <th>10</th>\n",
       "      <td>0</td>\n",
       "      <td>1</td>\n",
       "      <td>1</td>\n",
       "      <td>complaint</td>\n",
       "    </tr>\n",
       "    <tr>\n",
       "      <th>11</th>\n",
       "      <td>0</td>\n",
       "      <td>1</td>\n",
       "      <td>1</td>\n",
       "      <td>complaint</td>\n",
       "    </tr>\n",
       "    <tr>\n",
       "      <th>12</th>\n",
       "      <td>1</td>\n",
       "      <td>0</td>\n",
       "      <td>0</td>\n",
       "      <td>complaint</td>\n",
       "    </tr>\n",
       "  </tbody>\n",
       "</table>\n",
       "</div>"
      ],
      "text/plain": [
       "    join  address  unacceptable       class\n",
       "0      1        1             0  membership\n",
       "1      0        0             0  membership\n",
       "2      1        1             0  membership\n",
       "3      1        1             0  membership\n",
       "4      1        1             0  membership\n",
       "5      0        1             1  membership\n",
       "6      1        1             0  membership\n",
       "7      0        1             1   complaint\n",
       "8      1        1             0   complaint\n",
       "9      0        0             1   complaint\n",
       "10     0        1             1   complaint\n",
       "11     0        1             1   complaint\n",
       "12     1        0             0   complaint"
      ]
     },
     "execution_count": 3,
     "metadata": {},
     "output_type": "execute_result"
    }
   ],
   "source": [
    "import pandas as pd\n",
    "import numpy as np\n",
    "df = pd.DataFrame([\n",
    "    [1,1,0, 'membership'],\n",
    "[0,0,0, 'membership'],\n",
    "[1,1,0, 'membership'],\n",
    "[1,1,0, 'membership'],\n",
    "[1,1,0, 'membership'],\n",
    "[0,1,1, 'membership'],\n",
    "[1,1,0, 'membership'],\n",
    "[0,1,1, 'complaint'],\n",
    "[1,1,0, 'complaint'],\n",
    "[0,0,1, 'complaint'],\n",
    "[0,1,1, 'complaint'],\n",
    "[0,1,1, 'complaint'],\n",
    "[1,0,0, 'complaint'],\n",
    "    ],\n",
    "    columns=['join',  'address',  'unacceptable', 'class'],\n",
    ")\n",
    "df"
   ]
  },
  {
   "cell_type": "code",
   "execution_count": 4,
   "metadata": {},
   "outputs": [
    {
     "name": "stdout",
     "output_type": "stream",
     "text": [
      "frequence per event and per class\n",
      "[[2. 4. 4.]\n",
      " [5. 6. 1.]]\n",
      "proba per event and per class\n",
      "[[0.33333333 0.66666667 0.66666667]\n",
      " [0.71428571 0.85714286 0.14285714]]\n",
      "class prior\n",
      "[0.46153846 0.53846154]\n"
     ]
    }
   ],
   "source": [
    "# Check that we have the same result with BernoulliNB from sklearn\n",
    "# Define the features and class\n",
    "X = df[['join',  'address',  'unacceptable']]\n",
    "y = df['class']\n",
    "from sklearn.naive_bayes import BernoulliNB\n",
    "clf = BernoulliNB(alpha=0) # alpha = 0 to disable smoothing to compare with the previous exercise\n",
    "clf.fit(X,y) # Your code here\n",
    "print (\"frequence per event and per class\")\n",
    "print (clf.feature_count_)\n",
    "print (\"proba per event and per class\")\n",
    "print (np.exp(clf.feature_log_prob_))\n",
    "print (\"class prior\")\n",
    "print (np.exp(clf.class_log_prior_))\n"
   ]
  },
  {
   "cell_type": "code",
   "execution_count": 5,
   "metadata": {},
   "outputs": [
    {
     "name": "stdout",
     "output_type": "stream",
     "text": [
      "['complaint']\n",
      "['complaint' 'membership']\n",
      "[[0.81327801 0.18672199]]\n"
     ]
    }
   ],
   "source": [
    "# create the vector for the text to be classified \n",
    "# \"join\" is present, address is absent and unacceptable is present -> [1,0,1]\n",
    "sample = np.array([1,0,1])\n",
    "# predict the class\n",
    "print (clf.predict(sample.reshape(1, -1))) # reshape to avoid a warning\n",
    "print (clf.classes_)\n",
    "# predict the probability for each class\n",
    "print (clf.predict_proba(sample.reshape(1, -1))) # reshape to avoid a warning"
   ]
  },
  {
   "cell_type": "markdown",
   "metadata": {},
   "source": [
    "## LeMonde2003 Dataset\n",
    "\n",
    "We will now apply classification algorithms to newspaper articles published in 2003 in *Le Monde*. The dataset can be dowloaded in  CSV format [here](http://data.teklia.com/Texts/LeMonde2003_9classes.csv).\n",
    "\n",
    "These articles concern different subjects but we will consider only articles related to the following subjects : entreprises (ENT), international (INT), arts (ART), société (SOC), France (FRA), sports (SPO), livres (LIV), télévision (TEL) and the font page articles (UNE).\n",
    "\n",
    "\n",
    "> * Load the CSV file `LeMonde2003_9classes.csv` containing the articles using [pd.read_csv](https://pandas.pydata.org/pandas-docs/stable/generated/pandas.read_csv.html) . \n",
    "> * Plot the frequency histogram of the categories using [`countplot`](https://seaborn.pydata.org/tutorial/categorical.html) : `sns.countplot(data=df,y='category')`\n",
    "\n"
   ]
  },
  {
   "cell_type": "code",
   "execution_count": 6,
   "metadata": {},
   "outputs": [
    {
     "data": {
      "text/html": [
       "<div>\n",
       "<style>\n",
       "    .dataframe thead tr:only-child th {\n",
       "        text-align: right;\n",
       "    }\n",
       "\n",
       "    .dataframe thead th {\n",
       "        text-align: left;\n",
       "    }\n",
       "\n",
       "    .dataframe tbody tr th {\n",
       "        vertical-align: top;\n",
       "    }\n",
       "</style>\n",
       "<table border=\"1\" class=\"dataframe\">\n",
       "  <thead>\n",
       "    <tr style=\"text-align: right;\">\n",
       "      <th></th>\n",
       "      <th>Unnamed: 0</th>\n",
       "      <th>text</th>\n",
       "      <th>category</th>\n",
       "    </tr>\n",
       "  </thead>\n",
       "  <tbody>\n",
       "    <tr>\n",
       "      <th>0</th>\n",
       "      <td>0</td>\n",
       "      <td>a la boutique du fulham fc nichée au dernier é...</td>\n",
       "      <td>SPO</td>\n",
       "    </tr>\n",
       "    <tr>\n",
       "      <th>1</th>\n",
       "      <td>2</td>\n",
       "      <td>pour la plupart de ceux qui n'y vivent pas la ...</td>\n",
       "      <td>ART</td>\n",
       "    </tr>\n",
       "    <tr>\n",
       "      <th>2</th>\n",
       "      <td>4</td>\n",
       "      <td>la perspective d'une enquête judiciaire sur la...</td>\n",
       "      <td>FRA</td>\n",
       "    </tr>\n",
       "    <tr>\n",
       "      <th>3</th>\n",
       "      <td>6</td>\n",
       "      <td>le tribunal administratif de limoges a annulé ...</td>\n",
       "      <td>SOC</td>\n",
       "    </tr>\n",
       "    <tr>\n",
       "      <th>4</th>\n",
       "      <td>7</td>\n",
       "      <td>des avions américains et britanniques ont bomb...</td>\n",
       "      <td>INT</td>\n",
       "    </tr>\n",
       "  </tbody>\n",
       "</table>\n",
       "</div>"
      ],
      "text/plain": [
       "   Unnamed: 0                                               text category\n",
       "0           0  a la boutique du fulham fc nichée au dernier é...      SPO\n",
       "1           2  pour la plupart de ceux qui n'y vivent pas la ...      ART\n",
       "2           4  la perspective d'une enquête judiciaire sur la...      FRA\n",
       "3           6  le tribunal administratif de limoges a annulé ...      SOC\n",
       "4           7  des avions américains et britanniques ont bomb...      INT"
      ]
     },
     "execution_count": 6,
     "metadata": {},
     "output_type": "execute_result"
    }
   ],
   "source": [
    "import pandas as pd\n",
    "import seaborn as sns\n",
    "%matplotlib inline\n",
    "# load dataframe from CSV file\n",
    "df = pd.read_csv('../data/LeMonde2003_9classes.csv.gz')\n",
    "df.head()"
   ]
  },
  {
   "cell_type": "code",
   "execution_count": 7,
   "metadata": {},
   "outputs": [
    {
     "data": {
      "text/plain": [
       "<matplotlib.axes._subplots.AxesSubplot at 0x105a90d68>"
      ]
     },
     "execution_count": 7,
     "metadata": {},
     "output_type": "execute_result"
    },
    {
     "data": {
      "image/png": "[encoded data removed]",
      "text/plain": [
       "<matplotlib.figure.Figure at 0x1065c6860>"
      ]
     },
     "metadata": {},
     "output_type": "display_data"
    }
   ],
   "source": [
    "# Plot the statistics of category\n",
    "sns.countplot(data=df,y='category')"
   ]
  },
  {
   "cell_type": "code",
   "execution_count": 8,
   "metadata": {},
   "outputs": [
    {
     "name": "stdout",
     "output_type": "stream",
     "text": [
      "Category: ENT\n",
      "un tribunal de l'illinois aux etats-unis a jugé philip morris premier cigarettier américain coupable d'avoir trompé les fumeurs en leur laissant croire que les cigarettes légères étaient plus saines que les normales philip morris a été condamné à payer 10,1 milliards de dollars de dommages et intérêts dont 7,1 milliards aux fumeurs et 3 milliards à l'etat de l'illinois\n",
      "\n",
      "Category: ART\n",
      "les deux sociétés civiles chargées de gérer les droits des artistes interprètes l'adami et la spedidam ainsi que deux syndicats d'artistes la sfa-cgt et le snam ont demandé l'arrêt immédiat de l'utilisation en france de dispositifs anti-copie sur le marché du disque ces organisations réclament également la suppression des mesures techniques de protection ... qui dégradent la copie obtenue utilisées par l'industrie du disque sous le prétexte de lutte contre la piraterie\n",
      "\n",
      "Category: UNE\n",
      "la prolongation de la guerre en irak affecte gravement la conjoncture économique publié lundi 31 mars l'indice européen qui mesure le moral des chefs d'entreprise et des consommateurs pour la zone euro accuse une baisse de 0,6 point en mars en france l ' indicateur résumé de l'opinion des ménages publié mardi par l'insee est tombé de 26 points en février à 32 en mars son plus bas niveau depuis décembre 1996 nous sommes face à une rupture de croissance comme nous n'en avons jamais connu dans notre histoire récente a admis jean-pierre raffarin les marchés boursiers européens étaient eux aussi lundi en baisse\n"
     ]
    }
   ],
   "source": [
    "# Print examples of the articles\n",
    "print (\"Category:\",df.iloc[100]['category'])\n",
    "print (df.iloc[100]['text'])\n",
    "print ()\n",
    "print (\"Category:\",df.iloc[10000]['category'])\n",
    "print (df.iloc[10000]['text'])\n",
    "print ()\n",
    "print (\"Category:\",df.iloc[5008]['category'])\n",
    "print (df.iloc[5008]['text'])\n"
   ]
  },
  {
   "cell_type": "markdown",
   "metadata": {},
   "source": [
    "## Bag-of-word representation\n",
    "\n",
    "In order to apply machine learning algorithms to text, documents must be transformed into vectors. The most simple and standard way to transform a document into a vector is the *bag-of-word* encoding.\n",
    "\n",
    "The idea is very simple : \n",
    "\n",
    "1. define the set of all the possible words that can appear in a document; denote its size by `max_features`.\n",
    "2. for each document,  encode it with a vector of size `max_features`, with the value of the ith component of the vector equal to the number of time the ith word appears in the document.\n",
    "\n",
    "See [the wikipedia article on Bag-of-word](https://en.wikipedia.org/wiki/Bag-of-words_model) for an example.\n",
    "\n",
    "Scikit-learn proposes different methods to encode text into vectors : [CountVectorizer](http://scikit-learn.org/stable/modules/generated/sklearn.feature_extraction.text.CountVectorizer.html) and [TfidfTransformer](http://scikit-learn.org/stable/modules/generated/sklearn.feature_extraction.text.TfidfTransformer.html).\n",
    "\n",
    "The encoder must first be trained on the train set and applied to the different sets, for example with the 1000  words : \n",
    "\n",
    "\tfrom sklearn.feature_extraction.text import CountVectorizer\n",
    "\tvectorizer = CountVectorizer(max_features=1000)\n",
    "    vectorizer.fit(X_train)\n",
    "    X_train_counts = vectorizer.transform(X_train)\n",
    "    X_test_counts = vectorizer.transform(X_test)\n",
    "        \n",
    "**Question**:\n",
    "\n",
    "> * Split the dataset LeMonde2003 into train/dev/test set. \n",
    "> * For each set, transform the text of the articles into vectors using the `CountVectorizer` with `max_features=1000` words.\n",
    "\n"
   ]
  },
  {
   "cell_type": "code",
   "execution_count": 9,
   "metadata": {},
   "outputs": [
    {
     "name": "stdout",
     "output_type": "stream",
     "text": [
      "train size (18099, 3)\n",
      "dev size (6033, 3)\n",
      "test size (6033, 3)\n"
     ]
    }
   ],
   "source": [
    "from sklearn.model_selection import train_test_split\n",
    "# Split the dataset (X and y together)\n",
    "df_train, df_test = train_test_split(df ,test_size=0.20, random_state=42)\n",
    "df_train_hyper, df_dev = train_test_split(df_train ,test_size=0.25, random_state=42)\n",
    "\n",
    "print ('train size',df_train_hyper.shape)\n",
    "print ('dev size', df_dev.shape)\n",
    "print ('test size', df_test.shape)"
   ]
  },
  {
   "cell_type": "code",
   "execution_count": 10,
   "metadata": {
    "collapsed": true
   },
   "outputs": [],
   "source": [
    "# create features X and target y\n",
    "X_train = df_train_hyper.text\n",
    "X_dev = df_dev.text\n",
    "X_test = df_test.text\n",
    "y_train = df_train_hyper.category\n",
    "y_dev = df_dev.category\n",
    "y_test = df_test.category\n",
    "\n",
    "X_train_dev = df_train.text\n",
    "y_train_dev = df_train.category\n"
   ]
  },
  {
   "cell_type": "code",
   "execution_count": 11,
   "metadata": {
    "collapsed": true
   },
   "outputs": [],
   "source": [
    "# train a Naive Bayes classifier\n",
    "from sklearn.naive_bayes import MultinomialNB\n",
    "from sklearn.feature_extraction.text import CountVectorizer\n",
    "# create the vectorizer object\n",
    "vectorizer = CountVectorizer(max_features=1000)\n",
    "# fit on train data\n",
    "vectorizer.fit(X_train)\n",
    "# apply it on train and dev data\n",
    "X_train_counts = vectorizer.transform(X_train)\n",
    "X_dev_counts = vectorizer.transform(X_dev)\n"
   ]
  },
  {
   "cell_type": "code",
   "execution_count": 12,
   "metadata": {},
   "outputs": [
    {
     "name": "stdout",
     "output_type": "stream",
     "text": [
      "les deux sociétés civiles chargées de gérer les droits des artistes interprètes l'adami et la spedidam ainsi que deux syndicats d'artistes la sfa-cgt et le snam ont demandé l'arrêt immédiat de l'utilisation en france de dispositifs anti-copie sur le marché du disque ces organisations réclament également la suppression des mesures techniques de protection ... qui dégradent la copie obtenue utilisées par l'industrie du disque sous le prétexte de lutte contre la piraterie\n",
      "  (0, 28)\t1\n",
      "  (0, 67)\t1\n",
      "  (0, 81)\t1\n",
      "  (0, 87)\t3\n",
      "  (0, 88)\t1\n",
      "  (0, 91)\t1\n",
      "  (0, 106)\t3\n",
      "  (0, 115)\t1\n",
      "  (0, 123)\t1\n",
      "  (0, 126)\t1\n",
      "  (0, 127)\t2\n",
      "  (0, 132)\t2\n",
      "  (0, 141)\t1\n",
      "  (0, 148)\t1\n",
      "  (0, 164)\t2\n",
      "  (0, 168)\t1\n",
      "  (0, 174)\t2\n",
      "  (0, 176)\t2\n",
      "  (0, 177)\t1\n",
      "  (0, 198)\t1\n",
      "  (0, 205)\t2\n",
      "  (0, 244)\t6\n",
      "  (0, 248)\t32\n",
      "  (0, 260)\t9\n",
      "  (0, 261)\t2\n",
      "  :\t:\n",
      "  (0, 817)\t1\n",
      "  (0, 821)\t2\n",
      "  (0, 834)\t1\n",
      "  (0, 835)\t1\n",
      "  (0, 841)\t3\n",
      "  (0, 842)\t1\n",
      "  (0, 866)\t1\n",
      "  (0, 867)\t3\n",
      "  (0, 872)\t1\n",
      "  (0, 884)\t2\n",
      "  (0, 906)\t2\n",
      "  (0, 908)\t1\n",
      "  (0, 911)\t1\n",
      "  (0, 912)\t2\n",
      "  (0, 914)\t1\n",
      "  (0, 921)\t1\n",
      "  (0, 933)\t8\n",
      "  (0, 934)\t8\n",
      "  (0, 955)\t1\n",
      "  (0, 959)\t1\n",
      "  (0, 962)\t1\n",
      "  (0, 984)\t1\n",
      "  (0, 988)\t1\n",
      "  (0, 991)\t1\n",
      "  (0, 997)\t1\n",
      "de\n"
     ]
    }
   ],
   "source": [
    "# Print one sample text\n",
    "print (X_train[10000])\n",
    "# and its Count (sparse) representation \n",
    "print (X_train_counts[10000])\n",
    "# Inverse vocabulary \n",
    "terms = np.array(list(vectorizer.vocabulary_.keys()))\n",
    "indices = np.array(list(vectorizer.vocabulary_.values()))\n",
    "inverse_vocabulary = terms[np.argsort(indices)]\n",
    "# notice (0, 248)\t32 , which word is it ?\n",
    "print (inverse_vocabulary[248])"
   ]
  },
  {
   "cell_type": "code",
   "execution_count": 106,
   "metadata": {},
   "outputs": [
    {
     "name": "stdout",
     "output_type": "stream",
     "text": [
      "0.7195425161611139\n"
     ]
    }
   ],
   "source": [
    "# define a mutlinomial Naive Bayes\n",
    "clf = MultinomialNB()\n",
    "# Train \n",
    "clf.fit(X_train_counts,y_train)\n",
    "# Evaluate \n",
    "print (clf.score(X_dev_counts,y_dev))"
   ]
  },
  {
   "cell_type": "markdown",
   "metadata": {},
   "source": [
    "## TF-IDF representation\n",
    "\n",
    "The `CountVectorizer` encodes the text using the raw frequencies of the words. However, words that are very frequent and appear in all the documents will have a strong weight whereas they are not discriminative. The *Term-Frequency Inverse-Document-Frequency* weighting scheme take into accound the number of documents in which a given word occurs. A word that appear in many document will have less weight. See [the wikipedia page](https://en.wikipedia.org/wiki/Tf%E2%80%93idf) for more details.\n",
    "\n",
    "With scikit-learn, the `TfidfTransformer` is applied after the `CountVectorizer` :\n",
    "\n",
    "\tfrom sklearn.feature_extraction.text import TfidfTransformer\n",
    "\ttf_transformer = TfidfTransformer().fit(X_train_counts)\n",
    " \tX_train_tf = tf_transformer.transform(X_train_counts)\n",
    "\tX_test_tf = tf_transformer.transform(X_test_counts)\n",
    "\t\n",
    "**Question**:\n",
    "\n",
    "> * Use the TF-IDF representation to train a Multinomial Naive Bayes classifier. Report your best test error rate and the error rates for all the configurations tested.\n"
   ]
  },
  {
   "cell_type": "code",
   "execution_count": 14,
   "metadata": {},
   "outputs": [
    {
     "name": "stderr",
     "output_type": "stream",
     "text": [
      "/Library/Frameworks/Python.framework/Versions/3.6/lib/python3.6/site-packages/sklearn/feature_extraction/text.py:1059: FutureWarning: Conversion of the second argument of issubdtype from `float` to `np.floating` is deprecated. In future, it will be treated as `np.float64 == np.dtype(float).type`.\n",
      "  if hasattr(X, 'dtype') and np.issubdtype(X.dtype, np.float):\n"
     ]
    },
    {
     "name": "stdout",
     "output_type": "stream",
     "text": [
      "Train score 0.8423669816011934\n",
      "Dev score 0.8059008785015747\n"
     ]
    }
   ],
   "source": [
    "from sklearn.feature_extraction.text import TfidfVectorizer\n",
    "from sklearn.feature_extraction.text import TfidfTransformer\n",
    "from sklearn.metrics import accuracy_score\n",
    "alpha = 0.001\n",
    "max_words =10000\n",
    "max_df = 1.0\n",
    "min_df = 0.0\n",
    "vectorizer = CountVectorizer(max_features=max_words,max_df=max_df,min_df=min_df)\n",
    "vectorizer.fit(X_train)\n",
    "X_train_counts = vectorizer.transform(X_train)\n",
    "X_dev_counts = vectorizer.transform(X_dev)\n",
    "\n",
    "tf_transformer = TfidfTransformer().fit(X_train_counts)\n",
    "X_train_tf = tf_transformer.transform(X_train_counts)\n",
    "X_dev_tf = tf_transformer.transform(X_dev_counts)\n",
    "                 \n",
    "clf = MultinomialNB(alpha=alpha)\n",
    "clf.fit(X_train_tf, y_train)\n",
    "predict_train = clf.predict(X_train_tf)\n",
    "print (\"Train score\",accuracy_score(y_train,predict_train))\n",
    "predict_dev = clf.predict(X_dev_tf)\n",
    "print (\"Dev score\",accuracy_score(y_dev,predict_dev))"
   ]
  },
  {
   "cell_type": "markdown",
   "metadata": {},
   "source": [
    "## Error analysis\n",
    "\n",
    "The classification error rate give an evaluation of the performance for all the classes. But since the classes are not equally distributed, they may not be equally well modelized. In order to get a better idea of the performance of the classifier, detailed metrics must be used : \n",
    "\n",
    "* [metrics.classification_report](http://scikit-learn.org/stable/modules/generated/sklearn.metrics.classification_report.html) provides a detailed analysis per class : the precision (amongst all the example classified as class X, how many are really from the classX) and the recall (amongst all the example that are from the class X, how many are classified as class X) and the F-Score which is as a weighted harmonic mean of the precision and recall.\n",
    "* [metrics.confusion_matrix](http://scikit-learn.org/stable/modules/generated/sklearn.metrics.confusion_matrix.html) which give the confusions between the classes.\n",
    "\n",
    "**Question**:\n",
    "\n",
    "> * Report the `classification_report` for your  classifier. Which classes have the best scores ? Why ?\n",
    "> * Report the `confusion_matrix` for your  classifier. Which classes are the most confused ? Why ?\n"
   ]
  },
  {
   "cell_type": "code",
   "execution_count": 15,
   "metadata": {},
   "outputs": [
    {
     "name": "stdout",
     "output_type": "stream",
     "text": [
      "             precision    recall  f1-score   support\n",
      "\n",
      "        ART       0.81      0.92      0.86       870\n",
      "        ENT       0.87      0.88      0.88      1301\n",
      "        FRA       0.67      0.76      0.71       741\n",
      "        INT       0.83      0.91      0.87      1445\n",
      "        SOC       0.73      0.77      0.75       779\n",
      "        SPO       0.93      0.90      0.92       472\n",
      "        UNE       0.36      0.02      0.04       425\n",
      "\n",
      "avg / total       0.78      0.81      0.78      6033\n",
      "\n"
     ]
    }
   ],
   "source": [
    "from sklearn.metrics import classification_report\n",
    "print(classification_report(y_dev,predict_dev))"
   ]
  },
  {
   "cell_type": "code",
   "execution_count": 16,
   "metadata": {},
   "outputs": [
    {
     "name": "stdout",
     "output_type": "stream",
     "text": [
      "[[ 804   11   19   23    9    1    3]\n",
      " [  31 1151   48   43   22    5    1]\n",
      " [   7   30  563   32  105    1    3]\n",
      " [  20   45   38 1308   30    0    4]\n",
      " [  20   17  105   31  602    1    3]\n",
      " [   9   18    3    3   12  425    2]\n",
      " [ 102   53   68  128   43   22    9]]\n"
     ]
    }
   ],
   "source": [
    "from sklearn.metrics import confusion_matrix\n",
    "conf_mat = confusion_matrix(y_dev,predict_dev)\n",
    "print (conf_mat)"
   ]
  },
  {
   "cell_type": "code",
   "execution_count": 18,
   "metadata": {},
   "outputs": [
    {
     "name": "stdout",
     "output_type": "stream",
     "text": [
      "[[ 804   11   19   23    9    1    3]\n",
      " [  31 1151   48   43   22    5    1]\n",
      " [   7   30  563   32  105    1    3]\n",
      " [  20   45   38 1308   30    0    4]\n",
      " [  20   17  105   31  602    1    3]\n",
      " [   9   18    3    3   12  425    2]\n",
      " [ 102   53   68  128   43   22    9]]\n"
     ]
    },
    {
     "data": {
      "image/png": "[encoded data removed]",
      "text/plain": [
       "<matplotlib.figure.Figure at 0x113a7df60>"
      ]
     },
     "metadata": {},
     "output_type": "display_data"
    }
   ],
   "source": [
    "# Better display of the confusion matrix\n",
    "import itertools\n",
    "import numpy as np\n",
    "import matplotlib.pyplot as plt\n",
    "def plot_confusion_matrix(cm, classes,\n",
    "                          title='Confusion matrix',\n",
    "                          cmap=plt.cm.Blues):\n",
    "    \"\"\"\n",
    "    This function prints and plots the confusion matrix.\n",
    "    \"\"\"\n",
    "    print(cm)\n",
    "    plt.imshow(cm, interpolation='nearest', cmap=cmap)\n",
    "    plt.title(title)\n",
    "    plt.colorbar()\n",
    "    tick_marks = np.arange(len(classes))\n",
    "    plt.xticks(tick_marks, classes, rotation=45)\n",
    "    plt.yticks(tick_marks, classes)\n",
    "\n",
    "  \n",
    "    thresh = cm.max() / 2.\n",
    "    for i, j in itertools.product(range(cm.shape[0]), range(cm.shape[1])):\n",
    "        plt.text(j, i, format(cm[i, j], 'd'),\n",
    "                 horizontalalignment=\"center\",\n",
    "                 color=\"white\" if cm[i, j] > thresh else \"black\")\n",
    "    plt.tight_layout()\n",
    "    plt.ylabel('True label')\n",
    "    plt.xlabel('Predicted label')\n",
    "plot_confusion_matrix(conf_mat,classes=sorted(y_train.unique()))"
   ]
  },
  {
   "cell_type": "markdown",
   "metadata": {},
   "source": [
    "## Hyperparameter optimization\n",
    "\n",
    "The classification process has many parameters : alpha for the classifier, max_words, max_df, min_df, ngram orders for the Count of TfIDF transformer. These parameters can be optimized by a grid search using GridSearchCV."
   ]
  },
  {
   "cell_type": "code",
   "execution_count": null,
   "metadata": {},
   "outputs": [
    {
     "name": "stdout",
     "output_type": "stream",
     "text": [
      "Performing grid search...\n",
      "pipeline: ['vect', 'tfidf', 'clf']\n",
      "parameters:\n",
      "{'clf__alpha': (0.0001, 0.001, 0.01, 0.1),\n",
      " 'tfidf__norm': ('l1', 'l2'),\n",
      " 'tfidf__use_idf': (True, False),\n",
      " 'vect__max_df': (0.5, 0.75, 1.0),\n",
      " 'vect__max_features': (None, 5000, 10000, 50000),\n",
      " 'vect__ngram_range': ((1, 1), (1, 2))}\n",
      "Fitting 3 folds for each of 384 candidates, totalling 1152 fits\n",
      "[CV] clf__alpha=0.0001, tfidf__norm=l1, tfidf__use_idf=True, vect__max_df=0.5, vect__max_features=None, vect__ngram_range=(1, 1) \n",
      "[CV] clf__alpha=0.0001, tfidf__norm=l1, tfidf__use_idf=True, vect__max_df=0.5, vect__max_features=None, vect__ngram_range=(1, 1) \n",
      "[CV] clf__alpha=0.0001, tfidf__norm=l1, tfidf__use_idf=True, vect__max_df=0.5, vect__max_features=None, vect__ngram_range=(1, 1) \n",
      "[CV] clf__alpha=0.0001, tfidf__norm=l1, tfidf__use_idf=True, vect__max_df=0.5, vect__max_features=None, vect__ngram_range=(1, 2) \n"
     ]
    },
    {
     "name": "stderr",
     "output_type": "stream",
     "text": [
      "/Library/Frameworks/Python.framework/Versions/3.6/lib/python3.6/site-packages/sklearn/feature_extraction/text.py:1059: FutureWarning: Conversion of the second argument of issubdtype from `float` to `np.floating` is deprecated. In future, it will be treated as `np.float64 == np.dtype(float).type`.\n",
      "  if hasattr(X, 'dtype') and np.issubdtype(X.dtype, np.float):\n",
      "/Library/Frameworks/Python.framework/Versions/3.6/lib/python3.6/site-packages/sklearn/feature_extraction/text.py:1059: FutureWarning: Conversion of the second argument of issubdtype from `float` to `np.floating` is deprecated. In future, it will be treated as `np.float64 == np.dtype(float).type`.\n",
      "  if hasattr(X, 'dtype') and np.issubdtype(X.dtype, np.float):\n",
      "/Library/Frameworks/Python.framework/Versions/3.6/lib/python3.6/site-packages/sklearn/feature_extraction/text.py:1059: FutureWarning: Conversion of the second argument of issubdtype from `float` to `np.floating` is deprecated. In future, it will be treated as `np.float64 == np.dtype(float).type`.\n",
      "  if hasattr(X, 'dtype') and np.issubdtype(X.dtype, np.float):\n"
     ]
    },
    {
     "name": "stdout",
     "output_type": "stream",
     "text": [
      "[CV]  clf__alpha=0.0001, tfidf__norm=l1, tfidf__use_idf=True, vect__max_df=0.5, vect__max_features=None, vect__ngram_range=(1, 1), total=  17.6s\n",
      "[CV] clf__alpha=0.0001, tfidf__norm=l1, tfidf__use_idf=True, vect__max_df=0.5, vect__max_features=None, vect__ngram_range=(1, 2) \n",
      "[CV]  clf__alpha=0.0001, tfidf__norm=l1, tfidf__use_idf=True, vect__max_df=0.5, vect__max_features=None, vect__ngram_range=(1, 1), total=  18.2s\n",
      "[CV] clf__alpha=0.0001, tfidf__norm=l1, tfidf__use_idf=True, vect__max_df=0.5, vect__max_features=None, vect__ngram_range=(1, 2) \n",
      "[CV]  clf__alpha=0.0001, tfidf__norm=l1, tfidf__use_idf=True, vect__max_df=0.5, vect__max_features=None, vect__ngram_range=(1, 1), total=  18.4s\n",
      "[CV] clf__alpha=0.0001, tfidf__norm=l1, tfidf__use_idf=True, vect__max_df=0.5, vect__max_features=5000, vect__ngram_range=(1, 1) \n"
     ]
    },
    {
     "name": "stderr",
     "output_type": "stream",
     "text": [
      "/Library/Frameworks/Python.framework/Versions/3.6/lib/python3.6/site-packages/sklearn/feature_extraction/text.py:1059: FutureWarning: Conversion of the second argument of issubdtype from `float` to `np.floating` is deprecated. In future, it will be treated as `np.float64 == np.dtype(float).type`.\n",
      "  if hasattr(X, 'dtype') and np.issubdtype(X.dtype, np.float):\n",
      "/Library/Frameworks/Python.framework/Versions/3.6/lib/python3.6/site-packages/sklearn/feature_extraction/text.py:1059: FutureWarning: Conversion of the second argument of issubdtype from `float` to `np.floating` is deprecated. In future, it will be treated as `np.float64 == np.dtype(float).type`.\n",
      "  if hasattr(X, 'dtype') and np.issubdtype(X.dtype, np.float):\n"
     ]
    },
    {
     "name": "stdout",
     "output_type": "stream",
     "text": [
      "[CV]  clf__alpha=0.0001, tfidf__norm=l1, tfidf__use_idf=True, vect__max_df=0.5, vect__max_features=5000, vect__ngram_range=(1, 1), total=  17.3s\n",
      "[CV] clf__alpha=0.0001, tfidf__norm=l1, tfidf__use_idf=True, vect__max_df=0.5, vect__max_features=5000, vect__ngram_range=(1, 1) \n"
     ]
    },
    {
     "name": "stderr",
     "output_type": "stream",
     "text": [
      "/Library/Frameworks/Python.framework/Versions/3.6/lib/python3.6/site-packages/sklearn/feature_extraction/text.py:1059: FutureWarning: Conversion of the second argument of issubdtype from `float` to `np.floating` is deprecated. In future, it will be treated as `np.float64 == np.dtype(float).type`.\n",
      "  if hasattr(X, 'dtype') and np.issubdtype(X.dtype, np.float):\n",
      "/Library/Frameworks/Python.framework/Versions/3.6/lib/python3.6/site-packages/sklearn/feature_extraction/text.py:1059: FutureWarning: Conversion of the second argument of issubdtype from `float` to `np.floating` is deprecated. In future, it will be treated as `np.float64 == np.dtype(float).type`.\n",
      "  if hasattr(X, 'dtype') and np.issubdtype(X.dtype, np.float):\n",
      "/Library/Frameworks/Python.framework/Versions/3.6/lib/python3.6/site-packages/sklearn/feature_extraction/text.py:1059: FutureWarning: Conversion of the second argument of issubdtype from `float` to `np.floating` is deprecated. In future, it will be treated as `np.float64 == np.dtype(float).type`.\n",
      "  if hasattr(X, 'dtype') and np.issubdtype(X.dtype, np.float):\n"
     ]
    },
    {
     "name": "stdout",
     "output_type": "stream",
     "text": [
      "[CV]  clf__alpha=0.0001, tfidf__norm=l1, tfidf__use_idf=True, vect__max_df=0.5, vect__max_features=5000, vect__ngram_range=(1, 1), total=  16.4s\n",
      "[CV] clf__alpha=0.0001, tfidf__norm=l1, tfidf__use_idf=True, vect__max_df=0.5, vect__max_features=5000, vect__ngram_range=(1, 1) \n"
     ]
    },
    {
     "name": "stderr",
     "output_type": "stream",
     "text": [
      "/Library/Frameworks/Python.framework/Versions/3.6/lib/python3.6/site-packages/sklearn/feature_extraction/text.py:1059: FutureWarning: Conversion of the second argument of issubdtype from `float` to `np.floating` is deprecated. In future, it will be treated as `np.float64 == np.dtype(float).type`.\n",
      "  if hasattr(X, 'dtype') and np.issubdtype(X.dtype, np.float):\n"
     ]
    },
    {
     "name": "stdout",
     "output_type": "stream",
     "text": [
      "[CV]  clf__alpha=0.0001, tfidf__norm=l1, tfidf__use_idf=True, vect__max_df=0.5, vect__max_features=None, vect__ngram_range=(1, 2), total= 1.2min\n",
      "[CV] clf__alpha=0.0001, tfidf__norm=l1, tfidf__use_idf=True, vect__max_df=0.5, vect__max_features=5000, vect__ngram_range=(1, 2) \n",
      "[CV]  clf__alpha=0.0001, tfidf__norm=l1, tfidf__use_idf=True, vect__max_df=0.5, vect__max_features=5000, vect__ngram_range=(1, 1), total=  33.5s\n",
      "[CV] clf__alpha=0.0001, tfidf__norm=l1, tfidf__use_idf=True, vect__max_df=0.5, vect__max_features=5000, vect__ngram_range=(1, 2) \n",
      "[CV]  clf__alpha=0.0001, tfidf__norm=l1, tfidf__use_idf=True, vect__max_df=0.5, vect__max_features=None, vect__ngram_range=(1, 2), total= 1.5min\n",
      "[CV]  clf__alpha=0.0001, tfidf__norm=l1, tfidf__use_idf=True, vect__max_df=0.5, vect__max_features=None, vect__ngram_range=(1, 2), total= 1.6min\n",
      "[CV] clf__alpha=0.0001, tfidf__norm=l1, tfidf__use_idf=True, vect__max_df=0.5, vect__max_features=5000, vect__ngram_range=(1, 2) \n",
      "[CV] clf__alpha=0.0001, tfidf__norm=l1, tfidf__use_idf=True, vect__max_df=0.5, vect__max_features=10000, vect__ngram_range=(1, 1) \n"
     ]
    },
    {
     "name": "stderr",
     "output_type": "stream",
     "text": [
      "/Library/Frameworks/Python.framework/Versions/3.6/lib/python3.6/site-packages/sklearn/feature_extraction/text.py:1059: FutureWarning: Conversion of the second argument of issubdtype from `float` to `np.floating` is deprecated. In future, it will be treated as `np.float64 == np.dtype(float).type`.\n",
      "  if hasattr(X, 'dtype') and np.issubdtype(X.dtype, np.float):\n",
      "/Library/Frameworks/Python.framework/Versions/3.6/lib/python3.6/site-packages/sklearn/feature_extraction/text.py:1059: FutureWarning: Conversion of the second argument of issubdtype from `float` to `np.floating` is deprecated. In future, it will be treated as `np.float64 == np.dtype(float).type`.\n",
      "  if hasattr(X, 'dtype') and np.issubdtype(X.dtype, np.float):\n",
      "/Library/Frameworks/Python.framework/Versions/3.6/lib/python3.6/site-packages/sklearn/feature_extraction/text.py:1059: FutureWarning: Conversion of the second argument of issubdtype from `float` to `np.floating` is deprecated. In future, it will be treated as `np.float64 == np.dtype(float).type`.\n",
      "  if hasattr(X, 'dtype') and np.issubdtype(X.dtype, np.float):\n"
     ]
    },
    {
     "name": "stdout",
     "output_type": "stream",
     "text": [
      "[CV]  clf__alpha=0.0001, tfidf__norm=l1, tfidf__use_idf=True, vect__max_df=0.5, vect__max_features=10000, vect__ngram_range=(1, 1), total=  17.9s\n",
      "[CV] clf__alpha=0.0001, tfidf__norm=l1, tfidf__use_idf=True, vect__max_df=0.5, vect__max_features=10000, vect__ngram_range=(1, 1) \n"
     ]
    },
    {
     "name": "stderr",
     "output_type": "stream",
     "text": [
      "/Library/Frameworks/Python.framework/Versions/3.6/lib/python3.6/site-packages/sklearn/feature_extraction/text.py:1059: FutureWarning: Conversion of the second argument of issubdtype from `float` to `np.floating` is deprecated. In future, it will be treated as `np.float64 == np.dtype(float).type`.\n",
      "  if hasattr(X, 'dtype') and np.issubdtype(X.dtype, np.float):\n",
      "/Library/Frameworks/Python.framework/Versions/3.6/lib/python3.6/site-packages/sklearn/feature_extraction/text.py:1059: FutureWarning: Conversion of the second argument of issubdtype from `float` to `np.floating` is deprecated. In future, it will be treated as `np.float64 == np.dtype(float).type`.\n",
      "  if hasattr(X, 'dtype') and np.issubdtype(X.dtype, np.float):\n"
     ]
    },
    {
     "name": "stdout",
     "output_type": "stream",
     "text": [
      "[CV]  clf__alpha=0.0001, tfidf__norm=l1, tfidf__use_idf=True, vect__max_df=0.5, vect__max_features=5000, vect__ngram_range=(1, 2), total= 1.3min\n",
      "[CV] clf__alpha=0.0001, tfidf__norm=l1, tfidf__use_idf=True, vect__max_df=0.5, vect__max_features=10000, vect__ngram_range=(1, 1) \n",
      "[CV]  clf__alpha=0.0001, tfidf__norm=l1, tfidf__use_idf=True, vect__max_df=0.5, vect__max_features=10000, vect__ngram_range=(1, 1), total=  19.8s\n",
      "[CV]  clf__alpha=0.0001, tfidf__norm=l1, tfidf__use_idf=True, vect__max_df=0.5, vect__max_features=5000, vect__ngram_range=(1, 2), total= 1.2min\n",
      "[CV] clf__alpha=0.0001, tfidf__norm=l1, tfidf__use_idf=True, vect__max_df=0.5, vect__max_features=10000, vect__ngram_range=(1, 2) \n",
      "[CV] clf__alpha=0.0001, tfidf__norm=l1, tfidf__use_idf=True, vect__max_df=0.5, vect__max_features=10000, vect__ngram_range=(1, 2) \n"
     ]
    },
    {
     "name": "stderr",
     "output_type": "stream",
     "text": [
      "/Library/Frameworks/Python.framework/Versions/3.6/lib/python3.6/site-packages/sklearn/feature_extraction/text.py:1059: FutureWarning: Conversion of the second argument of issubdtype from `float` to `np.floating` is deprecated. In future, it will be treated as `np.float64 == np.dtype(float).type`.\n",
      "  if hasattr(X, 'dtype') and np.issubdtype(X.dtype, np.float):\n"
     ]
    },
    {
     "name": "stdout",
     "output_type": "stream",
     "text": [
      "[CV]  clf__alpha=0.0001, tfidf__norm=l1, tfidf__use_idf=True, vect__max_df=0.5, vect__max_features=5000, vect__ngram_range=(1, 2), total= 1.0min\n",
      "[CV] clf__alpha=0.0001, tfidf__norm=l1, tfidf__use_idf=True, vect__max_df=0.5, vect__max_features=10000, vect__ngram_range=(1, 2) \n",
      "[CV]  clf__alpha=0.0001, tfidf__norm=l1, tfidf__use_idf=True, vect__max_df=0.5, vect__max_features=10000, vect__ngram_range=(1, 1), total=  19.6s\n",
      "[CV] clf__alpha=0.0001, tfidf__norm=l1, tfidf__use_idf=True, vect__max_df=0.5, vect__max_features=50000, vect__ngram_range=(1, 1) \n"
     ]
    },
    {
     "name": "stderr",
     "output_type": "stream",
     "text": [
      "/Library/Frameworks/Python.framework/Versions/3.6/lib/python3.6/site-packages/sklearn/feature_extraction/text.py:1059: FutureWarning: Conversion of the second argument of issubdtype from `float` to `np.floating` is deprecated. In future, it will be treated as `np.float64 == np.dtype(float).type`.\n",
      "  if hasattr(X, 'dtype') and np.issubdtype(X.dtype, np.float):\n",
      "/Library/Frameworks/Python.framework/Versions/3.6/lib/python3.6/site-packages/sklearn/feature_extraction/text.py:1059: FutureWarning: Conversion of the second argument of issubdtype from `float` to `np.floating` is deprecated. In future, it will be treated as `np.float64 == np.dtype(float).type`.\n",
      "  if hasattr(X, 'dtype') and np.issubdtype(X.dtype, np.float):\n",
      "/Library/Frameworks/Python.framework/Versions/3.6/lib/python3.6/site-packages/sklearn/feature_extraction/text.py:1059: FutureWarning: Conversion of the second argument of issubdtype from `float` to `np.floating` is deprecated. In future, it will be treated as `np.float64 == np.dtype(float).type`.\n",
      "  if hasattr(X, 'dtype') and np.issubdtype(X.dtype, np.float):\n"
     ]
    },
    {
     "name": "stdout",
     "output_type": "stream",
     "text": [
      "[CV]  clf__alpha=0.0001, tfidf__norm=l1, tfidf__use_idf=True, vect__max_df=0.5, vect__max_features=50000, vect__ngram_range=(1, 1), total=  16.3s\n",
      "[CV] clf__alpha=0.0001, tfidf__norm=l1, tfidf__use_idf=True, vect__max_df=0.5, vect__max_features=50000, vect__ngram_range=(1, 1) \n"
     ]
    },
    {
     "name": "stderr",
     "output_type": "stream",
     "text": [
      "/Library/Frameworks/Python.framework/Versions/3.6/lib/python3.6/site-packages/sklearn/feature_extraction/text.py:1059: FutureWarning: Conversion of the second argument of issubdtype from `float` to `np.floating` is deprecated. In future, it will be treated as `np.float64 == np.dtype(float).type`.\n",
      "  if hasattr(X, 'dtype') and np.issubdtype(X.dtype, np.float):\n",
      "/Library/Frameworks/Python.framework/Versions/3.6/lib/python3.6/site-packages/sklearn/feature_extraction/text.py:1059: FutureWarning: Conversion of the second argument of issubdtype from `float` to `np.floating` is deprecated. In future, it will be treated as `np.float64 == np.dtype(float).type`.\n",
      "  if hasattr(X, 'dtype') and np.issubdtype(X.dtype, np.float):\n"
     ]
    },
    {
     "name": "stdout",
     "output_type": "stream",
     "text": [
      "[CV]  clf__alpha=0.0001, tfidf__norm=l1, tfidf__use_idf=True, vect__max_df=0.5, vect__max_features=10000, vect__ngram_range=(1, 2), total=  55.2s\n",
      "[CV]  clf__alpha=0.0001, tfidf__norm=l1, tfidf__use_idf=True, vect__max_df=0.5, vect__max_features=50000, vect__ngram_range=(1, 1), total=  16.4s\n",
      "[CV] clf__alpha=0.0001, tfidf__norm=l1, tfidf__use_idf=True, vect__max_df=0.5, vect__max_features=50000, vect__ngram_range=(1, 1) \n",
      "[CV]  clf__alpha=0.0001, tfidf__norm=l1, tfidf__use_idf=True, vect__max_df=0.5, vect__max_features=10000, vect__ngram_range=(1, 2), total=  55.4s\n",
      "[CV] clf__alpha=0.0001, tfidf__norm=l1, tfidf__use_idf=True, vect__max_df=0.5, vect__max_features=50000, vect__ngram_range=(1, 2) \n",
      "[CV] clf__alpha=0.0001, tfidf__norm=l1, tfidf__use_idf=True, vect__max_df=0.5, vect__max_features=50000, vect__ngram_range=(1, 2) \n"
     ]
    },
    {
     "name": "stderr",
     "output_type": "stream",
     "text": [
      "/Library/Frameworks/Python.framework/Versions/3.6/lib/python3.6/site-packages/sklearn/feature_extraction/text.py:1059: FutureWarning: Conversion of the second argument of issubdtype from `float` to `np.floating` is deprecated. In future, it will be treated as `np.float64 == np.dtype(float).type`.\n",
      "  if hasattr(X, 'dtype') and np.issubdtype(X.dtype, np.float):\n"
     ]
    },
    {
     "name": "stdout",
     "output_type": "stream",
     "text": [
      "[CV]  clf__alpha=0.0001, tfidf__norm=l1, tfidf__use_idf=True, vect__max_df=0.5, vect__max_features=10000, vect__ngram_range=(1, 2), total=  53.2s\n",
      "[CV] clf__alpha=0.0001, tfidf__norm=l1, tfidf__use_idf=True, vect__max_df=0.5, vect__max_features=50000, vect__ngram_range=(1, 2) \n",
      "[CV]  clf__alpha=0.0001, tfidf__norm=l1, tfidf__use_idf=True, vect__max_df=0.5, vect__max_features=50000, vect__ngram_range=(1, 1), total=  16.6s\n",
      "[CV] clf__alpha=0.0001, tfidf__norm=l1, tfidf__use_idf=True, vect__max_df=0.75, vect__max_features=None, vect__ngram_range=(1, 1) \n"
     ]
    },
    {
     "name": "stderr",
     "output_type": "stream",
     "text": [
      "/Library/Frameworks/Python.framework/Versions/3.6/lib/python3.6/site-packages/sklearn/feature_extraction/text.py:1059: FutureWarning: Conversion of the second argument of issubdtype from `float` to `np.floating` is deprecated. In future, it will be treated as `np.float64 == np.dtype(float).type`.\n",
      "  if hasattr(X, 'dtype') and np.issubdtype(X.dtype, np.float):\n",
      "/Library/Frameworks/Python.framework/Versions/3.6/lib/python3.6/site-packages/sklearn/feature_extraction/text.py:1059: FutureWarning: Conversion of the second argument of issubdtype from `float` to `np.floating` is deprecated. In future, it will be treated as `np.float64 == np.dtype(float).type`.\n",
      "  if hasattr(X, 'dtype') and np.issubdtype(X.dtype, np.float):\n",
      "/Library/Frameworks/Python.framework/Versions/3.6/lib/python3.6/site-packages/sklearn/feature_extraction/text.py:1059: FutureWarning: Conversion of the second argument of issubdtype from `float` to `np.floating` is deprecated. In future, it will be treated as `np.float64 == np.dtype(float).type`.\n",
      "  if hasattr(X, 'dtype') and np.issubdtype(X.dtype, np.float):\n"
     ]
    },
    {
     "name": "stdout",
     "output_type": "stream",
     "text": [
      "[CV]  clf__alpha=0.0001, tfidf__norm=l1, tfidf__use_idf=True, vect__max_df=0.75, vect__max_features=None, vect__ngram_range=(1, 1), total=  16.5s\n",
      "[CV] clf__alpha=0.0001, tfidf__norm=l1, tfidf__use_idf=True, vect__max_df=0.75, vect__max_features=None, vect__ngram_range=(1, 1) \n"
     ]
    },
    {
     "name": "stderr",
     "output_type": "stream",
     "text": [
      "/Library/Frameworks/Python.framework/Versions/3.6/lib/python3.6/site-packages/sklearn/feature_extraction/text.py:1059: FutureWarning: Conversion of the second argument of issubdtype from `float` to `np.floating` is deprecated. In future, it will be treated as `np.float64 == np.dtype(float).type`.\n",
      "  if hasattr(X, 'dtype') and np.issubdtype(X.dtype, np.float):\n",
      "/Library/Frameworks/Python.framework/Versions/3.6/lib/python3.6/site-packages/sklearn/feature_extraction/text.py:1059: FutureWarning: Conversion of the second argument of issubdtype from `float` to `np.floating` is deprecated. In future, it will be treated as `np.float64 == np.dtype(float).type`.\n",
      "  if hasattr(X, 'dtype') and np.issubdtype(X.dtype, np.float):\n"
     ]
    },
    {
     "name": "stdout",
     "output_type": "stream",
     "text": [
      "[CV]  clf__alpha=0.0001, tfidf__norm=l1, tfidf__use_idf=True, vect__max_df=0.5, vect__max_features=50000, vect__ngram_range=(1, 2), total=  54.5s\n",
      "[CV]  clf__alpha=0.0001, tfidf__norm=l1, tfidf__use_idf=True, vect__max_df=0.75, vect__max_features=None, vect__ngram_range=(1, 1), total=  16.1s\n",
      "[CV] clf__alpha=0.0001, tfidf__norm=l1, tfidf__use_idf=True, vect__max_df=0.75, vect__max_features=None, vect__ngram_range=(1, 1) \n",
      "[CV]  clf__alpha=0.0001, tfidf__norm=l1, tfidf__use_idf=True, vect__max_df=0.5, vect__max_features=50000, vect__ngram_range=(1, 2), total=  55.4s\n",
      "[CV] clf__alpha=0.0001, tfidf__norm=l1, tfidf__use_idf=True, vect__max_df=0.75, vect__max_features=None, vect__ngram_range=(1, 2) \n",
      "[CV] clf__alpha=0.0001, tfidf__norm=l1, tfidf__use_idf=True, vect__max_df=0.75, vect__max_features=None, vect__ngram_range=(1, 2) \n"
     ]
    },
    {
     "name": "stderr",
     "output_type": "stream",
     "text": [
      "/Library/Frameworks/Python.framework/Versions/3.6/lib/python3.6/site-packages/sklearn/feature_extraction/text.py:1059: FutureWarning: Conversion of the second argument of issubdtype from `float` to `np.floating` is deprecated. In future, it will be treated as `np.float64 == np.dtype(float).type`.\n",
      "  if hasattr(X, 'dtype') and np.issubdtype(X.dtype, np.float):\n"
     ]
    },
    {
     "name": "stdout",
     "output_type": "stream",
     "text": [
      "[CV]  clf__alpha=0.0001, tfidf__norm=l1, tfidf__use_idf=True, vect__max_df=0.5, vect__max_features=50000, vect__ngram_range=(1, 2), total=  54.3s\n",
      "[CV] clf__alpha=0.0001, tfidf__norm=l1, tfidf__use_idf=True, vect__max_df=0.75, vect__max_features=None, vect__ngram_range=(1, 2) \n",
      "[CV]  clf__alpha=0.0001, tfidf__norm=l1, tfidf__use_idf=True, vect__max_df=0.75, vect__max_features=None, vect__ngram_range=(1, 1), total=  15.6s\n",
      "[CV] clf__alpha=0.0001, tfidf__norm=l1, tfidf__use_idf=True, vect__max_df=0.75, vect__max_features=5000, vect__ngram_range=(1, 1) \n"
     ]
    },
    {
     "name": "stderr",
     "output_type": "stream",
     "text": [
      "/Library/Frameworks/Python.framework/Versions/3.6/lib/python3.6/site-packages/sklearn/feature_extraction/text.py:1059: FutureWarning: Conversion of the second argument of issubdtype from `float` to `np.floating` is deprecated. In future, it will be treated as `np.float64 == np.dtype(float).type`.\n",
      "  if hasattr(X, 'dtype') and np.issubdtype(X.dtype, np.float):\n",
      "/Library/Frameworks/Python.framework/Versions/3.6/lib/python3.6/site-packages/sklearn/feature_extraction/text.py:1059: FutureWarning: Conversion of the second argument of issubdtype from `float` to `np.floating` is deprecated. In future, it will be treated as `np.float64 == np.dtype(float).type`.\n",
      "  if hasattr(X, 'dtype') and np.issubdtype(X.dtype, np.float):\n",
      "/Library/Frameworks/Python.framework/Versions/3.6/lib/python3.6/site-packages/sklearn/feature_extraction/text.py:1059: FutureWarning: Conversion of the second argument of issubdtype from `float` to `np.floating` is deprecated. In future, it will be treated as `np.float64 == np.dtype(float).type`.\n",
      "  if hasattr(X, 'dtype') and np.issubdtype(X.dtype, np.float):\n"
     ]
    },
    {
     "name": "stdout",
     "output_type": "stream",
     "text": [
      "[CV]  clf__alpha=0.0001, tfidf__norm=l1, tfidf__use_idf=True, vect__max_df=0.75, vect__max_features=5000, vect__ngram_range=(1, 1), total=  15.6s\n",
      "[CV] clf__alpha=0.0001, tfidf__norm=l1, tfidf__use_idf=True, vect__max_df=0.75, vect__max_features=5000, vect__ngram_range=(1, 1) \n"
     ]
    },
    {
     "name": "stderr",
     "output_type": "stream",
     "text": [
      "/Library/Frameworks/Python.framework/Versions/3.6/lib/python3.6/site-packages/sklearn/feature_extraction/text.py:1059: FutureWarning: Conversion of the second argument of issubdtype from `float` to `np.floating` is deprecated. In future, it will be treated as `np.float64 == np.dtype(float).type`.\n",
      "  if hasattr(X, 'dtype') and np.issubdtype(X.dtype, np.float):\n",
      "/Library/Frameworks/Python.framework/Versions/3.6/lib/python3.6/site-packages/sklearn/feature_extraction/text.py:1059: FutureWarning: Conversion of the second argument of issubdtype from `float` to `np.floating` is deprecated. In future, it will be treated as `np.float64 == np.dtype(float).type`.\n",
      "  if hasattr(X, 'dtype') and np.issubdtype(X.dtype, np.float):\n"
     ]
    },
    {
     "name": "stdout",
     "output_type": "stream",
     "text": [
      "[CV]  clf__alpha=0.0001, tfidf__norm=l1, tfidf__use_idf=True, vect__max_df=0.75, vect__max_features=5000, vect__ngram_range=(1, 1), total=  15.5s\n",
      "[CV] clf__alpha=0.0001, tfidf__norm=l1, tfidf__use_idf=True, vect__max_df=0.75, vect__max_features=5000, vect__ngram_range=(1, 1) \n"
     ]
    },
    {
     "name": "stderr",
     "output_type": "stream",
     "text": [
      "/Library/Frameworks/Python.framework/Versions/3.6/lib/python3.6/site-packages/sklearn/feature_extraction/text.py:1059: FutureWarning: Conversion of the second argument of issubdtype from `float` to `np.floating` is deprecated. In future, it will be treated as `np.float64 == np.dtype(float).type`.\n",
      "  if hasattr(X, 'dtype') and np.issubdtype(X.dtype, np.float):\n"
     ]
    },
    {
     "name": "stdout",
     "output_type": "stream",
     "text": [
      "[CV]  clf__alpha=0.0001, tfidf__norm=l1, tfidf__use_idf=True, vect__max_df=0.75, vect__max_features=None, vect__ngram_range=(1, 2), total= 1.1min\n",
      "[CV]  clf__alpha=0.0001, tfidf__norm=l1, tfidf__use_idf=True, vect__max_df=0.75, vect__max_features=None, vect__ngram_range=(1, 2), total= 1.1min\n",
      "[CV] clf__alpha=0.0001, tfidf__norm=l1, tfidf__use_idf=True, vect__max_df=0.75, vect__max_features=5000, vect__ngram_range=(1, 2) \n",
      "[CV] clf__alpha=0.0001, tfidf__norm=l1, tfidf__use_idf=True, vect__max_df=0.75, vect__max_features=5000, vect__ngram_range=(1, 2) \n",
      "[CV]  clf__alpha=0.0001, tfidf__norm=l1, tfidf__use_idf=True, vect__max_df=0.75, vect__max_features=5000, vect__ngram_range=(1, 1), total=  16.0s\n",
      "[CV] clf__alpha=0.0001, tfidf__norm=l1, tfidf__use_idf=True, vect__max_df=0.75, vect__max_features=5000, vect__ngram_range=(1, 2) \n",
      "[CV]  clf__alpha=0.0001, tfidf__norm=l1, tfidf__use_idf=True, vect__max_df=0.75, vect__max_features=None, vect__ngram_range=(1, 2), total= 1.1min\n"
     ]
    },
    {
     "name": "stderr",
     "output_type": "stream",
     "text": [
      "[Parallel(n_jobs=-1)]: Done  33 tasks      | elapsed:  9.2min\n"
     ]
    },
    {
     "name": "stdout",
     "output_type": "stream",
     "text": [
      "[CV] clf__alpha=0.0001, tfidf__norm=l1, tfidf__use_idf=True, vect__max_df=0.75, vect__max_features=10000, vect__ngram_range=(1, 1) \n"
     ]
    },
    {
     "name": "stderr",
     "output_type": "stream",
     "text": [
      "/Library/Frameworks/Python.framework/Versions/3.6/lib/python3.6/site-packages/sklearn/feature_extraction/text.py:1059: FutureWarning: Conversion of the second argument of issubdtype from `float` to `np.floating` is deprecated. In future, it will be treated as `np.float64 == np.dtype(float).type`.\n",
      "  if hasattr(X, 'dtype') and np.issubdtype(X.dtype, np.float):\n",
      "/Library/Frameworks/Python.framework/Versions/3.6/lib/python3.6/site-packages/sklearn/feature_extraction/text.py:1059: FutureWarning: Conversion of the second argument of issubdtype from `float` to `np.floating` is deprecated. In future, it will be treated as `np.float64 == np.dtype(float).type`.\n",
      "  if hasattr(X, 'dtype') and np.issubdtype(X.dtype, np.float):\n"
     ]
    },
    {
     "name": "stdout",
     "output_type": "stream",
     "text": [
      "[CV]  clf__alpha=0.0001, tfidf__norm=l1, tfidf__use_idf=True, vect__max_df=0.75, vect__max_features=10000, vect__ngram_range=(1, 1), total=  15.9s\n"
     ]
    },
    {
     "name": "stderr",
     "output_type": "stream",
     "text": [
      "/Library/Frameworks/Python.framework/Versions/3.6/lib/python3.6/site-packages/sklearn/feature_extraction/text.py:1059: FutureWarning: Conversion of the second argument of issubdtype from `float` to `np.floating` is deprecated. In future, it will be treated as `np.float64 == np.dtype(float).type`.\n",
      "  if hasattr(X, 'dtype') and np.issubdtype(X.dtype, np.float):\n"
     ]
    },
    {
     "name": "stdout",
     "output_type": "stream",
     "text": [
      "[CV] clf__alpha=0.0001, tfidf__norm=l1, tfidf__use_idf=True, vect__max_df=0.75, vect__max_features=10000, vect__ngram_range=(1, 1) \n"
     ]
    },
    {
     "name": "stderr",
     "output_type": "stream",
     "text": [
      "/Library/Frameworks/Python.framework/Versions/3.6/lib/python3.6/site-packages/sklearn/feature_extraction/text.py:1059: FutureWarning: Conversion of the second argument of issubdtype from `float` to `np.floating` is deprecated. In future, it will be treated as `np.float64 == np.dtype(float).type`.\n",
      "  if hasattr(X, 'dtype') and np.issubdtype(X.dtype, np.float):\n",
      "/Library/Frameworks/Python.framework/Versions/3.6/lib/python3.6/site-packages/sklearn/feature_extraction/text.py:1059: FutureWarning: Conversion of the second argument of issubdtype from `float` to `np.floating` is deprecated. In future, it will be treated as `np.float64 == np.dtype(float).type`.\n",
      "  if hasattr(X, 'dtype') and np.issubdtype(X.dtype, np.float):\n"
     ]
    },
    {
     "name": "stdout",
     "output_type": "stream",
     "text": [
      "[CV]  clf__alpha=0.0001, tfidf__norm=l1, tfidf__use_idf=True, vect__max_df=0.75, vect__max_features=10000, vect__ngram_range=(1, 1), total=  15.6s\n",
      "[CV] clf__alpha=0.0001, tfidf__norm=l1, tfidf__use_idf=True, vect__max_df=0.75, vect__max_features=10000, vect__ngram_range=(1, 1) \n",
      "[CV]  clf__alpha=0.0001, tfidf__norm=l1, tfidf__use_idf=True, vect__max_df=0.75, vect__max_features=5000, vect__ngram_range=(1, 2), total=  51.2s\n",
      "[CV]  clf__alpha=0.0001, tfidf__norm=l1, tfidf__use_idf=True, vect__max_df=0.75, vect__max_features=5000, vect__ngram_range=(1, 2), total=  51.5s\n",
      "[CV] clf__alpha=0.0001, tfidf__norm=l1, tfidf__use_idf=True, vect__max_df=0.75, vect__max_features=10000, vect__ngram_range=(1, 2) \n"
     ]
    },
    {
     "name": "stderr",
     "output_type": "stream",
     "text": [
      "/Library/Frameworks/Python.framework/Versions/3.6/lib/python3.6/site-packages/sklearn/feature_extraction/text.py:1059: FutureWarning: Conversion of the second argument of issubdtype from `float` to `np.floating` is deprecated. In future, it will be treated as `np.float64 == np.dtype(float).type`.\n",
      "  if hasattr(X, 'dtype') and np.issubdtype(X.dtype, np.float):\n"
     ]
    },
    {
     "name": "stdout",
     "output_type": "stream",
     "text": [
      "[CV] clf__alpha=0.0001, tfidf__norm=l1, tfidf__use_idf=True, vect__max_df=0.75, vect__max_features=10000, vect__ngram_range=(1, 2) \n",
      "[CV]  clf__alpha=0.0001, tfidf__norm=l1, tfidf__use_idf=True, vect__max_df=0.75, vect__max_features=5000, vect__ngram_range=(1, 2), total=  52.0s\n",
      "[CV] clf__alpha=0.0001, tfidf__norm=l1, tfidf__use_idf=True, vect__max_df=0.75, vect__max_features=10000, vect__ngram_range=(1, 2) \n",
      "[CV]  clf__alpha=0.0001, tfidf__norm=l1, tfidf__use_idf=True, vect__max_df=0.75, vect__max_features=10000, vect__ngram_range=(1, 1), total=  16.2s\n",
      "[CV] clf__alpha=0.0001, tfidf__norm=l1, tfidf__use_idf=True, vect__max_df=0.75, vect__max_features=50000, vect__ngram_range=(1, 1) \n"
     ]
    },
    {
     "name": "stderr",
     "output_type": "stream",
     "text": [
      "/Library/Frameworks/Python.framework/Versions/3.6/lib/python3.6/site-packages/sklearn/feature_extraction/text.py:1059: FutureWarning: Conversion of the second argument of issubdtype from `float` to `np.floating` is deprecated. In future, it will be treated as `np.float64 == np.dtype(float).type`.\n",
      "  if hasattr(X, 'dtype') and np.issubdtype(X.dtype, np.float):\n",
      "/Library/Frameworks/Python.framework/Versions/3.6/lib/python3.6/site-packages/sklearn/feature_extraction/text.py:1059: FutureWarning: Conversion of the second argument of issubdtype from `float` to `np.floating` is deprecated. In future, it will be treated as `np.float64 == np.dtype(float).type`.\n",
      "  if hasattr(X, 'dtype') and np.issubdtype(X.dtype, np.float):\n",
      "/Library/Frameworks/Python.framework/Versions/3.6/lib/python3.6/site-packages/sklearn/feature_extraction/text.py:1059: FutureWarning: Conversion of the second argument of issubdtype from `float` to `np.floating` is deprecated. In future, it will be treated as `np.float64 == np.dtype(float).type`.\n",
      "  if hasattr(X, 'dtype') and np.issubdtype(X.dtype, np.float):\n"
     ]
    },
    {
     "name": "stdout",
     "output_type": "stream",
     "text": [
      "[CV]  clf__alpha=0.0001, tfidf__norm=l1, tfidf__use_idf=True, vect__max_df=0.75, vect__max_features=50000, vect__ngram_range=(1, 1), total=  15.9s\n",
      "[CV] clf__alpha=0.0001, tfidf__norm=l1, tfidf__use_idf=True, vect__max_df=0.75, vect__max_features=50000, vect__ngram_range=(1, 1) \n"
     ]
    },
    {
     "name": "stderr",
     "output_type": "stream",
     "text": [
      "/Library/Frameworks/Python.framework/Versions/3.6/lib/python3.6/site-packages/sklearn/feature_extraction/text.py:1059: FutureWarning: Conversion of the second argument of issubdtype from `float` to `np.floating` is deprecated. In future, it will be treated as `np.float64 == np.dtype(float).type`.\n",
      "  if hasattr(X, 'dtype') and np.issubdtype(X.dtype, np.float):\n",
      "/Library/Frameworks/Python.framework/Versions/3.6/lib/python3.6/site-packages/sklearn/feature_extraction/text.py:1059: FutureWarning: Conversion of the second argument of issubdtype from `float` to `np.floating` is deprecated. In future, it will be treated as `np.float64 == np.dtype(float).type`.\n",
      "  if hasattr(X, 'dtype') and np.issubdtype(X.dtype, np.float):\n"
     ]
    },
    {
     "name": "stdout",
     "output_type": "stream",
     "text": [
      "[CV]  clf__alpha=0.0001, tfidf__norm=l1, tfidf__use_idf=True, vect__max_df=0.75, vect__max_features=50000, vect__ngram_range=(1, 1), total=  16.2s\n",
      "[CV] clf__alpha=0.0001, tfidf__norm=l1, tfidf__use_idf=True, vect__max_df=0.75, vect__max_features=50000, vect__ngram_range=(1, 1) \n",
      "[CV]  clf__alpha=0.0001, tfidf__norm=l1, tfidf__use_idf=True, vect__max_df=0.75, vect__max_features=10000, vect__ngram_range=(1, 2), total=  52.3s\n",
      "[CV] clf__alpha=0.0001, tfidf__norm=l1, tfidf__use_idf=True, vect__max_df=0.75, vect__max_features=50000, vect__ngram_range=(1, 2) \n",
      "[CV]  clf__alpha=0.0001, tfidf__norm=l1, tfidf__use_idf=True, vect__max_df=0.75, vect__max_features=10000, vect__ngram_range=(1, 2), total=  53.0s\n"
     ]
    },
    {
     "name": "stderr",
     "output_type": "stream",
     "text": [
      "/Library/Frameworks/Python.framework/Versions/3.6/lib/python3.6/site-packages/sklearn/feature_extraction/text.py:1059: FutureWarning: Conversion of the second argument of issubdtype from `float` to `np.floating` is deprecated. In future, it will be treated as `np.float64 == np.dtype(float).type`.\n",
      "  if hasattr(X, 'dtype') and np.issubdtype(X.dtype, np.float):\n"
     ]
    },
    {
     "name": "stdout",
     "output_type": "stream",
     "text": [
      "[CV]  clf__alpha=0.0001, tfidf__norm=l1, tfidf__use_idf=True, vect__max_df=0.75, vect__max_features=10000, vect__ngram_range=(1, 2), total=  53.0s\n",
      "[CV] clf__alpha=0.0001, tfidf__norm=l1, tfidf__use_idf=True, vect__max_df=0.75, vect__max_features=50000, vect__ngram_range=(1, 2) \n",
      "[CV] clf__alpha=0.0001, tfidf__norm=l1, tfidf__use_idf=True, vect__max_df=0.75, vect__max_features=50000, vect__ngram_range=(1, 2) \n",
      "[CV]  clf__alpha=0.0001, tfidf__norm=l1, tfidf__use_idf=True, vect__max_df=0.75, vect__max_features=50000, vect__ngram_range=(1, 1), total=  16.0s\n",
      "[CV] clf__alpha=0.0001, tfidf__norm=l1, tfidf__use_idf=True, vect__max_df=1.0, vect__max_features=None, vect__ngram_range=(1, 1) \n"
     ]
    },
    {
     "name": "stderr",
     "output_type": "stream",
     "text": [
      "/Library/Frameworks/Python.framework/Versions/3.6/lib/python3.6/site-packages/sklearn/feature_extraction/text.py:1059: FutureWarning: Conversion of the second argument of issubdtype from `float` to `np.floating` is deprecated. In future, it will be treated as `np.float64 == np.dtype(float).type`.\n",
      "  if hasattr(X, 'dtype') and np.issubdtype(X.dtype, np.float):\n",
      "/Library/Frameworks/Python.framework/Versions/3.6/lib/python3.6/site-packages/sklearn/feature_extraction/text.py:1059: FutureWarning: Conversion of the second argument of issubdtype from `float` to `np.floating` is deprecated. In future, it will be treated as `np.float64 == np.dtype(float).type`.\n",
      "  if hasattr(X, 'dtype') and np.issubdtype(X.dtype, np.float):\n",
      "/Library/Frameworks/Python.framework/Versions/3.6/lib/python3.6/site-packages/sklearn/feature_extraction/text.py:1059: FutureWarning: Conversion of the second argument of issubdtype from `float` to `np.floating` is deprecated. In future, it will be treated as `np.float64 == np.dtype(float).type`.\n",
      "  if hasattr(X, 'dtype') and np.issubdtype(X.dtype, np.float):\n"
     ]
    },
    {
     "name": "stdout",
     "output_type": "stream",
     "text": [
      "[CV]  clf__alpha=0.0001, tfidf__norm=l1, tfidf__use_idf=True, vect__max_df=1.0, vect__max_features=None, vect__ngram_range=(1, 1), total=  15.7s\n"
     ]
    },
    {
     "name": "stderr",
     "output_type": "stream",
     "text": [
      "/Library/Frameworks/Python.framework/Versions/3.6/lib/python3.6/site-packages/sklearn/feature_extraction/text.py:1059: FutureWarning: Conversion of the second argument of issubdtype from `float` to `np.floating` is deprecated. In future, it will be treated as `np.float64 == np.dtype(float).type`.\n",
      "  if hasattr(X, 'dtype') and np.issubdtype(X.dtype, np.float):\n"
     ]
    },
    {
     "name": "stdout",
     "output_type": "stream",
     "text": [
      "[CV] clf__alpha=0.0001, tfidf__norm=l1, tfidf__use_idf=True, vect__max_df=1.0, vect__max_features=None, vect__ngram_range=(1, 1) \n"
     ]
    },
    {
     "name": "stderr",
     "output_type": "stream",
     "text": [
      "/Library/Frameworks/Python.framework/Versions/3.6/lib/python3.6/site-packages/sklearn/feature_extraction/text.py:1059: FutureWarning: Conversion of the second argument of issubdtype from `float` to `np.floating` is deprecated. In future, it will be treated as `np.float64 == np.dtype(float).type`.\n",
      "  if hasattr(X, 'dtype') and np.issubdtype(X.dtype, np.float):\n"
     ]
    },
    {
     "name": "stdout",
     "output_type": "stream",
     "text": [
      "[CV]  clf__alpha=0.0001, tfidf__norm=l1, tfidf__use_idf=True, vect__max_df=1.0, vect__max_features=None, vect__ngram_range=(1, 1), total=  16.3s\n",
      "[CV] clf__alpha=0.0001, tfidf__norm=l1, tfidf__use_idf=True, vect__max_df=1.0, vect__max_features=None, vect__ngram_range=(1, 1) \n",
      "[CV]  clf__alpha=0.0001, tfidf__norm=l1, tfidf__use_idf=True, vect__max_df=0.75, vect__max_features=50000, vect__ngram_range=(1, 2), total=  53.2s\n",
      "[CV] clf__alpha=0.0001, tfidf__norm=l1, tfidf__use_idf=True, vect__max_df=1.0, vect__max_features=None, vect__ngram_range=(1, 2) \n",
      "[CV]  clf__alpha=0.0001, tfidf__norm=l1, tfidf__use_idf=True, vect__max_df=0.75, vect__max_features=50000, vect__ngram_range=(1, 2), total=  53.4s\n"
     ]
    },
    {
     "name": "stderr",
     "output_type": "stream",
     "text": [
      "/Library/Frameworks/Python.framework/Versions/3.6/lib/python3.6/site-packages/sklearn/feature_extraction/text.py:1059: FutureWarning: Conversion of the second argument of issubdtype from `float` to `np.floating` is deprecated. In future, it will be treated as `np.float64 == np.dtype(float).type`.\n",
      "  if hasattr(X, 'dtype') and np.issubdtype(X.dtype, np.float):\n"
     ]
    },
    {
     "name": "stdout",
     "output_type": "stream",
     "text": [
      "[CV] clf__alpha=0.0001, tfidf__norm=l1, tfidf__use_idf=True, vect__max_df=1.0, vect__max_features=None, vect__ngram_range=(1, 2) \n",
      "[CV]  clf__alpha=0.0001, tfidf__norm=l1, tfidf__use_idf=True, vect__max_df=0.75, vect__max_features=50000, vect__ngram_range=(1, 2), total=  53.5s\n",
      "[CV] clf__alpha=0.0001, tfidf__norm=l1, tfidf__use_idf=True, vect__max_df=1.0, vect__max_features=None, vect__ngram_range=(1, 2) \n",
      "[CV]  clf__alpha=0.0001, tfidf__norm=l1, tfidf__use_idf=True, vect__max_df=1.0, vect__max_features=None, vect__ngram_range=(1, 1), total=  16.0s\n",
      "[CV] clf__alpha=0.0001, tfidf__norm=l1, tfidf__use_idf=True, vect__max_df=1.0, vect__max_features=5000, vect__ngram_range=(1, 1) \n"
     ]
    }
   ],
   "source": [
    "# Hyperameters optimization with GridSearchCV = parallel processing\n",
    "from sklearn.model_selection import GridSearchCV\n",
    "from sklearn.pipeline import Pipeline\n",
    "from pprint import pprint\n",
    "from time import time\n",
    "import logging\n",
    "# Display progress logs on stdout\n",
    "logging.basicConfig(level=logging.INFO,\n",
    "                    format='%(asctime)s %(levelname)s %(message)s')\n",
    "\n",
    "\n",
    "pipeline = Pipeline([\n",
    "    ('vect', CountVectorizer()),\n",
    "    ('tfidf', TfidfTransformer()),\n",
    "    ('clf', MultinomialNB()),\n",
    "])\n",
    "\n",
    "\n",
    "parameters = {\n",
    "    'vect__max_df': (0.5, 0.75, 1.0),\n",
    "    'vect__max_features': (None, 5000, 10000, 50000),\n",
    "    'vect__ngram_range': ((1, 1), (1, 2)),  # unigrams or bigrams\n",
    "    'tfidf__use_idf': (True, False),\n",
    "    'tfidf__norm': ('l1', 'l2'),\n",
    "    'clf__alpha': (0.0001, 0.001,0.01,0.1)\n",
    "}\n",
    "if __name__ == \"__main__\":\n",
    "    # multiprocessing requires the fork to happen in a __main__ protected\n",
    "    # block\n",
    "\n",
    "    # find the best parameters for both the feature extraction and the\n",
    "    # classifier\n",
    "    grid_search = GridSearchCV(pipeline, parameters, n_jobs=-1, verbose=2)\n",
    "\n",
    "    print(\"Performing grid search...\")\n",
    "    print(\"pipeline:\", [name for name, _ in pipeline.steps])\n",
    "    print(\"parameters:\")\n",
    "    pprint(parameters)\n",
    "    t0 = time()\n",
    "    grid_search.fit(X_train_dev, y_train_dev)\n",
    "    print(\"done in %0.3fs\" % (time() - t0))\n",
    "    print()\n",
    "\n",
    "    print(\"Best score: %0.3f\" % grid_search.best_score_)\n",
    "    print(\"Best parameters set:\")\n",
    "    best_parameters = grid_search.best_estimator_.get_params()\n",
    "    for param_name in sorted(parameters.keys()):\n",
    "        print(\"\\t%s: %r\" % (param_name, best_parameters[param_name]))"
   ]
  },
  {
   "cell_type": "code",
   "execution_count": null,
   "metadata": {
    "collapsed": true
   },
   "outputs": [],
   "source": []
  }
 ],
 "metadata": {
  "kernelspec": {
   "display_name": "Python 3",
   "language": "python",
   "name": "python3"
  },
  "language_info": {
   "codemirror_mode": {
    "name": "ipython",
    "version": 3
   },
   "file_extension": ".py",
   "mimetype": "text/x-python",
   "name": "python",
   "nbconvert_exporter": "python",
   "pygments_lexer": "ipython3",
   "version": "3.6.2"
  }
 },
 "nbformat": 4,
 "nbformat_minor": 2
}
