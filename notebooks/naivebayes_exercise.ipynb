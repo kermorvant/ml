{
 "cells": [
  {
   "cell_type": "markdown",
   "metadata": {},
   "source": [
    "# Naive Bayes\n",
    "\n",
    "## A simple example on a toy problem\n",
    "\n",
    "### Exercise\n",
    "\n",
    "Automatic text classification is one of the standard Machine Learning applications. Spam filtering was the first service based on Machine Learing used by almost every internet users.\n",
    "\n",
    "We want to build a email classification system using a Naive Bayes classifier.\n",
    "Emails must be classified into 2 different classes : *membership* or *complaint*.\n",
    "\n",
    " The classification will be based on the presence or absence of 3 words : \n",
    " \n",
    " `join, address,  unacceptable, `\n",
    " \n",
    "The training sample is composed of following documents, presented using a bag-of-word representation : \n",
    "\n",
    "\n",
    "join |  address | unacceptable  | class \n",
    "---|--------|-------|--------\n",
    "1|1|0| membership\n",
    "0|0|0| membership\n",
    "1|1|0| membership\n",
    "1|1|0| membership\n",
    "1|1|0| membership\n",
    "0|1|1| membership\n",
    "1|1|0| membership\n",
    "0|1|1| complaint\n",
    "1|1|0| complaint\n",
    "0|0|1| complaint\n",
    "0|1|1| complaint\n",
    "0|1|1| complaint\n",
    "1|0|0| complaint\n",
    "\n",
    "\n",
    "\n",
    "\n",
    "\n",
    "We denote by  $Y$ the document class and  $X=X_1,\\cdots,X_3$ the bag of word features.\n",
    "\n",
    "**Question**:\n",
    "> * Compute the frequency tables for each event and each class\n",
    "> \n",
    "> Class |  \"join\" present | \"address\" present  | \"unacceptable\" present \n",
    "> ---|--------|-------|--------\n",
    "> membership | | |\n",
    "> complaint | | |\n",
    ">  \n",
    "> * Divide the values in the table by the frequency of each class to compute P(word i is present|Y)\n",
    "> * Compute the probability of P(word i is absent|Y) : this is 1-P(word i is present|Y)\n",
    "> * Compute the prior  probabilities P(Y=membership) and P(Y=complaint)\n",
    "\n",
    "\n",
    "We want to predict the class of the following document using a Naives Bayes classifier \n",
    "\n",
    "*Sir, I have a new problem with my account : I can not login. This is the third time this week that my account is down and I can join no one. This is unacceptable.*\n",
    "\n",
    "In this text : \"join\" is present, \"address\" is not present and \"unacceptable\" is present\n",
    "\n",
    "**Question**:\n",
    "    \n",
    ">Based on the probabilities computed before, compute the most probable class using the Bayes Formula :\n",
    ">\n",
    "> $$ P(Y | X_1,X_2,X_3) = \\frac{P(X_1 | Y)P(X_2 | Y)P(X_3 | Y)P(Y)}{P(X)}$$\n",
    "\n",
    "> To simplify the task, we have already computed  P(X) = 0.04203733\n",
    ">\n",
    "> You will have to compute  :\n",
    ">\n",
    "> * $P(Y = membership | X_1,X_2,X_3)$   = P(\"join\" is present | Y = membership) \\* P(\"address\" is absent | Y = membership ) \\* P(\"unacceptable\" is present| Y = membership) \\* P( Y = membership) / P(X)\n",
    "> * $P(Y = complaint | X_1,X_2,X_3)$   = P(\"join\" is present | Y = complaint) \\* P(\"address\" is absent | Y = complaint ) \\* P(\"unacceptable\" is present| Y = complaint) \\* P( Y = complaint) / P(X)\n",
    "> * and select the class with the maximal probability.\n",
    "> "
   ]
  },
  {
   "cell_type": "code",
   "execution_count": null,
   "metadata": {},
   "outputs": [],
   "source": []
  },
  {
   "cell_type": "code",
   "execution_count": 1,
   "metadata": {},
   "outputs": [
    {
     "name": "stdout",
     "output_type": "stream",
     "text": [
      "            join  address  unacceptable\n",
      "class                                  \n",
      "complaint      2        4             4\n",
      "membership     5        6             1\n",
      "\n",
      "[[6 6 6]\n",
      " [7 7 7]]\n",
      "\n",
      "P(X=1|C)\n",
      "[[0.33333333 0.66666667 0.66666667]\n",
      " [0.71428571 0.85714286 0.14285714]]\n",
      "\n",
      "P(X=0|C)\n",
      "[[0.66666667 0.33333333 0.33333333]\n",
      " [0.28571429 0.14285714 0.85714286]]\n",
      "\n",
      "Prior(C)\n",
      "[[0.46153846]\n",
      " [0.53846154]]\n",
      "\n",
      "P(X)= [0.04203733]\n",
      "\n",
      "Compute log proba\n",
      "Log proba\n",
      "[[-1.09861229 -0.40546511 -0.40546511]\n",
      " [-0.33647224 -0.15415068 -1.94591015]]\n",
      "\n",
      "Log proba of the complement event\n",
      "[[-0.40546511 -1.09861229 -1.09861229]\n",
      " [-1.25276297 -1.94591015 -0.15415068]]\n",
      "\n",
      "Log prior\n",
      "[[-0.77318989]\n",
      " [-0.61903921]]\n"
     ]
    }
   ],
   "source": [
    "import pandas as pd\n",
    "import numpy as np\n",
    "df = pd.DataFrame([\n",
    "    [1,1,0, 'membership'],\n",
    "[0,0,0, 'membership'],\n",
    "[1,1,0, 'membership'],\n",
    "[1,1,0, 'membership'],\n",
    "[1,1,0, 'membership'],\n",
    "[0,1,1, 'membership'],\n",
    "[1,1,0, 'membership'],\n",
    "[0,1,1, 'complaint'],\n",
    "[1,1,0, 'complaint'],\n",
    "[0,0,1, 'complaint'],\n",
    "[0,1,1, 'complaint'],\n",
    "[0,1,1, 'complaint'],\n",
    "[1,0,0, 'complaint'],\n",
    "    ],\n",
    "    columns=['join',  'address',  'unacceptable', 'class'],\n",
    ")\n",
    "import numpy as np\n",
    "# Compute the number of occurrences per event and per class\n",
    "print (df.groupby('class').sum())\n",
    "print ()\n",
    "\n",
    "# Compute the number of occurrences per class\n",
    "#print (df['class'].value_counts())\n",
    "sum = np.flip(np.tile(df['class'].value_counts().values, (3,1)).transpose(),axis=0)\n",
    "print (sum)\n",
    "print ()\n",
    "\n",
    "# Compute the probability  per event and per class\n",
    "p1 = df.groupby('class').sum().values  / sum\n",
    "print (\"P(X=1|C)\")\n",
    "print (p1)\n",
    "print()\n",
    "\n",
    "# Compute the probability of the complement event\n",
    "p0 = 1 - p1\n",
    "print (\"P(X=0|C)\")\n",
    "print (p0)\n",
    "print ()\n",
    "\n",
    "# Compute prior\n",
    "prior = np.flip(df['class'].value_counts().values.reshape((2,1)),axis=0) / 13.\n",
    "print (\"Prior(C)\")\n",
    "print (prior)\n",
    "print ()\n",
    "\n",
    "# Compute P(X)\n",
    "px = p1[0][0]*p0[0][1]*p1[0][2]*prior[0]+ p1[1][0]*p0[1][1]*p1[1][2]*prior[1]\n",
    "print (\"P(X)=\",px)\n",
    "print()\n",
    "\n",
    "print (\"Compute log proba\")\n",
    "# Compute the log proba\n",
    "\n",
    "lp1 = np.log(p1)\n",
    "print (\"Log proba\")\n",
    "print (lp1)\n",
    "print ()\n",
    "\n",
    "lp0 = np.log(p0)\n",
    "print (\"Log proba of the complement event\")\n",
    "print (lp0)\n",
    "print ()\n",
    "\n",
    "# Compute the prior and log prior\n",
    "prior = np.flip(df['class'].value_counts().values.reshape((2,1)),axis=0) / 13.\n",
    "lprior = np.log(prior)\n",
    "print (\"Log prior\")\n",
    "print (lprior)\n",
    "\n"
   ]
  },
  {
   "cell_type": "code",
   "execution_count": 2,
   "metadata": {},
   "outputs": [
    {
     "name": "stdout",
     "output_type": "stream",
     "text": [
      "complaint=[0.81327801]\n",
      "membership=[0.18672199]\n"
     ]
    }
   ],
   "source": [
    "# Compute the posterior for each class\n",
    "classes_name = list(df.groupby('class').groups.keys())\n",
    "\n",
    "for c in [0,1]:\n",
    "    print (classes_name[c],end='=')\n",
    "    print (p1[c][0]*p0[c][1]*p1[c][2]*prior[c]/px)\n"
   ]
  },
  {
   "cell_type": "markdown",
   "metadata": {},
   "source": [
    "### Code\n",
    "\n",
    "The following DataFrame contains the data of the previous exercice. \n",
    "\n",
    "**Question**\n",
    "> * Train a [Bernouilli Naive Bayes](http://scikit-learn.org/stable/modules/generated/sklearn.naive_bayes.BernoulliNB.html) on all the data.\n",
    "> * Predict the class of the sample `sample = np.array([1,0,1])`, corresponding to the document of the previous excercise. \n",
    "> * Check your prediction with `clf.predict_proba([1,0,1])`\n",
    "> * Check the different probabilities computed for the previous question :\n",
    ">  * `clf.feature_count_` :  the count for each feature per class $C(X_i =1 \\| Y=c)$\n",
    ">  * `clf.feature_log_prob_` : the log probability for each feature per class $log(P(X_i =1 \\| Y=c))$\n",
    ">  * `clf.class_log_prior_` : the log prior probabilities for each class $log(P(Y=c))$\n",
    "> * Check your prediction with `clf.predict_proba([1,0,1])` \n",
    "\n"
   ]
  },
  {
   "cell_type": "code",
   "execution_count": 3,
   "metadata": {},
   "outputs": [
    {
     "data": {
      "text/html": [
       "<div>\n",
       "<style scoped>\n",
       "    .dataframe tbody tr th:only-of-type {\n",
       "        vertical-align: middle;\n",
       "    }\n",
       "\n",
       "    .dataframe tbody tr th {\n",
       "        vertical-align: top;\n",
       "    }\n",
       "\n",
       "    .dataframe thead th {\n",
       "        text-align: right;\n",
       "    }\n",
       "</style>\n",
       "<table border=\"1\" class=\"dataframe\">\n",
       "  <thead>\n",
       "    <tr style=\"text-align: right;\">\n",
       "      <th></th>\n",
       "      <th>join</th>\n",
       "      <th>address</th>\n",
       "      <th>unacceptable</th>\n",
       "      <th>class</th>\n",
       "    </tr>\n",
       "  </thead>\n",
       "  <tbody>\n",
       "    <tr>\n",
       "      <th>0</th>\n",
       "      <td>1</td>\n",
       "      <td>1</td>\n",
       "      <td>0</td>\n",
       "      <td>membership</td>\n",
       "    </tr>\n",
       "    <tr>\n",
       "      <th>1</th>\n",
       "      <td>0</td>\n",
       "      <td>0</td>\n",
       "      <td>0</td>\n",
       "      <td>membership</td>\n",
       "    </tr>\n",
       "    <tr>\n",
       "      <th>2</th>\n",
       "      <td>1</td>\n",
       "      <td>1</td>\n",
       "      <td>0</td>\n",
       "      <td>membership</td>\n",
       "    </tr>\n",
       "    <tr>\n",
       "      <th>3</th>\n",
       "      <td>1</td>\n",
       "      <td>1</td>\n",
       "      <td>0</td>\n",
       "      <td>membership</td>\n",
       "    </tr>\n",
       "    <tr>\n",
       "      <th>4</th>\n",
       "      <td>1</td>\n",
       "      <td>1</td>\n",
       "      <td>0</td>\n",
       "      <td>membership</td>\n",
       "    </tr>\n",
       "    <tr>\n",
       "      <th>5</th>\n",
       "      <td>0</td>\n",
       "      <td>1</td>\n",
       "      <td>1</td>\n",
       "      <td>membership</td>\n",
       "    </tr>\n",
       "    <tr>\n",
       "      <th>6</th>\n",
       "      <td>1</td>\n",
       "      <td>1</td>\n",
       "      <td>0</td>\n",
       "      <td>membership</td>\n",
       "    </tr>\n",
       "    <tr>\n",
       "      <th>7</th>\n",
       "      <td>0</td>\n",
       "      <td>1</td>\n",
       "      <td>1</td>\n",
       "      <td>complaint</td>\n",
       "    </tr>\n",
       "    <tr>\n",
       "      <th>8</th>\n",
       "      <td>1</td>\n",
       "      <td>1</td>\n",
       "      <td>0</td>\n",
       "      <td>complaint</td>\n",
       "    </tr>\n",
       "    <tr>\n",
       "      <th>9</th>\n",
       "      <td>0</td>\n",
       "      <td>0</td>\n",
       "      <td>1</td>\n",
       "      <td>complaint</td>\n",
       "    </tr>\n",
       "    <tr>\n",
       "      <th>10</th>\n",
       "      <td>0</td>\n",
       "      <td>1</td>\n",
       "      <td>1</td>\n",
       "      <td>complaint</td>\n",
       "    </tr>\n",
       "    <tr>\n",
       "      <th>11</th>\n",
       "      <td>0</td>\n",
       "      <td>1</td>\n",
       "      <td>1</td>\n",
       "      <td>complaint</td>\n",
       "    </tr>\n",
       "    <tr>\n",
       "      <th>12</th>\n",
       "      <td>1</td>\n",
       "      <td>0</td>\n",
       "      <td>0</td>\n",
       "      <td>complaint</td>\n",
       "    </tr>\n",
       "  </tbody>\n",
       "</table>\n",
       "</div>"
      ],
      "text/plain": [
       "    join  address  unacceptable       class\n",
       "0      1        1             0  membership\n",
       "1      0        0             0  membership\n",
       "2      1        1             0  membership\n",
       "3      1        1             0  membership\n",
       "4      1        1             0  membership\n",
       "5      0        1             1  membership\n",
       "6      1        1             0  membership\n",
       "7      0        1             1   complaint\n",
       "8      1        1             0   complaint\n",
       "9      0        0             1   complaint\n",
       "10     0        1             1   complaint\n",
       "11     0        1             1   complaint\n",
       "12     1        0             0   complaint"
      ]
     },
     "execution_count": 3,
     "metadata": {},
     "output_type": "execute_result"
    }
   ],
   "source": [
    "import pandas as pd\n",
    "import numpy as np\n",
    "df = pd.DataFrame([\n",
    "    [1,1,0, 'membership'],\n",
    "[0,0,0, 'membership'],\n",
    "[1,1,0, 'membership'],\n",
    "[1,1,0, 'membership'],\n",
    "[1,1,0, 'membership'],\n",
    "[0,1,1, 'membership'],\n",
    "[1,1,0, 'membership'],\n",
    "[0,1,1, 'complaint'],\n",
    "[1,1,0, 'complaint'],\n",
    "[0,0,1, 'complaint'],\n",
    "[0,1,1, 'complaint'],\n",
    "[0,1,1, 'complaint'],\n",
    "[1,0,0, 'complaint'],\n",
    "    ],\n",
    "    columns=['join',  'address',  'unacceptable', 'class'],\n",
    ")\n",
    "df"
   ]
  },
  {
   "cell_type": "code",
   "execution_count": 4,
   "metadata": {},
   "outputs": [
    {
     "name": "stdout",
     "output_type": "stream",
     "text": [
      "frequence per event and per class\n",
      "[[2. 4. 4.]\n",
      " [5. 6. 1.]]\n",
      "proba per event and per class\n",
      "[[0.33333333 0.66666667 0.66666667]\n",
      " [0.71428571 0.85714286 0.14285714]]\n",
      "class prior\n",
      "[0.46153846 0.53846154]\n"
     ]
    },
    {
     "name": "stderr",
     "output_type": "stream",
     "text": [
      "/Users/kermorvant/Work/Cours/ml/ENV/lib/python3.7/site-packages/sklearn/naive_bayes.py:512: UserWarning: alpha too small will result in numeric errors, setting alpha = 1.0e-10\n",
      "  'setting alpha = %.1e' % _ALPHA_MIN)\n"
     ]
    }
   ],
   "source": [
    "# Check that we have the same result with BernoulliNB from sklearn\n",
    "# Define the features and class\n",
    "X = df[['join',  'address',  'unacceptable']]\n",
    "y = df['class']\n",
    "from sklearn.naive_bayes import BernoulliNB\n",
    "clf = BernoulliNB(alpha=0) # alpha = 0 to disable smoothing to compare with the previous exercise\n",
    "clf.fit(X,y) # Your code here\n",
    "print (\"frequence per event and per class\")\n",
    "print (clf.feature_count_)\n",
    "print (\"proba per event and per class\")\n",
    "print (np.exp(clf.feature_log_prob_))\n",
    "print (\"class prior\")\n",
    "print (np.exp(clf.class_log_prior_))\n"
   ]
  },
  {
   "cell_type": "code",
   "execution_count": 5,
   "metadata": {},
   "outputs": [
    {
     "name": "stdout",
     "output_type": "stream",
     "text": [
      "['complaint']\n",
      "['complaint' 'membership']\n",
      "[[0.81327801 0.18672199]]\n"
     ]
    }
   ],
   "source": [
    "# create the vector for the text to be classified \n",
    "# \"join\" is present, address is absent and unacceptable is present -> [1,0,1]\n",
    "sample = np.array([1,0,1])\n",
    "# predict the class\n",
    "print (clf.predict(sample.reshape(1, -1))) # reshape to avoid a warning\n",
    "print (clf.classes_)\n",
    "# predict the probability for each class\n",
    "print (clf.predict_proba(sample.reshape(1, -1))) # reshape to avoid a warning"
   ]
  },
  {
   "cell_type": "markdown",
   "metadata": {},
   "source": [
    "## LeMonde2003 Dataset\n",
    "\n",
    "We will now apply classification algorithms to newspaper articles published in 2003 in *Le Monde*. The dataset can be dowloaded in  CSV format [here](https://kermorvant.github.io/csexed-ml/data/LeMonde2003_9classes.csv.gz).\n",
    "\n",
    "These articles concern different subjects but we will consider only articles related to the following subjects : entreprises (ENT), international (INT), arts (ART), société (SOC), France (FRA), sports (SPO), livres (LIV), télévision (TEL) and the font page articles (UNE).\n",
    "\n",
    "\n",
    "> * Load the CSV file `LeMonde2003_9classes.csv` containing the articles using [pd.read_csv](https://pandas.pydata.org/pandas-docs/stable/generated/pandas.read_csv.html) . \n",
    "> * Plot the frequency histogram of the categories using [`countplot`](https://seaborn.pydata.org/tutorial/categorical.html) : `sns.countplot(data=df,y='category')`\n",
    "\n"
   ]
  },
  {
   "cell_type": "code",
   "execution_count": 7,
   "metadata": {},
   "outputs": [
    {
     "name": "stdout",
     "output_type": "stream",
     "text": [
      "(30165, 2)\n"
     ]
    },
    {
     "data": {
      "text/html": [
       "<div>\n",
       "<style scoped>\n",
       "    .dataframe tbody tr th:only-of-type {\n",
       "        vertical-align: middle;\n",
       "    }\n",
       "\n",
       "    .dataframe tbody tr th {\n",
       "        vertical-align: top;\n",
       "    }\n",
       "\n",
       "    .dataframe thead th {\n",
       "        text-align: right;\n",
       "    }\n",
       "</style>\n",
       "<table border=\"1\" class=\"dataframe\">\n",
       "  <thead>\n",
       "    <tr style=\"text-align: right;\">\n",
       "      <th></th>\n",
       "      <th>text</th>\n",
       "      <th>category</th>\n",
       "    </tr>\n",
       "  </thead>\n",
       "  <tbody>\n",
       "    <tr>\n",
       "      <th>0</th>\n",
       "      <td>a la boutique du fulham fc nichée au dernier é...</td>\n",
       "      <td>SPO</td>\n",
       "    </tr>\n",
       "    <tr>\n",
       "      <th>1</th>\n",
       "      <td>pour la plupart de ceux qui n'y vivent pas la ...</td>\n",
       "      <td>ART</td>\n",
       "    </tr>\n",
       "    <tr>\n",
       "      <th>2</th>\n",
       "      <td>la perspective d'une enquête judiciaire sur la...</td>\n",
       "      <td>FRA</td>\n",
       "    </tr>\n",
       "    <tr>\n",
       "      <th>3</th>\n",
       "      <td>le tribunal administratif de limoges a annulé ...</td>\n",
       "      <td>SOC</td>\n",
       "    </tr>\n",
       "    <tr>\n",
       "      <th>4</th>\n",
       "      <td>des avions américains et britanniques ont bomb...</td>\n",
       "      <td>INT</td>\n",
       "    </tr>\n",
       "  </tbody>\n",
       "</table>\n",
       "</div>"
      ],
      "text/plain": [
       "                                                text category\n",
       "0  a la boutique du fulham fc nichée au dernier é...      SPO\n",
       "1  pour la plupart de ceux qui n'y vivent pas la ...      ART\n",
       "2  la perspective d'une enquête judiciaire sur la...      FRA\n",
       "3  le tribunal administratif de limoges a annulé ...      SOC\n",
       "4  des avions américains et britanniques ont bomb...      INT"
      ]
     },
     "execution_count": 7,
     "metadata": {},
     "output_type": "execute_result"
    }
   ],
   "source": [
    "import pandas as pd\n",
    "import seaborn as sns\n",
    "%matplotlib inline\n",
    "import numpy as np\n",
    "np.random.seed(42)\n",
    "# load dataframe from CSV file\n",
    "df = pd.read_csv('../data/LeMonde2003_9classes.csv.gz')\n",
    "print (df.shape)\n",
    "df.head()"
   ]
  },
  {
   "cell_type": "code",
   "execution_count": 8,
   "metadata": {},
   "outputs": [
    {
     "data": {
      "text/plain": [
       "<AxesSubplot:xlabel='count', ylabel='category'>"
      ]
     },
     "execution_count": 8,
     "metadata": {},
     "output_type": "execute_result"
    },
    {
     "data": {
      "image/png": "[encoded data removed]",
      "text/plain": [
       "<Figure size 432x288 with 1 Axes>"
      ]
     },
     "metadata": {
      "needs_background": "light"
     },
     "output_type": "display_data"
    }
   ],
   "source": [
    "# Plot the statistics of category\n",
    "sns.countplot(data=df,y='category')"
   ]
  },
  {
   "cell_type": "code",
   "execution_count": 9,
   "metadata": {},
   "outputs": [
    {
     "name": "stdout",
     "output_type": "stream",
     "text": [
      "Category: ENT\n",
      "un tribunal de l'illinois aux etats-unis a jugé philip morris premier cigarettier américain coupable d'avoir trompé les fumeurs en leur laissant croire que les cigarettes légères étaient plus saines que les normales philip morris a été condamné à payer 10,1 milliards de dollars de dommages et intérêts dont 7,1 milliards aux fumeurs et 3 milliards à l'etat de l'illinois\n",
      "\n",
      "Category: ART\n",
      "les deux sociétés civiles chargées de gérer les droits des artistes interprètes l'adami et la spedidam ainsi que deux syndicats d'artistes la sfa-cgt et le snam ont demandé l'arrêt immédiat de l'utilisation en france de dispositifs anti-copie sur le marché du disque ces organisations réclament également la suppression des mesures techniques de protection ... qui dégradent la copie obtenue utilisées par l'industrie du disque sous le prétexte de lutte contre la piraterie\n",
      "\n",
      "Category: UNE\n",
      "la prolongation de la guerre en irak affecte gravement la conjoncture économique publié lundi 31 mars l'indice européen qui mesure le moral des chefs d'entreprise et des consommateurs pour la zone euro accuse une baisse de 0,6 point en mars en france l ' indicateur résumé de l'opinion des ménages publié mardi par l'insee est tombé de 26 points en février à 32 en mars son plus bas niveau depuis décembre 1996 nous sommes face à une rupture de croissance comme nous n'en avons jamais connu dans notre histoire récente a admis jean-pierre raffarin les marchés boursiers européens étaient eux aussi lundi en baisse\n"
     ]
    }
   ],
   "source": [
    "# Print examples of the articles\n",
    "print (\"Category:\",df.iloc[100]['category'])\n",
    "print (df.iloc[100]['text'])\n",
    "print ()\n",
    "print (\"Category:\",df.iloc[10000]['category'])\n",
    "print (df.iloc[10000]['text'])\n",
    "print ()\n",
    "print (\"Category:\",df.iloc[5008]['category'])\n",
    "print (df.iloc[5008]['text'])\n"
   ]
  },
  {
   "cell_type": "markdown",
   "metadata": {},
   "source": [
    "## Bag-of-word representation\n",
    "\n",
    "In order to apply machine learning algorithms to text, documents must be transformed into vectors. The most simple and standard way to transform a document into a vector is the *bag-of-word* encoding.\n",
    "\n",
    "The idea is very simple : \n",
    "\n",
    "1. define the set of all the possible words that can appear in a document; denote its size by `max_features`.\n",
    "2. for each document,  encode it with a vector of size `max_features`, with the value of the ith component of the vector equal to the number of time the ith word appears in the document.\n",
    "\n",
    "See [the wikipedia article on Bag-of-word](https://en.wikipedia.org/wiki/Bag-of-words_model) for an example.\n",
    "\n",
    "Scikit-learn proposes different methods to encode text into vectors : [CountVectorizer](http://scikit-learn.org/stable/modules/generated/sklearn.feature_extraction.text.CountVectorizer.html) and [TfidfTransformer](http://scikit-learn.org/stable/modules/generated/sklearn.feature_extraction.text.TfidfTransformer.html).\n",
    "\n",
    "The encoder must first be trained on the train set and applied to the different sets, for example with the 1000  words : \n",
    "\n",
    "\tfrom sklearn.feature_extraction.text import CountVectorizer\n",
    "\tvectorizer = CountVectorizer(max_features=1000)\n",
    "    vectorizer.fit(X_train)\n",
    "    X_train_counts = vectorizer.transform(X_train)\n",
    "    X_test_counts = vectorizer.transform(X_test)\n",
    "        \n",
    "**Question**:\n",
    "\n",
    "> * Split the dataset LeMonde2003 into train/dev/test set. \n",
    "> * For each set, transform the text of the articles into vectors using the `CountVectorizer` with `max_features=1000` words.\n",
    "\n"
   ]
  },
  {
   "cell_type": "code",
   "execution_count": 10,
   "metadata": {},
   "outputs": [
    {
     "name": "stdout",
     "output_type": "stream",
     "text": [
      "train size (18099, 2)\n",
      "dev size (6033, 2)\n",
      "test size (6033, 2)\n"
     ]
    }
   ],
   "source": [
    "from sklearn.model_selection import train_test_split\n",
    "# Split the dataset (X and y together)\n",
    "df_train, df_test = train_test_split(df ,test_size=0.20, random_state=42)\n",
    "df_train_hyper, df_dev = train_test_split(df_train ,test_size=0.25, random_state=42)\n",
    "\n",
    "print ('train size',df_train_hyper.shape)\n",
    "print ('dev size', df_dev.shape)\n",
    "print ('test size', df_test.shape)"
   ]
  },
  {
   "cell_type": "code",
   "execution_count": 11,
   "metadata": {},
   "outputs": [],
   "source": [
    "# create features X and target y\n",
    "X_train = df_train_hyper.text\n",
    "X_dev = df_dev.text\n",
    "X_test = df_test.text\n",
    "y_train = df_train_hyper.category\n",
    "y_dev = df_dev.category\n",
    "y_test = df_test.category\n",
    "\n",
    "X_train_dev = df_train.text\n",
    "y_train_dev = df_train.category\n"
   ]
  },
  {
   "cell_type": "code",
   "execution_count": 12,
   "metadata": {},
   "outputs": [],
   "source": [
    "# train a Naive Bayes classifier\n",
    "from sklearn.naive_bayes import MultinomialNB\n",
    "from sklearn.feature_extraction.text import CountVectorizer\n",
    "# create the vectorizer object\n",
    "vectorizer = CountVectorizer(max_features=2000)\n",
    "# fit on train data\n",
    "vectorizer.fit(X_train)\n",
    "# apply it on train and dev data\n",
    "X_train_counts = vectorizer.transform(X_train)\n",
    "X_dev_counts = vectorizer.transform(X_dev)\n"
   ]
  },
  {
   "cell_type": "code",
   "execution_count": 13,
   "metadata": {},
   "outputs": [
    {
     "data": {
      "text/plain": [
       "{'analyzer': 'word',\n",
       " 'binary': False,\n",
       " 'decode_error': 'strict',\n",
       " 'dtype': numpy.int64,\n",
       " 'encoding': 'utf-8',\n",
       " 'input': 'content',\n",
       " 'lowercase': True,\n",
       " 'max_df': 1.0,\n",
       " 'max_features': 2000,\n",
       " 'min_df': 1,\n",
       " 'ngram_range': (1, 1),\n",
       " 'preprocessor': None,\n",
       " 'stop_words': None,\n",
       " 'strip_accents': None,\n",
       " 'token_pattern': '(?u)\\\\b\\\\w\\\\w+\\\\b',\n",
       " 'tokenizer': None,\n",
       " 'vocabulary': None}"
      ]
     },
     "execution_count": 13,
     "metadata": {},
     "output_type": "execute_result"
    }
   ],
   "source": [
    "vectorizer.get_params()"
   ]
  },
  {
   "cell_type": "code",
   "execution_count": 14,
   "metadata": {},
   "outputs": [
    {
     "name": "stdout",
     "output_type": "stream",
     "text": [
      "parmi les photos qui illustrent dans super warhol l'effervescence de la factory plusieurs ont saisi john cale et ses allures de comte transylvanien à la fin des années 1960 quand le gallois était l'inquiétant bassiste et altiste du velvet underground invité le 24 juillet à jouer sur la scène installée sous la verrière du grimaldi forum le chanteur sexagénaire nez busqué regard intense n'a pas l'air beaucoup plus commode qu'à l'époque où il insufflait au rock new-yorkais son goût des distorsions et de la musique répétitive hérité de sa fréquentation de créateurs comme john cage ou lamonte young en souvenir de ces années où par l'entremise d'andy warhol l'avant-garde artistique et la littérature côtoyaient pour la première fois le rock'n'roll john cale conduit de son alto électrique la procession décadente de venus in furs tiré de l'album fondateur the velvet underground nico quand lou reed jouissait de ces perversions avec une distance désincarnée cale suggère des tourments plus terriens de sa voix basse légèrement nasale ce timbre à la fierté sombre a toujours été l'un des atouts d'une carrière solo commencée en 1970 mais restée obstinément dans l'ombre malgré des disques paris 1919 slow dazzle music for a new society qui témoignaient parfois magnifiquement de cicatrices intérieures dans cette discographie deux live exceptionnels ont livré deux facettes du personnage sabotage en 1979 hurlait en groupe une violence proche de l'aliénation enregistré seul au piano et à la guitare fragments of a rainy season 1992 resculptait dans l'apaisement ses meilleures chansons sur la scène du grimaldi forum john cale et son nouveau groupe ont du mal à déterminer une esthétique la faute à la sonorisation problématique de cette pyramide de verre saturée de résonances la faute aussi à un coupable manque d'implication on espérait un blues plus fracturé de sa version de walking the dog une classe plus altière de paris 1919 en choisissant une voie médium le chanteur tour à tour aux claviers à la basse et à la guitare génère plus de brouillon que d'étincelles il dessert également les chansons tirées de hobosapiens nouvel album à paraître fin septembre signant un retour réussi au rock après plusieurs années consacrées à des musiques de films et des pièces néoclassiques dylan thomas et picasso trente-cinq ans d'un répertoire marqué par le romantisme le cabaret le folk ombrageux et le chaos électrique offrent tout de même de bons moments le funk concassé de gun ou la douceur élégiaque de do not go gentle into that good night adapté d'un poème de dylan thomas à ce concert légèrement bâclé musicien précieux john cale figure en bonne place dans l'histoire du rock pour avoir produit une poignée de premiers albums mythiques comme ceux des stooges ou de patti smith etrangement le sommet du concert sera sa conclusion une version détonnante de pablo picasso pablo picasso never got called an asshole titre des modern lovers de jonathan richman fan transi du velvet qui voyait en 1971 ses premières maquettes produites par john cale sans avoir jeté un oeil à la superbe exposition ni accordé un rappel celui qui à la mort de warhol composa avec lou reed le disque hommage songs for drella filera ensuite dans la nuit monégasque\n",
      "  (0, 13)\t1\n",
      "  (0, 17)\t1\n",
      "  (0, 37)\t1\n",
      "  (0, 113)\t1\n",
      "  (0, 119)\t2\n",
      "  (0, 142)\t1\n",
      "  (0, 154)\t3\n",
      "  (0, 155)\t1\n",
      "  (0, 164)\t1\n",
      "  (0, 206)\t3\n",
      "  (0, 221)\t1\n",
      "  (0, 231)\t1\n",
      "  (0, 236)\t1\n",
      "  (0, 237)\t2\n",
      "  (0, 245)\t2\n",
      "  (0, 259)\t1\n",
      "  (0, 277)\t1\n",
      "  (0, 308)\t1\n",
      "  (0, 312)\t2\n",
      "  (0, 316)\t1\n",
      "  (0, 328)\t2\n",
      "  (0, 331)\t2\n",
      "  (0, 332)\t1\n",
      "  (0, 346)\t2\n",
      "  (0, 375)\t1\n",
      "  :\t:\n",
      "  (0, 1673)\t1\n",
      "  (0, 1674)\t1\n",
      "  (0, 1680)\t3\n",
      "  (0, 1682)\t1\n",
      "  (0, 1718)\t1\n",
      "  (0, 1719)\t3\n",
      "  (0, 1731)\t1\n",
      "  (0, 1757)\t2\n",
      "  (0, 1801)\t2\n",
      "  (0, 1807)\t1\n",
      "  (0, 1814)\t1\n",
      "  (0, 1816)\t2\n",
      "  (0, 1818)\t1\n",
      "  (0, 1833)\t1\n",
      "  (0, 1856)\t8\n",
      "  (0, 1857)\t8\n",
      "  (0, 1881)\t1\n",
      "  (0, 1883)\t2\n",
      "  (0, 1904)\t1\n",
      "  (0, 1915)\t1\n",
      "  (0, 1921)\t1\n",
      "  (0, 1957)\t1\n",
      "  (0, 1970)\t1\n",
      "  (0, 1980)\t1\n",
      "  (0, 1991)\t1\n",
      "most frequent word = de\n"
     ]
    }
   ],
   "source": [
    "# Print one sample text\n",
    "print (X_train.iloc[10000])\n",
    "# and its Count (sparse) representation \n",
    "print (X_train_counts[10000])\n",
    "# Inverse vocabulary \n",
    "terms = np.array(list(vectorizer.vocabulary_.keys()))\n",
    "indices = np.array(list(vectorizer.vocabulary_.values()))\n",
    "inverse_vocabulary = terms[np.argsort(indices)]\n",
    "most_frequent = X_train_counts[10000].argmax()\n",
    "print (\"most frequent word =\",inverse_vocabulary[most_frequent])"
   ]
  },
  {
   "cell_type": "code",
   "execution_count": 15,
   "metadata": {},
   "outputs": [
    {
     "name": "stdout",
     "output_type": "stream",
     "text": [
      "Train accuracy 0.7633570915520195\n",
      "Dev accuracy 0.7495441737112548\n"
     ]
    }
   ],
   "source": [
    "# define a mutlinomial Naive Bayes\n",
    "clf = MultinomialNB()\n",
    "# Train \n",
    "clf.fit(X_train_counts,y_train)\n",
    "# Evaluate \n",
    "print (\"Train accuracy\",clf.score(X_train_counts,y_train))\n",
    "print (\"Dev accuracy\",clf.score(X_dev_counts,y_dev))"
   ]
  },
  {
   "cell_type": "markdown",
   "metadata": {},
   "source": [
    "## TF-IDF representation\n",
    "\n",
    "The `CountVectorizer` encodes the text using the raw frequencies of the words. However, words that are very frequent and appear in all the documents will have a strong weight whereas they are not discriminative. The *Term-Frequency Inverse-Document-Frequency* weighting scheme take into accound the number of documents in which a given word occurs. A word that appear in many document will have less weight. See [the wikipedia page](https://en.wikipedia.org/wiki/Tf%E2%80%93idf) for more details.\n",
    "\n",
    "With scikit-learn, the `TfidfTransformer` is applied after the `CountVectorizer` :\n",
    "\n",
    "\tfrom sklearn.feature_extraction.text import TfidfTransformer\n",
    "\ttf_transformer = TfidfTransformer().fit(X_train_counts)\n",
    " \tX_train_tf = tf_transformer.transform(X_train_counts)\n",
    "\tX_test_tf = tf_transformer.transform(X_test_counts)\n",
    "\t\n",
    "**Question**:\n",
    "\n",
    "> * Use the TF-IDF representation to train a Multinomial Naive Bayes classifier. Report your best test error rate and the error rates for all the configurations tested.\n"
   ]
  },
  {
   "cell_type": "code",
   "execution_count": 16,
   "metadata": {},
   "outputs": [
    {
     "name": "stdout",
     "output_type": "stream",
     "text": [
      "Train score 0.7855682634399691\n",
      "Dev score 0.7724183656555611\n"
     ]
    }
   ],
   "source": [
    "from sklearn.feature_extraction.text import TfidfVectorizer\n",
    "from sklearn.feature_extraction.text import TfidfTransformer\n",
    "from sklearn.metrics import accuracy_score\n",
    "alpha = 0.001\n",
    "max_words =2000\n",
    "max_df = 1.0\n",
    "min_df = 0.0\n",
    "vectorizer = CountVectorizer(max_features=max_words,max_df=max_df,min_df=min_df)\n",
    "vectorizer.fit(X_train)\n",
    "X_train_counts = vectorizer.transform(X_train)\n",
    "X_dev_counts = vectorizer.transform(X_dev)\n",
    "\n",
    "tf_transformer = TfidfTransformer().fit(X_train_counts)\n",
    "X_train_tf = tf_transformer.transform(X_train_counts)\n",
    "X_dev_tf = tf_transformer.transform(X_dev_counts)\n",
    "                 \n",
    "clf = MultinomialNB(alpha=alpha)\n",
    "clf.fit(X_train_tf, y_train)\n",
    "predict_train = clf.predict(X_train_tf)\n",
    "print (\"Train score\",accuracy_score(y_train,predict_train))\n",
    "predict_dev = clf.predict(X_dev_tf)\n",
    "print (\"Dev score\",accuracy_score(y_dev,predict_dev))"
   ]
  },
  {
   "cell_type": "markdown",
   "metadata": {},
   "source": [
    "## Error analysis\n",
    "\n",
    "The classification error rate give an evaluation of the performance for all the classes. But since the classes are not equally distributed, they may not be equally well modelized. In order to get a better idea of the performance of the classifier, detailed metrics must be used : \n",
    "\n",
    "* [metrics.classification_report](http://scikit-learn.org/stable/modules/generated/sklearn.metrics.classification_report.html) provides a detailed analysis per class : the precision (amongst all the example classified as class X, how many are really from the classX) and the recall (amongst all the example that are from the class X, how many are classified as class X) and the F-Score which is as a weighted harmonic mean of the precision and recall.\n",
    "* [metrics.confusion_matrix](http://scikit-learn.org/stable/modules/generated/sklearn.metrics.confusion_matrix.html) which give the confusions between the classes.\n",
    "\n",
    "**Question**:\n",
    "\n",
    "> * Report the `classification_report` for your  classifier. Which classes have the best scores ? Why ?\n",
    "> * Report the `confusion_matrix` for your  classifier. Which classes are the most confused ? Why ?\n"
   ]
  },
  {
   "cell_type": "code",
   "execution_count": 17,
   "metadata": {},
   "outputs": [
    {
     "name": "stdout",
     "output_type": "stream",
     "text": [
      "              precision    recall  f1-score   support\n",
      "\n",
      "         ART       0.78      0.91      0.84       870\n",
      "         ENT       0.82      0.87      0.85      1301\n",
      "         FRA       0.64      0.72      0.68       741\n",
      "         INT       0.79      0.88      0.83      1445\n",
      "         SOC       0.70      0.70      0.70       779\n",
      "         SPO       0.92      0.83      0.87       472\n",
      "         UNE       0.54      0.02      0.03       425\n",
      "\n",
      "    accuracy                           0.77      6033\n",
      "   macro avg       0.74      0.70      0.69      6033\n",
      "weighted avg       0.76      0.77      0.75      6033\n",
      "\n"
     ]
    }
   ],
   "source": [
    "from sklearn.metrics import classification_report\n",
    "print(classification_report(y_dev,predict_dev))"
   ]
  },
  {
   "cell_type": "code",
   "execution_count": 18,
   "metadata": {},
   "outputs": [
    {
     "name": "stdout",
     "output_type": "stream",
     "text": [
      "[[ 789   20   23   27    7    2    2]\n",
      " [  32 1134   49   56   24    6    0]\n",
      " [  14   52  531   46   95    3    0]\n",
      " [  23   68   44 1265   44    0    1]\n",
      " [  34   34  108   57  544    2    0]\n",
      " [  16   25    2   15   21  390    3]\n",
      " [  99   46   70  143   38   22    7]]\n"
     ]
    }
   ],
   "source": [
    "from sklearn.metrics import confusion_matrix\n",
    "conf_mat = confusion_matrix(y_dev,predict_dev)\n",
    "print (conf_mat)"
   ]
  },
  {
   "cell_type": "code",
   "execution_count": 19,
   "metadata": {},
   "outputs": [
    {
     "name": "stdout",
     "output_type": "stream",
     "text": [
      "[[ 789   20   23   27    7    2    2]\n",
      " [  32 1134   49   56   24    6    0]\n",
      " [  14   52  531   46   95    3    0]\n",
      " [  23   68   44 1265   44    0    1]\n",
      " [  34   34  108   57  544    2    0]\n",
      " [  16   25    2   15   21  390    3]\n",
      " [  99   46   70  143   38   22    7]]\n"
     ]
    },
    {
     "data": {
      "image/png": "[encoded data removed]",
      "text/plain": [
       "<Figure size 432x288 with 2 Axes>"
      ]
     },
     "metadata": {
      "needs_background": "light"
     },
     "output_type": "display_data"
    }
   ],
   "source": [
    "# Better display of the confusion matrix\n",
    "import itertools\n",
    "import numpy as np\n",
    "import matplotlib.pyplot as plt\n",
    "def plot_confusion_matrix(cm, classes,\n",
    "                          title='Confusion matrix',\n",
    "                          cmap=plt.cm.Blues):\n",
    "    \"\"\"\n",
    "    This function prints and plots the confusion matrix.\n",
    "    \"\"\"\n",
    "    print(cm)\n",
    "    plt.imshow(cm, interpolation='nearest', cmap=cmap)\n",
    "    plt.title(title)\n",
    "    plt.colorbar()\n",
    "    tick_marks = np.arange(len(classes))\n",
    "    plt.xticks(tick_marks, classes, rotation=45)\n",
    "    plt.yticks(tick_marks, classes)\n",
    "\n",
    "  \n",
    "    thresh = cm.max() / 2.\n",
    "    for i, j in itertools.product(range(cm.shape[0]), range(cm.shape[1])):\n",
    "        plt.text(j, i, format(cm[i, j], 'd'),\n",
    "                 horizontalalignment=\"center\",\n",
    "                 color=\"white\" if cm[i, j] > thresh else \"black\")\n",
    "    plt.tight_layout()\n",
    "    plt.ylabel('True label')\n",
    "    plt.xlabel('Predicted label')\n",
    "plot_confusion_matrix(conf_mat,classes=sorted(y_train.unique()))"
   ]
  },
  {
   "cell_type": "markdown",
   "metadata": {},
   "source": [
    "## Hyperparameter optimization\n",
    "\n",
    "The classification process has many parameters : alpha for the classifier, max_words, max_df, min_df, ngram orders for the Count of TfIDF transformer. These parameters can be optimized by a grid search using GridSearchCV."
   ]
  },
  {
   "cell_type": "code",
   "execution_count": null,
   "metadata": {},
   "outputs": [],
   "source": [
    "# Hyperameters optimization with GridSearchCV = parallel processing\n",
    "from sklearn.model_selection import GridSearchCV\n",
    "from sklearn.pipeline import Pipeline\n",
    "from pprint import pprint\n",
    "from time import time\n",
    "import logging\n",
    "# Display progress logs on stdout\n",
    "logging.basicConfig(level=logging.INFO,\n",
    "                    format='%(asctime)s %(levelname)s %(message)s')\n",
    "\n",
    "\n",
    "pipeline = Pipeline([\n",
    "    ('vect', CountVectorizer()),\n",
    "    ('tfidf', TfidfTransformer()),\n",
    "    ('clf', MultinomialNB()),\n",
    "])\n",
    "\n",
    "\n",
    "parameters = {\n",
    "    'vect__max_df': (0.5, 0.75, 1.0),\n",
    "    'vect__max_features': (None, 5000, 10000, 50000),\n",
    "    'vect__ngram_range': ((1, 1), (1, 2)),  # unigrams or bigrams\n",
    "    'tfidf__use_idf': (True, False),\n",
    "    'tfidf__norm': ('l1', 'l2'),\n",
    "    'clf__alpha': (0.0001, 0.001,0.01,0.1)\n",
    "}\n",
    "if __name__ == \"__main__\":\n",
    "    # multiprocessing requires the fork to happen in a __main__ protected\n",
    "    # block\n",
    "\n",
    "    # find the best parameters for both the feature extraction and the\n",
    "    # classifier\n",
    "    grid_search = GridSearchCV(pipeline, parameters, n_jobs=-1, verbose=2)\n",
    "\n",
    "    print(\"Performing grid search...\")\n",
    "    print(\"pipeline:\", [name for name, _ in pipeline.steps])\n",
    "    print(\"parameters:\")\n",
    "    pprint(parameters)\n",
    "    t0 = time()\n",
    "    grid_search.fit(X_train_dev[:1000], y_train_dev[:1000])\n",
    "    print(\"done in %0.3fs\" % (time() - t0))\n",
    "    print()\n",
    "\n",
    "    print(\"Best score: %0.3f\" % grid_search.best_score_)\n",
    "    print(\"Best parameters set:\")\n",
    "    best_parameters = grid_search.best_estimator_.get_params()\n",
    "    for param_name in sorted(parameters.keys()):\n",
    "        print(\"\\t%s: %r\" % (param_name, best_parameters[param_name]))"
   ]
  }
 ],
 "metadata": {
  "kernelspec": {
   "display_name": "Python 3",
   "language": "python",
   "name": "python3"
  },
  "language_info": {
   "codemirror_mode": {
    "name": "ipython",
    "version": 3
   },
   "file_extension": ".py",
   "mimetype": "text/x-python",
   "name": "python",
   "nbconvert_exporter": "python",
   "pygments_lexer": "ipython3",
   "version": "3.7.9"
  }
 },
 "nbformat": 4,
 "nbformat_minor": 2
}
