{
 "cells": [
  {
   "cell_type": "code",
   "execution_count": null,
   "metadata": {
    "collapsed": true
   },
   "outputs": [],
   "source": [
    "# load the libraries\n",
    "import pandas as pd\n",
    "import seaborn as sns\n",
    "from sklearn.neighbors import KNeighborsClassifier"
   ]
  },
  {
   "cell_type": "code",
   "execution_count": null,
   "metadata": {
    "collapsed": true
   },
   "outputs": [],
   "source": [
    "# create the dataset\n",
    "df = pd.DataFrame([[1,1.0,'1'],[3,1,'1'],[2,2,'1'],[2,3,'1'],[5,3,'2'],[7,3,'2'],[6,4,'2'],[5,6,'2'],[6,2,'?'],[3.5,3,'?']],\n",
    "                  columns=['length','width','class'],\n",
    "                  index=['A','B','C','E','F','G','H','J','D','I']\n",
    "                 )"
   ]
  },
  {
   "cell_type": "code",
   "execution_count": null,
   "metadata": {},
   "outputs": [],
   "source": [
    "# print the data set\n",
    "df"
   ]
  },
  {
   "cell_type": "code",
   "execution_count": null,
   "metadata": {
    "collapsed": true
   },
   "outputs": [],
   "source": [
    "# define the train and test sets\n",
    "X_train = df[#INSERT DATA RANGE][[#INSERT COLUMN NAME]]\n",
    "y_train = df[#INSERT DATA RANGE][[#INSERT COLUMN NAME]]\n",
    "X_test = df[#INSERT DATA RANGE][[#INSERT COLUMN NAME]]\n",
    "y_test = df[#INSERT DATA RANGE][[#INSERT COLUMN NAME]]"
   ]
  },
  {
   "cell_type": "code",
   "execution_count": null,
   "metadata": {},
   "outputs": [],
   "source": [
    "# check the sizes\n",
    "len(X_train), len(y_train), len(X_test), len(y_test)"
   ]
  },
  {
   "cell_type": "code",
   "execution_count": null,
   "metadata": {
    "collapsed": true
   },
   "outputs": [],
   "source": [
    "# define the classifier with its parameter k = 2\n",
    "clf = KNeighborsClassifier(n_neighbors=2)\n",
    "# train the classifier onf \n",
    "clf.fit(X_train,y_train)"
   ]
  },
  {
   "cell_type": "code",
   "execution_count": null,
   "metadata": {
    "collapsed": true
   },
   "outputs": [],
   "source": [
    "clf.predict(X_test)"
   ]
  }
 ],
 "metadata": {
  "kernelspec": {
   "display_name": "Python 3",
   "language": "python",
   "name": "python3"
  },
  "language_info": {
   "codemirror_mode": {
    "name": "ipython",
    "version": 3
   },
   "file_extension": ".py",
   "mimetype": "text/x-python",
   "name": "python",
   "nbconvert_exporter": "python",
   "pygments_lexer": "ipython3",
   "version": "3.6.2"
  }
 },
 "nbformat": 4,
 "nbformat_minor": 2
}
