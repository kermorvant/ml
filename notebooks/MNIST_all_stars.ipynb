{
 "cells": [
  {
   "cell_type": "markdown",
   "metadata": {},
   "source": [
    "## Experiments on the MNIST dataset\n",
    "\n",
    "The goal of the notebook is to train  several classifiers on the classical MNIST database. This database is very popular in the machine learning community as a first test for new algorithms. This dataset is quite simple and artificial : having good results on MNIST does not mean that your algorithm is good, but having bad results surely means that you have to improve your algorithm. You can find reference results on the MNIST dataset [here](http://yann.lecun.com/exdb/mnist/).\n",
    "\n",
    "\n",
    "### Libraries \n",
    "\n",
    "We will use the following libraries : \n",
    "* sklearn (scikit-learn) for machine learning algorithms\n",
    "* pandas for manipulating data\n",
    "* PIL for image processing\n",
    "* seaborn for graphs\n"
   ]
  },
  {
   "cell_type": "code",
   "execution_count": 47,
   "metadata": {
    "collapsed": true
   },
   "outputs": [],
   "source": [
    "from IPython.display import clear_output\n",
    "import itertools\n",
    "import matplotlib.pyplot as plt\n",
    "import numpy as np\n",
    "import os\n",
    "import pandas as pd\n",
    "from PIL import Image, ImageFilter\n",
    "from pprint import pprint\n",
    "import random\n",
    "import seaborn as sns\n",
    "from sklearn import metrics, neighbors, linear_model,svm\n",
    "from sklearn.naive_bayes import MultinomialNB\n",
    "from sklearn.model_selection import train_test_split, GridSearchCV\n",
    "from sklearn.metrics import confusion_matrix, classification_report\n",
    "from sklearn.model_selection import ShuffleSplit, StratifiedShuffleSplit\n",
    "from sklearn.preprocessing import StandardScaler\n",
    "from time import time\n",
    "\n",
    "%matplotlib inline"
   ]
  },
  {
   "cell_type": "markdown",
   "metadata": {},
   "source": [
    "### Feature extraction\n",
    "\n",
    "The first step is to extract features from the images to convert the image into a feature vector. The images all have the same size, 32x32 pixels. We reduce them to 8x8 pixels and use the 64 pixels values vector as the features. The function `extract_features_subresolution` process a given image and return the feature vector. The list of all the images is read from the file `Data/MNIST_all.csv`. The features are stored in a matrix `X` and the target class in a vector `y`.\n",
    "\n",
    "After loading the data, we plot the class distribution.\n"
   ]
  },
  {
   "cell_type": "code",
   "execution_count": 52,
   "metadata": {},
   "outputs": [
    {
     "data": {
      "application/vnd.jupyter.widget-view+json": {
       "model_id": "697acfc28a78433d808bc8b46e688fd4",
       "version_major": 2,
       "version_minor": 0
      },
      "text/html": [
       "<p>Failed to display Jupyter Widget of type <code>HBox</code>.</p>\n",
       "<p>\n",
       "  If you're reading this message in the Jupyter Notebook or JupyterLab Notebook, it may mean\n",
       "  that the widgets JavaScript is still loading. If this message persists, it\n",
       "  likely means that the widgets JavaScript library is either not installed or\n",
       "  not enabled. See the <a href=\"https://ipywidgets.readthedocs.io/en/stable/user_install.html\">Jupyter\n",
       "  Widgets Documentation</a> for setup instructions.\n",
       "</p>\n",
       "<p>\n",
       "  If you're reading this message in another frontend (for example, a static\n",
       "  rendering on GitHub or <a href=\"https://nbviewer.jupyter.org/\">NBViewer</a>),\n",
       "  it may mean that your frontend doesn't currently support widgets.\n",
       "</p>\n"
      ],
      "text/plain": [
       "HBox(children=(IntProgress(value=0, max=5000), HTML(value='')))"
      ]
     },
     "metadata": {},
     "output_type": "display_data"
    },
    {
     "name": "stdout",
     "output_type": "stream",
     "text": [
      "\n",
      "Feature size (5000, 196)\n",
      "Target size (5000,)\n"
     ]
    },
    {
     "data": {
      "image/png": "[encoded data removed]",
      "text/plain": [
       "<matplotlib.figure.Figure at 0x11a6819e8>"
      ]
     },
     "metadata": {},
     "output_type": "display_data"
    }
   ],
   "source": [
    "# Progress bar\n",
    "from tqdm import tqdm_notebook as tqdm\n",
    "\n",
    "def extract_features_subresolution(img,img_feature_size = (8, 8)):\n",
    "    \"\"\"\n",
    "    Compute the subresolution of an image and return it as a feature vector\n",
    "\n",
    "    :param img: the original image (can be color or gray)\n",
    "    :type img: pillow image\n",
    "    :return: pixel values of the image in subresolution\n",
    "    :rtype: list of int in [0,255]\n",
    "\n",
    "    \"\"\"\n",
    "    # reduce the image to a given size\n",
    "    reduced_img = img.resize(\n",
    "        img_feature_size, Image.BOX).filter(ImageFilter.SHARPEN)\n",
    "    # return the values of the reduced image as features\n",
    "    return [i for i in reduced_img.getdata()]\n",
    "\n",
    "READ_N_SAMPLES = 5000 # None for reading all samples\n",
    "IMAGES_DIR_PATH = '/Users/kermorvant/Work/ESILV/TP/TP_Classification'\n",
    "FEATURE_SIZE = 14\n",
    "all_df = pd.read_csv(\"../data/MNIST_all.csv\" ,header=None,names=['filename','class'],nrows=READ_N_SAMPLES)\n",
    "\n",
    "# plot class distriubtion\n",
    "sns.countplot(data=all_df,y='class')\n",
    "\n",
    "\n",
    "data = []\n",
    "\n",
    "\n",
    "for i_path in tqdm(all_df['filename']):\n",
    "    page_image = Image.open(os.path.join(IMAGES_DIR_PATH,i_path))\n",
    "    data.append(extract_features_subresolution(page_image,(FEATURE_SIZE,FEATURE_SIZE)))\n",
    "\n",
    "\n",
    "\n",
    "# convert to np.array\n",
    "X = np.array(data)\n",
    "y = all_df['class']\n",
    "\n",
    "print (\"Feature size\",X.shape)\n",
    "print (\"Target size\",y.shape)"
   ]
  },
  {
   "cell_type": "markdown",
   "metadata": {},
   "source": [
    "Let's have a look to the images after feature sub-resolution and check that our dataset is correct (the lables correspond to the image) : "
   ]
  },
  {
   "cell_type": "code",
   "execution_count": 69,
   "metadata": {},
   "outputs": [
    {
     "data": {
      "image/png": "[encoded data removed]",
      "text/plain": [
       "<matplotlib.figure.Figure at 0x11b935748>"
      ]
     },
     "metadata": {},
     "output_type": "display_data"
    }
   ],
   "source": [
    "images_to_plot = 18\n",
    "random_indices = random.sample(range(READ_N_SAMPLES), images_to_plot)\n",
    "\n",
    "sample_images = X[random_indices, :]\n",
    "sample_labels = y.loc[random_indices]\n",
    "\n",
    "fig, axes = plt.subplots(3,6, \n",
    "                        figsize=(10,5),\n",
    "                        sharex=True, sharey=True,\n",
    "                        subplot_kw=dict(adjustable='box-forced', aspect='equal')) \n",
    "\n",
    "for i in range(images_to_plot):\n",
    "    \n",
    "    subplot_row = i//6 \n",
    "    subplot_col = i%6  \n",
    "    ax = axes[subplot_row, subplot_col]\n",
    "\n",
    "    # plot image on subplot\n",
    "    plottable_image = np.reshape(sample_images[i,:], (FEATURE_SIZE,FEATURE_SIZE))\n",
    "    ax.imshow(plottable_image, cmap='gray_r')\n",
    "    \n",
    "    ax.set_title('Digit Label: {}'.format(sample_labels.iloc[i]))\n",
    "    ax.set_xbound([0,FEATURE_SIZE])\n",
    "\n",
    "plt.tight_layout()\n",
    "plt.show()"
   ]
  },
  {
   "cell_type": "markdown",
   "metadata": {},
   "source": [
    "### Train/dev/test split\n",
    "\n",
    "When training a classifier, the data **must** be separated into different sets : at least one training set and one test set. The split must be random and uniform, which means that the class distribution must be identical in the training and test sets.\n",
    "\n",
    "> * Use [`train_test_split`](http://scikit-learn.org/stable/modules/generated/sklearn.model_selection.train_test_split.html) to create `X_train/y_train` and `X_test/y_test`. Use 80% of the data for training and 20% for testing.\n",
    "> * Train a [k-nearest neighbors](http://scikit-learn.org/stable/modules/generated/sklearn.neighbors.KNeighborsClassifier.html) classififier with k=1\n",
    "> * Test the k-NN with k= 1 on both the training and the test set. Print the score produced by [`clf.score()`](http://scikit-learn.org/stable/modules/generated/sklearn.neighbors.KNeighborsClassifier.html#sklearn.neighbors.KNeighborsClassifier.score)\n",
    "\n",
    "When evaluating a classifier, it is important to report the error rate both on the training and the classification set. These values are needed to understand what is wrong with the classifier and how to improve it.\n"
   ]
  },
  {
   "cell_type": "code",
   "execution_count": 70,
   "metadata": {},
   "outputs": [
    {
     "name": "stdout",
     "output_type": "stream",
     "text": [
      "Train accuracy: 1.0\n",
      "Test accuracy: 0.925\n"
     ]
    }
   ],
   "source": [
    "test_percent = 0.2 # Your code here\n",
    "X_train, X_test, y_train, y_test = train_test_split(X, y, test_size=test_percent, random_state=42)\n",
    "\n",
    "# create a kNN classifier with a given k\n",
    "k = 1 # Your code here\n",
    "clf = neighbors.KNeighborsClassifier(k,n_jobs=-1)\n",
    "\n",
    "# Train the classifier on training set\n",
    "clf.fit(X_train,y_train)\n",
    "\n",
    "# Test on test set\n",
    "_predicted = clf.predict(X_train)\n",
    "print ('Train accuracy:',metrics.accuracy_score(y_train, _predicted))\n",
    "_predicted = clf.predict(X_test)\n",
    "print ('Test accuracy:',metrics.accuracy_score(y_test, _predicted))"
   ]
  },
  {
   "cell_type": "markdown",
   "metadata": {},
   "source": [
    "### Hyperparameter optimization\n",
    "\n",
    "\n",
    "The main parameter of the kNN algorithm is the number of neighbors (k). The best value for this parameter depends on the classification task and has to be found by trying different values and selecting the one with the best accuracy. However, this search for the best value **must not** be done on the set used to evaluate the classifier (the test set) but on a validation set. \n",
    "\n",
    "**Question** : \n",
    "\n",
    "\n",
    ">  * Create three sets : train set (60%), validation set (20%) and test set (20%), using twice `train_test_split`\n",
    ">  * Train a kNN classifier with different values of k and report the train/valid/test accuracy. \n",
    ">  * Select the is best value for k according to the accuracy on the dev set. Report the performance performance of the classifier on the test set for this value of k. "
   ]
  },
  {
   "cell_type": "code",
   "execution_count": 4,
   "metadata": {},
   "outputs": [
    {
     "name": "stdout",
     "output_type": "stream",
     "text": [
      "   train   dev  test\n",
      "1      1  0.86  0.86\n",
      "3   0.93  0.88  0.87\n",
      "5   0.91  0.88  0.88\n",
      "7    0.9  0.88  0.88\n",
      "9    0.9  0.87  0.88\n",
      "11  0.89  0.87  0.88\n"
     ]
    },
    {
     "data": {
      "image/png": "[encoded data removed]",
      "text/plain": [
       "<matplotlib.figure.Figure at 0x113252e10>"
      ]
     },
     "metadata": {},
     "output_type": "display_data"
    }
   ],
   "source": [
    "# Create Train/dev/test sets\n",
    "# YOUR CODE HERE\n",
    "X_train_dev, X_test, y_train_dev, y_test = train_test_split(X, y, test_size=0.2)\n",
    "# Create validation set so that train = 60% , validation = 20% and test =  20%\n",
    "X_train, X_dev, y_train, y_dev = train_test_split(X_train_dev, y_train_dev, test_size=0.25)\n",
    "\n",
    "\n",
    "#  list of k values to test\n",
    "k_values = [1,3,5,7,9,11] # YOUR CODE HERE\n",
    "\n",
    "# store the score in a dataframe\n",
    "df_scores = pd.DataFrame(columns=['train','dev','test'],index=k_values)\n",
    "\n",
    "# iterate on différent values of k\n",
    "for k in k_values:\n",
    "    print(\"k={}\".format(k))\n",
    "    \n",
    "    # create a kNN classifier with a given k\n",
    "    clf = neighbors.KNeighborsClassifier(k,n_jobs=-1) # YOUR CODE HERE\n",
    "    \n",
    "    # Train the classifier on training set\n",
    "    clf.fit(X_train,y_train) # YOUR CODE HERE\n",
    "    \n",
    "    # Compute the classification score on the different sets\n",
    "    for _name,_X,_y in [('train',X_train,y_train),('dev',X_dev,y_dev),('test',X_test,y_test)]:\n",
    "        df_scores.at[k,_name] = float(\"{:.2f}\".format(clf.score(_X,_y)))\n",
    "        clear_output(wait=True)\n",
    "        print(df_scores)\n",
    "_g = df_scores.plot()\n"
   ]
  },
  {
   "cell_type": "markdown",
   "metadata": {},
   "source": [
    "#### Pipelines\n",
    "\n",
    "scikit-learn has a special class for dealing with hyperparamter optimization :  [GridSearchCV](http://scikit-learn.org/stable/modules/generated/sklearn.model_selection.GridSearchCV.html).\n",
    "\n",
    "To use it, we first convert our feature extraction into a transformer, so that it can be included in the pipeline."
   ]
  },
  {
   "cell_type": "code",
   "execution_count": 72,
   "metadata": {
    "collapsed": true
   },
   "outputs": [],
   "source": [
    "from sklearn.base import TransformerMixin, BaseEstimator\n",
    "\n",
    "\n",
    "class SubresolFeatures(BaseEstimator, TransformerMixin):\n",
    "    def __init__(self,col_name='filename', image_dir_path=IMAGES_DIR_PATH,dim=8):\n",
    "        self.col_name = col_name\n",
    "        self.image_dir_path = image_dir_path\n",
    "        self.dim = dim\n",
    "        \n",
    "    def transform(self, X, *_):\n",
    "        data = []\n",
    "        for i_path in X[self.col_name]:\n",
    "            page_image = Image.open(os.path.join(self.image_dir_path,i_path))\n",
    "            data.append(extract_features_subresolution(page_image,(self.dim,self.dim)))\n",
    "        return np.array(data)\n",
    "    \n",
    "    def fit(self, *_):\n",
    "        return self"
   ]
  },
  {
   "cell_type": "markdown",
   "metadata": {},
   "source": [
    "The we define the different step of the pipeline and the different values of the parameters to be tested. "
   ]
  },
  {
   "cell_type": "code",
   "execution_count": 73,
   "metadata": {
    "collapsed": true
   },
   "outputs": [],
   "source": [
    "from sklearn.pipeline import Pipeline\n",
    "\n",
    "pipeline = Pipeline([\n",
    "    ('features', SubresolFeatures()),\n",
    "    ('clf', neighbors.KNeighborsClassifier())\n",
    "    \n",
    "])\n",
    "\n",
    "parameters = {\n",
    "    'features__dim': (8,),\n",
    "    'clf__n_neighbors':(1,)\n",
    "}\n"
   ]
  },
  {
   "cell_type": "markdown",
   "metadata": {},
   "source": [
    "Then, the GridSearchCV object will be fitted on the train set with all the possible combinaison of parameter values and evaluated on a validation set with cross validation. The train/dev spit and the cross-validation is done automatically. Progress can be monitored with greater values of the parameter verbose.\n",
    "\n",
    "**Question** : \n",
    "\n",
    "\n",
    ">  * explore reproduice the experiments on the parameter k from the previous question using GridSearchCV\n",
    ">  * add the exploration of different values of the feature dimension. "
   ]
  },
  {
   "cell_type": "code",
   "execution_count": 74,
   "metadata": {},
   "outputs": [
    {
     "name": "stdout",
     "output_type": "stream",
     "text": [
      "(4000, 2) (1000, 2) (4000,) (1000,)\n",
      "Performing grid search\n",
      "pipeline: ['features', 'clf']\n",
      "parameters:\n",
      "{'clf__n_neighbors': (1,), 'features__dim': (8,)}\n",
      "Fitting 3 folds for each of 1 candidates, totalling 3 fits\n"
     ]
    },
    {
     "name": "stderr",
     "output_type": "stream",
     "text": [
      "[Parallel(n_jobs=-1)]: Done   3 out of   3 | elapsed:    3.6s finished\n"
     ]
    },
    {
     "name": "stdout",
     "output_type": "stream",
     "text": [
      "done in 4.563s\n",
      "                                        params  mean_train_score  \\\n",
      "0  {'clf__n_neighbors': 1, 'features__dim': 8}               1.0   \n",
      "\n",
      "   mean_test_score  \n",
      "0          0.86025  \n",
      "Grid scores on development set:\n",
      "\n",
      "0.860 (+/-0.003) for {'clf__n_neighbors': 1, 'features__dim': 8}\n",
      "\n",
      "Best score: 0.860\n",
      "Best parameters set:\n",
      "\tclf__n_neighbors: 1\n",
      "\tfeatures__dim: 8\n",
      "             precision    recall  f1-score   support\n",
      "\n",
      "          0       0.98      0.93      0.95       109\n",
      "          1       0.96      0.92      0.94       120\n",
      "          2       0.89      0.95      0.92        93\n",
      "          3       0.82      0.86      0.84       101\n",
      "          4       0.88      0.87      0.88        93\n",
      "          5       0.82      0.86      0.84        87\n",
      "          6       0.93      0.95      0.94        88\n",
      "          7       0.84      0.81      0.82       110\n",
      "          8       0.82      0.87      0.84        93\n",
      "          9       0.78      0.73      0.75       106\n",
      "\n",
      "avg / total       0.87      0.87      0.87      1000\n",
      "\n",
      "\n"
     ]
    }
   ],
   "source": [
    "\n",
    "if __name__ == \"__main__\":\n",
    "    # multiprocessing requires the fork to happen in a __main__ protected\n",
    "    # block\n",
    "\n",
    "    # find the best parameters for both the feature extraction and the\n",
    "    # classifier\n",
    "    grid_search = GridSearchCV(pipeline, parameters, n_jobs=-1, verbose=1)\n",
    "\n",
    "    df_train_dev, df_test, y_train_dev, y_test = train_test_split(all_df, all_df['class'], test_size=0.2)\n",
    "    \n",
    "    print (df_train_dev.shape,df_test.shape,y_train_dev.shape,y_test.shape)\n",
    "    print(\"Performing grid search\")\n",
    "    print(\"pipeline:\", [name for name, _ in pipeline.steps])\n",
    "    print(\"parameters:\")\n",
    "    pprint(parameters)\n",
    "    t0 = time()\n",
    "    grid_search.fit( df_train_dev,  y_train_dev)\n",
    "    print(\"done in %0.3fs\" % (time() - t0))\n",
    "    all_score = pd.DataFrame(grid_search.cv_results_)\n",
    "    print (all_score[['params','mean_train_score','mean_test_score']])\n",
    "    \n",
    "    # Print all experiments results\n",
    "    print(\"Grid scores on development set:\")\n",
    "    print()\n",
    "    means = grid_search.cv_results_['mean_test_score']\n",
    "    stds = grid_search.cv_results_['std_test_score']\n",
    "    for mean, std, params in zip(means, stds, grid_search.cv_results_['params']):\n",
    "        print(\"%0.3f (+/-%0.03f) for %r\"\n",
    "              % (mean, std * 2, params))\n",
    "    print()\n",
    "    \n",
    "    # Print best experiment results\n",
    "    print(\"Best score: %0.3f\" % grid_search.best_score_)\n",
    "    print(\"Best parameters set:\")\n",
    "    best_parameters = grid_search.best_estimator_.get_params()\n",
    "    for param_name in sorted(parameters.keys()):\n",
    "        print(\"\\t%s: %r\" % (param_name, best_parameters[param_name]))\n",
    "        \n",
    "    # predict on test with best parameters\n",
    "    y_pred = grid_search.predict(df_test)\n",
    "    print(classification_report(y_pred, y_test))\n",
    "    print()\n"
   ]
  },
  {
   "cell_type": "code",
   "execution_count": 75,
   "metadata": {},
   "outputs": [
    {
     "name": "stdout",
     "output_type": "stream",
     "text": [
      "(4000, 2) (1000, 2) (4000,) (1000,)\n",
      "Performing grid search\n",
      "pipeline: ['features', 'clf']\n",
      "parameters:\n",
      "[{'clf__C': [1, 10, 100, 1000],\n",
      "  'clf__gamma': [0.001, 0.0001],\n",
      "  'clf__kernel': ['rbf'],\n",
      "  'features__dim': (16,)},\n",
      " {'clf__C': [1, 10, 100, 1000],\n",
      "  'clf__kernel': ['linear'],\n",
      "  'features__dim': (8,)}]\n",
      "Fitting 3 folds for each of 12 candidates, totalling 36 fits\n",
      "[CV] clf__C=1, clf__gamma=0.001, clf__kernel=rbf, features__dim=16 ...\n",
      "[CV] clf__C=1, clf__gamma=0.001, clf__kernel=rbf, features__dim=16 ...\n",
      "[CV] clf__C=1, clf__gamma=0.001, clf__kernel=rbf, features__dim=16 ...\n",
      "[CV] clf__C=1, clf__gamma=0.0001, clf__kernel=rbf, features__dim=16 ..\n",
      "[CV]  clf__C=1, clf__gamma=0.001, clf__kernel=rbf, features__dim=16, total=   7.8s\n",
      "[CV] clf__C=1, clf__gamma=0.0001, clf__kernel=rbf, features__dim=16 ..\n",
      "[CV]  clf__C=1, clf__gamma=0.001, clf__kernel=rbf, features__dim=16, total=   7.8s\n",
      "[CV] clf__C=1, clf__gamma=0.0001, clf__kernel=rbf, features__dim=16 ..\n",
      "[CV]  clf__C=1, clf__gamma=0.001, clf__kernel=rbf, features__dim=16, total=   7.8s\n",
      "[CV] clf__C=10, clf__gamma=0.001, clf__kernel=rbf, features__dim=16 ..\n",
      "[CV]  clf__C=1, clf__gamma=0.0001, clf__kernel=rbf, features__dim=16, total=   7.9s\n",
      "[CV] clf__C=10, clf__gamma=0.001, clf__kernel=rbf, features__dim=16 ..\n",
      "[CV]  clf__C=1, clf__gamma=0.0001, clf__kernel=rbf, features__dim=16, total=   9.1s\n",
      "[CV] clf__C=10, clf__gamma=0.001, clf__kernel=rbf, features__dim=16 ..\n",
      "[CV]  clf__C=10, clf__gamma=0.001, clf__kernel=rbf, features__dim=16, total=   9.1s\n",
      "[CV] clf__C=10, clf__gamma=0.0001, clf__kernel=rbf, features__dim=16 .\n",
      "[CV]  clf__C=1, clf__gamma=0.0001, clf__kernel=rbf, features__dim=16, total=   9.4s\n",
      "[CV] clf__C=10, clf__gamma=0.0001, clf__kernel=rbf, features__dim=16 .\n",
      "[CV]  clf__C=10, clf__gamma=0.001, clf__kernel=rbf, features__dim=16, total=   9.5s\n",
      "[CV] clf__C=10, clf__gamma=0.0001, clf__kernel=rbf, features__dim=16 .\n",
      "[CV]  clf__C=10, clf__gamma=0.001, clf__kernel=rbf, features__dim=16, total=   8.3s\n",
      "[CV] clf__C=100, clf__gamma=0.001, clf__kernel=rbf, features__dim=16 .\n",
      "[CV]  clf__C=10, clf__gamma=0.0001, clf__kernel=rbf, features__dim=16, total=   9.5s\n",
      "[CV] clf__C=100, clf__gamma=0.001, clf__kernel=rbf, features__dim=16 .\n",
      "[CV]  clf__C=10, clf__gamma=0.0001, clf__kernel=rbf, features__dim=16, total=   9.5s\n",
      "[CV] clf__C=100, clf__gamma=0.001, clf__kernel=rbf, features__dim=16 .\n",
      "[CV]  clf__C=10, clf__gamma=0.0001, clf__kernel=rbf, features__dim=16, total=   9.5s\n",
      "[CV] clf__C=100, clf__gamma=0.0001, clf__kernel=rbf, features__dim=16 \n",
      "[CV]  clf__C=100, clf__gamma=0.001, clf__kernel=rbf, features__dim=16, total=   8.4s\n",
      "[CV] clf__C=100, clf__gamma=0.0001, clf__kernel=rbf, features__dim=16 \n",
      "[CV]  clf__C=100, clf__gamma=0.001, clf__kernel=rbf, features__dim=16, total=   9.3s\n",
      "[CV] clf__C=100, clf__gamma=0.0001, clf__kernel=rbf, features__dim=16 \n",
      "[CV]  clf__C=100, clf__gamma=0.001, clf__kernel=rbf, features__dim=16, total=   9.3s\n",
      "[CV] clf__C=1000, clf__gamma=0.001, clf__kernel=rbf, features__dim=16 \n",
      "[CV]  clf__C=100, clf__gamma=0.0001, clf__kernel=rbf, features__dim=16, total=   9.4s\n",
      "[CV] clf__C=1000, clf__gamma=0.001, clf__kernel=rbf, features__dim=16 \n",
      "[CV]  clf__C=100, clf__gamma=0.0001, clf__kernel=rbf, features__dim=16, total=   8.4s\n",
      "[CV] clf__C=1000, clf__gamma=0.001, clf__kernel=rbf, features__dim=16 \n",
      "[CV]  clf__C=1000, clf__gamma=0.001, clf__kernel=rbf, features__dim=16, total=   8.9s\n",
      "[CV] clf__C=1000, clf__gamma=0.0001, clf__kernel=rbf, features__dim=16 \n",
      "[CV]  clf__C=100, clf__gamma=0.0001, clf__kernel=rbf, features__dim=16, total=   9.1s\n",
      "[CV] clf__C=1000, clf__gamma=0.0001, clf__kernel=rbf, features__dim=16 \n",
      "[CV]  clf__C=1000, clf__gamma=0.001, clf__kernel=rbf, features__dim=16, total=   9.3s\n",
      "[CV] clf__C=1000, clf__gamma=0.0001, clf__kernel=rbf, features__dim=16 \n",
      "[CV]  clf__C=1000, clf__gamma=0.001, clf__kernel=rbf, features__dim=16, total=   8.6s\n",
      "[CV] clf__C=1, clf__kernel=linear, features__dim=8 ...................\n",
      "[CV]  clf__C=1000, clf__gamma=0.0001, clf__kernel=rbf, features__dim=16, total=   9.0s\n",
      "[CV] clf__C=1, clf__kernel=linear, features__dim=8 ...................\n",
      "[CV]  clf__C=1000, clf__gamma=0.0001, clf__kernel=rbf, features__dim=16, total=   9.1s\n",
      "[CV] clf__C=1, clf__kernel=linear, features__dim=8 ...................\n",
      "[CV]  clf__C=1000, clf__gamma=0.0001, clf__kernel=rbf, features__dim=16, total=   9.3s\n",
      "[CV] clf__C=10, clf__kernel=linear, features__dim=8 ..................\n",
      "[CV] .... clf__C=1, clf__kernel=linear, features__dim=8, total= 5.6min\n",
      "[CV] clf__C=10, clf__kernel=linear, features__dim=8 ..................\n",
      "[CV] .... clf__C=1, clf__kernel=linear, features__dim=8, total= 7.3min\n",
      "[CV] clf__C=10, clf__kernel=linear, features__dim=8 ..................\n",
      "[CV] .... clf__C=1, clf__kernel=linear, features__dim=8, total= 8.2min\n",
      "[CV] clf__C=100, clf__kernel=linear, features__dim=8 .................\n",
      "[CV] ... clf__C=10, clf__kernel=linear, features__dim=8, total=37.6min\n",
      "[CV] clf__C=100, clf__kernel=linear, features__dim=8 .................\n"
     ]
    },
    {
     "ename": "KeyboardInterrupt",
     "evalue": "",
     "output_type": "error",
     "traceback": [
      "\u001b[0;31m---------------------------------------------------------------------------\u001b[0m",
      "\u001b[0;31mKeyboardInterrupt\u001b[0m                         Traceback (most recent call last)",
      "\u001b[0;32m<ipython-input-75-1da6f07d7f36>\u001b[0m in \u001b[0;36m<module>\u001b[0;34m()\u001b[0m\n\u001b[1;32m     37\u001b[0m     \u001b[0mpprint\u001b[0m\u001b[0;34m(\u001b[0m\u001b[0mparameters\u001b[0m\u001b[0;34m)\u001b[0m\u001b[0;34m\u001b[0m\u001b[0m\n\u001b[1;32m     38\u001b[0m     \u001b[0mt0\u001b[0m \u001b[0;34m=\u001b[0m \u001b[0mtime\u001b[0m\u001b[0;34m(\u001b[0m\u001b[0;34m)\u001b[0m\u001b[0;34m\u001b[0m\u001b[0m\n\u001b[0;32m---> 39\u001b[0;31m     \u001b[0mgrid_search\u001b[0m\u001b[0;34m.\u001b[0m\u001b[0mfit\u001b[0m\u001b[0;34m(\u001b[0m \u001b[0mdf_train_dev\u001b[0m\u001b[0;34m,\u001b[0m  \u001b[0my_train_dev\u001b[0m\u001b[0;34m)\u001b[0m\u001b[0;34m\u001b[0m\u001b[0m\n\u001b[0m\u001b[1;32m     40\u001b[0m     \u001b[0mprint\u001b[0m\u001b[0;34m(\u001b[0m\u001b[0;34m\"done in %0.3fs\"\u001b[0m \u001b[0;34m%\u001b[0m \u001b[0;34m(\u001b[0m\u001b[0mtime\u001b[0m\u001b[0;34m(\u001b[0m\u001b[0;34m)\u001b[0m \u001b[0;34m-\u001b[0m \u001b[0mt0\u001b[0m\u001b[0;34m)\u001b[0m\u001b[0;34m)\u001b[0m\u001b[0;34m\u001b[0m\u001b[0m\n\u001b[1;32m     41\u001b[0m     \u001b[0mall_score\u001b[0m \u001b[0;34m=\u001b[0m \u001b[0mpd\u001b[0m\u001b[0;34m.\u001b[0m\u001b[0mDataFrame\u001b[0m\u001b[0;34m(\u001b[0m\u001b[0mgrid_search\u001b[0m\u001b[0;34m.\u001b[0m\u001b[0mcv_results_\u001b[0m\u001b[0;34m)\u001b[0m\u001b[0;34m\u001b[0m\u001b[0m\n",
      "\u001b[0;32m/Library/Frameworks/Python.framework/Versions/3.6/lib/python3.6/site-packages/sklearn/model_selection/_search.py\u001b[0m in \u001b[0;36mfit\u001b[0;34m(self, X, y, groups)\u001b[0m\n\u001b[1;32m    943\u001b[0m             \u001b[0mtrain\u001b[0m\u001b[0;34m/\u001b[0m\u001b[0mtest\u001b[0m \u001b[0mset\u001b[0m\u001b[0;34m.\u001b[0m\u001b[0;34m\u001b[0m\u001b[0m\n\u001b[1;32m    944\u001b[0m         \"\"\"\n\u001b[0;32m--> 945\u001b[0;31m         \u001b[0;32mreturn\u001b[0m \u001b[0mself\u001b[0m\u001b[0;34m.\u001b[0m\u001b[0m_fit\u001b[0m\u001b[0;34m(\u001b[0m\u001b[0mX\u001b[0m\u001b[0;34m,\u001b[0m \u001b[0my\u001b[0m\u001b[0;34m,\u001b[0m \u001b[0mgroups\u001b[0m\u001b[0;34m,\u001b[0m \u001b[0mParameterGrid\u001b[0m\u001b[0;34m(\u001b[0m\u001b[0mself\u001b[0m\u001b[0;34m.\u001b[0m\u001b[0mparam_grid\u001b[0m\u001b[0;34m)\u001b[0m\u001b[0;34m)\u001b[0m\u001b[0;34m\u001b[0m\u001b[0m\n\u001b[0m\u001b[1;32m    946\u001b[0m \u001b[0;34m\u001b[0m\u001b[0m\n\u001b[1;32m    947\u001b[0m \u001b[0;34m\u001b[0m\u001b[0m\n",
      "\u001b[0;32m/Library/Frameworks/Python.framework/Versions/3.6/lib/python3.6/site-packages/sklearn/model_selection/_search.py\u001b[0m in \u001b[0;36m_fit\u001b[0;34m(self, X, y, groups, parameter_iterable)\u001b[0m\n\u001b[1;32m    562\u001b[0m                                   \u001b[0mreturn_times\u001b[0m\u001b[0;34m=\u001b[0m\u001b[0;32mTrue\u001b[0m\u001b[0;34m,\u001b[0m \u001b[0mreturn_parameters\u001b[0m\u001b[0;34m=\u001b[0m\u001b[0;32mTrue\u001b[0m\u001b[0;34m,\u001b[0m\u001b[0;34m\u001b[0m\u001b[0m\n\u001b[1;32m    563\u001b[0m                                   error_score=self.error_score)\n\u001b[0;32m--> 564\u001b[0;31m           \u001b[0;32mfor\u001b[0m \u001b[0mparameters\u001b[0m \u001b[0;32min\u001b[0m \u001b[0mparameter_iterable\u001b[0m\u001b[0;34m\u001b[0m\u001b[0m\n\u001b[0m\u001b[1;32m    565\u001b[0m           for train, test in cv_iter)\n\u001b[1;32m    566\u001b[0m \u001b[0;34m\u001b[0m\u001b[0m\n",
      "\u001b[0;32m/Library/Frameworks/Python.framework/Versions/3.6/lib/python3.6/site-packages/sklearn/externals/joblib/parallel.py\u001b[0m in \u001b[0;36m__call__\u001b[0;34m(self, iterable)\u001b[0m\n\u001b[1;32m    766\u001b[0m                 \u001b[0;31m# consumption.\u001b[0m\u001b[0;34m\u001b[0m\u001b[0;34m\u001b[0m\u001b[0m\n\u001b[1;32m    767\u001b[0m                 \u001b[0mself\u001b[0m\u001b[0;34m.\u001b[0m\u001b[0m_iterating\u001b[0m \u001b[0;34m=\u001b[0m \u001b[0;32mFalse\u001b[0m\u001b[0;34m\u001b[0m\u001b[0m\n\u001b[0;32m--> 768\u001b[0;31m             \u001b[0mself\u001b[0m\u001b[0;34m.\u001b[0m\u001b[0mretrieve\u001b[0m\u001b[0;34m(\u001b[0m\u001b[0;34m)\u001b[0m\u001b[0;34m\u001b[0m\u001b[0m\n\u001b[0m\u001b[1;32m    769\u001b[0m             \u001b[0;31m# Make sure that we get a last message telling us we are done\u001b[0m\u001b[0;34m\u001b[0m\u001b[0;34m\u001b[0m\u001b[0m\n\u001b[1;32m    770\u001b[0m             \u001b[0melapsed_time\u001b[0m \u001b[0;34m=\u001b[0m \u001b[0mtime\u001b[0m\u001b[0;34m.\u001b[0m\u001b[0mtime\u001b[0m\u001b[0;34m(\u001b[0m\u001b[0;34m)\u001b[0m \u001b[0;34m-\u001b[0m \u001b[0mself\u001b[0m\u001b[0;34m.\u001b[0m\u001b[0m_start_time\u001b[0m\u001b[0;34m\u001b[0m\u001b[0m\n",
      "\u001b[0;32m/Library/Frameworks/Python.framework/Versions/3.6/lib/python3.6/site-packages/sklearn/externals/joblib/parallel.py\u001b[0m in \u001b[0;36mretrieve\u001b[0;34m(self)\u001b[0m\n\u001b[1;32m    717\u001b[0m                     \u001b[0mensure_ready\u001b[0m \u001b[0;34m=\u001b[0m \u001b[0mself\u001b[0m\u001b[0;34m.\u001b[0m\u001b[0m_managed_backend\u001b[0m\u001b[0;34m\u001b[0m\u001b[0m\n\u001b[1;32m    718\u001b[0m                     \u001b[0mbackend\u001b[0m\u001b[0;34m.\u001b[0m\u001b[0mabort_everything\u001b[0m\u001b[0;34m(\u001b[0m\u001b[0mensure_ready\u001b[0m\u001b[0;34m=\u001b[0m\u001b[0mensure_ready\u001b[0m\u001b[0;34m)\u001b[0m\u001b[0;34m\u001b[0m\u001b[0m\n\u001b[0;32m--> 719\u001b[0;31m                 \u001b[0;32mraise\u001b[0m \u001b[0mexception\u001b[0m\u001b[0;34m\u001b[0m\u001b[0m\n\u001b[0m\u001b[1;32m    720\u001b[0m \u001b[0;34m\u001b[0m\u001b[0m\n\u001b[1;32m    721\u001b[0m     \u001b[0;32mdef\u001b[0m \u001b[0m__call__\u001b[0m\u001b[0;34m(\u001b[0m\u001b[0mself\u001b[0m\u001b[0;34m,\u001b[0m \u001b[0miterable\u001b[0m\u001b[0;34m)\u001b[0m\u001b[0;34m:\u001b[0m\u001b[0;34m\u001b[0m\u001b[0m\n",
      "\u001b[0;32m/Library/Frameworks/Python.framework/Versions/3.6/lib/python3.6/site-packages/sklearn/externals/joblib/parallel.py\u001b[0m in \u001b[0;36mretrieve\u001b[0;34m(self)\u001b[0m\n\u001b[1;32m    680\u001b[0m                 \u001b[0;31m# check if timeout supported in backend future implementation\u001b[0m\u001b[0;34m\u001b[0m\u001b[0;34m\u001b[0m\u001b[0m\n\u001b[1;32m    681\u001b[0m                 \u001b[0;32mif\u001b[0m \u001b[0;34m'timeout'\u001b[0m \u001b[0;32min\u001b[0m \u001b[0mgetfullargspec\u001b[0m\u001b[0;34m(\u001b[0m\u001b[0mjob\u001b[0m\u001b[0;34m.\u001b[0m\u001b[0mget\u001b[0m\u001b[0;34m)\u001b[0m\u001b[0;34m.\u001b[0m\u001b[0margs\u001b[0m\u001b[0;34m:\u001b[0m\u001b[0;34m\u001b[0m\u001b[0m\n\u001b[0;32m--> 682\u001b[0;31m                     \u001b[0mself\u001b[0m\u001b[0;34m.\u001b[0m\u001b[0m_output\u001b[0m\u001b[0;34m.\u001b[0m\u001b[0mextend\u001b[0m\u001b[0;34m(\u001b[0m\u001b[0mjob\u001b[0m\u001b[0;34m.\u001b[0m\u001b[0mget\u001b[0m\u001b[0;34m(\u001b[0m\u001b[0mtimeout\u001b[0m\u001b[0;34m=\u001b[0m\u001b[0mself\u001b[0m\u001b[0;34m.\u001b[0m\u001b[0mtimeout\u001b[0m\u001b[0;34m)\u001b[0m\u001b[0;34m)\u001b[0m\u001b[0;34m\u001b[0m\u001b[0m\n\u001b[0m\u001b[1;32m    683\u001b[0m                 \u001b[0;32melse\u001b[0m\u001b[0;34m:\u001b[0m\u001b[0;34m\u001b[0m\u001b[0m\n\u001b[1;32m    684\u001b[0m                     \u001b[0mself\u001b[0m\u001b[0;34m.\u001b[0m\u001b[0m_output\u001b[0m\u001b[0;34m.\u001b[0m\u001b[0mextend\u001b[0m\u001b[0;34m(\u001b[0m\u001b[0mjob\u001b[0m\u001b[0;34m.\u001b[0m\u001b[0mget\u001b[0m\u001b[0;34m(\u001b[0m\u001b[0;34m)\u001b[0m\u001b[0;34m)\u001b[0m\u001b[0;34m\u001b[0m\u001b[0m\n",
      "\u001b[0;32m/Library/Frameworks/Python.framework/Versions/3.6/lib/python3.6/multiprocessing/pool.py\u001b[0m in \u001b[0;36mget\u001b[0;34m(self, timeout)\u001b[0m\n\u001b[1;32m    636\u001b[0m \u001b[0;34m\u001b[0m\u001b[0m\n\u001b[1;32m    637\u001b[0m     \u001b[0;32mdef\u001b[0m \u001b[0mget\u001b[0m\u001b[0;34m(\u001b[0m\u001b[0mself\u001b[0m\u001b[0;34m,\u001b[0m \u001b[0mtimeout\u001b[0m\u001b[0;34m=\u001b[0m\u001b[0;32mNone\u001b[0m\u001b[0;34m)\u001b[0m\u001b[0;34m:\u001b[0m\u001b[0;34m\u001b[0m\u001b[0m\n\u001b[0;32m--> 638\u001b[0;31m         \u001b[0mself\u001b[0m\u001b[0;34m.\u001b[0m\u001b[0mwait\u001b[0m\u001b[0;34m(\u001b[0m\u001b[0mtimeout\u001b[0m\u001b[0;34m)\u001b[0m\u001b[0;34m\u001b[0m\u001b[0m\n\u001b[0m\u001b[1;32m    639\u001b[0m         \u001b[0;32mif\u001b[0m \u001b[0;32mnot\u001b[0m \u001b[0mself\u001b[0m\u001b[0;34m.\u001b[0m\u001b[0mready\u001b[0m\u001b[0;34m(\u001b[0m\u001b[0;34m)\u001b[0m\u001b[0;34m:\u001b[0m\u001b[0;34m\u001b[0m\u001b[0m\n\u001b[1;32m    640\u001b[0m             \u001b[0;32mraise\u001b[0m \u001b[0mTimeoutError\u001b[0m\u001b[0;34m\u001b[0m\u001b[0m\n",
      "\u001b[0;32m/Library/Frameworks/Python.framework/Versions/3.6/lib/python3.6/multiprocessing/pool.py\u001b[0m in \u001b[0;36mwait\u001b[0;34m(self, timeout)\u001b[0m\n\u001b[1;32m    633\u001b[0m \u001b[0;34m\u001b[0m\u001b[0m\n\u001b[1;32m    634\u001b[0m     \u001b[0;32mdef\u001b[0m \u001b[0mwait\u001b[0m\u001b[0;34m(\u001b[0m\u001b[0mself\u001b[0m\u001b[0;34m,\u001b[0m \u001b[0mtimeout\u001b[0m\u001b[0;34m=\u001b[0m\u001b[0;32mNone\u001b[0m\u001b[0;34m)\u001b[0m\u001b[0;34m:\u001b[0m\u001b[0;34m\u001b[0m\u001b[0m\n\u001b[0;32m--> 635\u001b[0;31m         \u001b[0mself\u001b[0m\u001b[0;34m.\u001b[0m\u001b[0m_event\u001b[0m\u001b[0;34m.\u001b[0m\u001b[0mwait\u001b[0m\u001b[0;34m(\u001b[0m\u001b[0mtimeout\u001b[0m\u001b[0;34m)\u001b[0m\u001b[0;34m\u001b[0m\u001b[0m\n\u001b[0m\u001b[1;32m    636\u001b[0m \u001b[0;34m\u001b[0m\u001b[0m\n\u001b[1;32m    637\u001b[0m     \u001b[0;32mdef\u001b[0m \u001b[0mget\u001b[0m\u001b[0;34m(\u001b[0m\u001b[0mself\u001b[0m\u001b[0;34m,\u001b[0m \u001b[0mtimeout\u001b[0m\u001b[0;34m=\u001b[0m\u001b[0;32mNone\u001b[0m\u001b[0;34m)\u001b[0m\u001b[0;34m:\u001b[0m\u001b[0;34m\u001b[0m\u001b[0m\n",
      "\u001b[0;32m/Library/Frameworks/Python.framework/Versions/3.6/lib/python3.6/threading.py\u001b[0m in \u001b[0;36mwait\u001b[0;34m(self, timeout)\u001b[0m\n\u001b[1;32m    549\u001b[0m             \u001b[0msignaled\u001b[0m \u001b[0;34m=\u001b[0m \u001b[0mself\u001b[0m\u001b[0;34m.\u001b[0m\u001b[0m_flag\u001b[0m\u001b[0;34m\u001b[0m\u001b[0m\n\u001b[1;32m    550\u001b[0m             \u001b[0;32mif\u001b[0m \u001b[0;32mnot\u001b[0m \u001b[0msignaled\u001b[0m\u001b[0;34m:\u001b[0m\u001b[0;34m\u001b[0m\u001b[0m\n\u001b[0;32m--> 551\u001b[0;31m                 \u001b[0msignaled\u001b[0m \u001b[0;34m=\u001b[0m \u001b[0mself\u001b[0m\u001b[0;34m.\u001b[0m\u001b[0m_cond\u001b[0m\u001b[0;34m.\u001b[0m\u001b[0mwait\u001b[0m\u001b[0;34m(\u001b[0m\u001b[0mtimeout\u001b[0m\u001b[0;34m)\u001b[0m\u001b[0;34m\u001b[0m\u001b[0m\n\u001b[0m\u001b[1;32m    552\u001b[0m             \u001b[0;32mreturn\u001b[0m \u001b[0msignaled\u001b[0m\u001b[0;34m\u001b[0m\u001b[0m\n\u001b[1;32m    553\u001b[0m \u001b[0;34m\u001b[0m\u001b[0m\n",
      "\u001b[0;32m/Library/Frameworks/Python.framework/Versions/3.6/lib/python3.6/threading.py\u001b[0m in \u001b[0;36mwait\u001b[0;34m(self, timeout)\u001b[0m\n\u001b[1;32m    293\u001b[0m         \u001b[0;32mtry\u001b[0m\u001b[0;34m:\u001b[0m    \u001b[0;31m# restore state no matter what (e.g., KeyboardInterrupt)\u001b[0m\u001b[0;34m\u001b[0m\u001b[0m\n\u001b[1;32m    294\u001b[0m             \u001b[0;32mif\u001b[0m \u001b[0mtimeout\u001b[0m \u001b[0;32mis\u001b[0m \u001b[0;32mNone\u001b[0m\u001b[0;34m:\u001b[0m\u001b[0;34m\u001b[0m\u001b[0m\n\u001b[0;32m--> 295\u001b[0;31m                 \u001b[0mwaiter\u001b[0m\u001b[0;34m.\u001b[0m\u001b[0macquire\u001b[0m\u001b[0;34m(\u001b[0m\u001b[0;34m)\u001b[0m\u001b[0;34m\u001b[0m\u001b[0m\n\u001b[0m\u001b[1;32m    296\u001b[0m                 \u001b[0mgotit\u001b[0m \u001b[0;34m=\u001b[0m \u001b[0;32mTrue\u001b[0m\u001b[0;34m\u001b[0m\u001b[0m\n\u001b[1;32m    297\u001b[0m             \u001b[0;32melse\u001b[0m\u001b[0;34m:\u001b[0m\u001b[0;34m\u001b[0m\u001b[0m\n",
      "\u001b[0;31mKeyboardInterrupt\u001b[0m: "
     ]
    }
   ],
   "source": [
    "pipeline = Pipeline([\n",
    "    ('features', SubresolFeatures()),\n",
    "    ('clf', svm.SVC())\n",
    "   \n",
    "    \n",
    "])\n",
    "\n",
    "\n",
    "parameters = [\n",
    "        {\n",
    "         'features__dim': (16,),\n",
    "         'clf__kernel': ['rbf'],\n",
    "         'clf__gamma': [1e-3, 1e-4],\n",
    "         'clf__C': [1, 10, 100, 1000]\n",
    "        },\n",
    "        {\n",
    "        'features__dim': (8,),\n",
    "        'clf__kernel': ['linear'],\n",
    "        'clf__C': [1, 10, 100, 1000]\n",
    "        }]\n",
    "\n",
    "\n",
    "if __name__ == \"__main__\":\n",
    "    # multiprocessing requires the fork to happen in a __main__ protected\n",
    "    # block\n",
    "\n",
    "    # find the best parameters for both the feature extraction and the\n",
    "    # classifier\n",
    "    grid_search = GridSearchCV(pipeline, parameters, n_jobs=-1, verbose=2)\n",
    "\n",
    "    df_train_dev, df_test, y_train_dev, y_test = train_test_split(all_df, all_df['class'], test_size=0.2)\n",
    "    \n",
    "    print (df_train_dev.shape,df_test.shape,y_train_dev.shape,y_test.shape)\n",
    "    print(\"Performing grid search\")\n",
    "    print(\"pipeline:\", [name for name, _ in pipeline.steps])\n",
    "    print(\"parameters:\")\n",
    "    pprint(parameters)\n",
    "    t0 = time()\n",
    "    grid_search.fit( df_train_dev,  y_train_dev)\n",
    "    print(\"done in %0.3fs\" % (time() - t0))\n",
    "    all_score = pd.DataFrame(grid_search.cv_results_)\n",
    "    print (all_score[['params','mean_train_score','mean_test_score']])\n",
    "    \n",
    "    # Print all experiments results\n",
    "    print(\"Grid scores on development set:\")\n",
    "    print()\n",
    "    means = grid_search.cv_results_['mean_test_score']\n",
    "    stds = grid_search.cv_results_['std_test_score']\n",
    "    for mean, std, params in zip(means, stds, grid_search.cv_results_['params']):\n",
    "        print(\"%0.3f (+/-%0.03f) for %r\"\n",
    "              % (mean, std * 2, params))\n",
    "    print()\n",
    "    \n",
    "    # Print best experiment results\n",
    "    print(\"Best score: %0.3f\" % grid_search.best_score_)\n",
    "    print(\"Best parameters set:\")\n",
    "    print(grid_search.best_estimator_.get_params())\n",
    "    \n",
    "        \n",
    "    # predict on test with best parameters\n",
    "    y_pred = grid_search.predict(df_test)\n",
    "    print(classification_report(y_pred, y_test))\n",
    "    print()\n"
   ]
  },
  {
   "cell_type": "code",
   "execution_count": null,
   "metadata": {
    "collapsed": true
   },
   "outputs": [],
   "source": []
  }
 ],
 "metadata": {
  "kernelspec": {
   "display_name": "Python 3",
   "language": "python",
   "name": "python3"
  },
  "language_info": {
   "codemirror_mode": {
    "name": "ipython",
    "version": 3
   },
   "file_extension": ".py",
   "mimetype": "text/x-python",
   "name": "python",
   "nbconvert_exporter": "python",
   "pygments_lexer": "ipython3",
   "version": "3.6.2"
  }
 },
 "nbformat": 4,
 "nbformat_minor": 2
}
